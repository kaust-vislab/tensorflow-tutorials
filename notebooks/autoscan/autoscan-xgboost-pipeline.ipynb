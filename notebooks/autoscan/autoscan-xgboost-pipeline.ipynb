{
 "cells": [
  {
   "cell_type": "code",
   "execution_count": 1,
   "metadata": {},
   "outputs": [],
   "source": [
    "import os\n",
    "import pickle\n",
    "from urllib import request\n",
    "\n",
    "import matplotlib.pyplot as plt\n",
    "import numpy as np\n",
    "import pandas as pd\n",
    "from pandas.api import types\n",
    "from sklearn import compose, dummy, ensemble, impute, metrics, model_selection, pipeline, preprocessing\n",
    "from sklearn.externals import joblib\n",
    "import xgboost as xgb"
   ]
  },
  {
   "cell_type": "code",
   "execution_count": 2,
   "metadata": {},
   "outputs": [],
   "source": [
    "%matplotlib notebook"
   ]
  },
  {
   "cell_type": "markdown",
   "metadata": {},
   "source": [
    "In the process you will learn a bit about the [scikit-learn](https://scikit-learn.org/stable/index.html) API as well as how to use [XGBoost](https://xgboost.readthedocs.io/en/latest/index.html). XGBoost is an optimized distributed gradient boosting library that implements machine learning algorithms under the [Gradient Boosting](https://en.wikipedia.org/wiki/Gradient_boosting) framework."
   ]
  },
  {
   "cell_type": "markdown",
   "metadata": {},
   "source": [
    "# 1. Look at the \"Big Picture\"\n",
    "\n",
    "## What are we trying to accomplish? \n",
    "\n",
    "Objective is to follow a path laid out by the NERSC [autoscan](http://portal.nersc.gov/project/dessn/autoscan/) project (HT to engineers from [Dessa](https://medium.com/@dessa_/space-2-vec-fd900f5566) for making me aware of the autoscan project and for motivating the code in this notebook) and build a model capable of detecting [Type Ia Supernovae (SNe Ia)](https://en.wikipedia.org/wiki/Type_Ia_supernova) from image data produced by the [Dark Energy Survey Supernova (DES-SN)](https://www.darkenergysurvey.org/) program so that we can reduce the amount of human time required to manually examine image data for presence of super novae.\n",
    "\n",
    "## How will the solution be used?\n",
    "\n",
    "Our model will be one piece of a much larger data analysis pipeline discussed in [Goldstein et al (2015)](https://arxiv.org/pdf/1504.02936.pdf) \n",
    "\n",
    "<img src=./assets/goldstein-et-al-2015-figure-2.png>\n",
    "\n",
    "## What are the current solutions?\n",
    "\n",
    "Typically scientists _manually_ identify interesting moving objects in the sky from imaging survey data by visually inspecting images for relevant signatures. However, recent advances in telescopes, detectors, and HPCs have led to a dramatic rise in the data production rates of imaging surveys and any manual steps in data analysis pipelines are now significant bottlenecks.\n"
   ]
  },
  {
   "cell_type": "markdown",
   "metadata": {},
   "source": [
    "### Question:\n",
    "\n",
    "Is this a problem a **supervised** or **unsupervised** learning problem? Are we faced with a **classification** task or a **regression** task, or something else? Should we use **batch** learning or **online** learning techniques?\n",
    "\n",
    "### Answers:\n",
    "\n",
    "Since we are working with labeled data we are dealing with a supervised learning problem; since we wish to classify whether an image contains a Type Ia supernova we are faced with a classification task. At present there is no real-time, streaming aspect to the data so we can use batch learning techniques (however one could imagine that online learning might be useful in the future given that the raw data is collected nightly)."
   ]
  },
  {
   "cell_type": "markdown",
   "metadata": {},
   "source": [
    "## How should we measure performance?\n",
    "\n",
    "Serveral [performance metrics](https://scikit-learn.org/stable/modules/model_evaluation.html#classification-metrics) typically considered for supervised classification problems: [precision](https://scikit-learn.org/stable/modules/generated/sklearn.metrics.precision_recall_curve.html#sklearn.metrics.precision_recall_curve), [recall](https://scikit-learn.org/stable/modules/generated/sklearn.metrics.recall_score.html#sklearn.metrics.recall_score), false-positive rate (FPR), missed detection rate (MDR) (**N.B.** MDR = 1 - recall = TPR). The [receiver-operating characteristic (ROC) curve](https://scikit-learn.org/stable/modules/generated/sklearn.metrics.roc_curve.html#sklearn.metrics.roc_curve) visually trades-off the FPR and TPR. We can compute the [area under the ROC curve](https://scikit-learn.org/stable/modules/generated/sklearn.metrics.roc_auc_score.html#sklearn.metrics.roc_auc_score) and use it as our overall measure of classifier performance.\n",
    "\n",
    "Remember that our \"business objective\" is to minimize the human time spent manually examining images for the presence of super novae. So whilst area under the ROC curve is a good metric to optimize when choosing the best classifier, we will also measure the performance of the classifier in terms of the number of hours of human time saved. We want to save human time but not at the expense of throwing away too many images containing super novae: not more than 1% of images containing super novae can be lost! Formally this corresponds to choosing a decision boundary of our tuned classifier such that that classifier has a 99% recall rate."
   ]
  },
  {
   "cell_type": "markdown",
   "metadata": {},
   "source": [
    "# 2. Get the Data"
   ]
  },
  {
   "cell_type": "markdown",
   "metadata": {},
   "source": [
    "## Downloading the data\n",
    "\n",
    "All of the data can be downloaded from the NERSC [autoscan](http://portal.nersc.gov/project/dessn/autoscan/) project website. In this notebook we will work with the engineered features from the [Goldstein et al (2015)](https://arxiv.org/pdf/1504.02936.pdf) paper."
   ]
  },
  {
   "cell_type": "code",
   "execution_count": 3,
   "metadata": {},
   "outputs": [],
   "source": [
    "raw_data_path = \"../data/raw\"\n",
    "if not os.path.isfile(f\"{raw_data_path}/autoscan_features.2.csv\"):\n",
    "    os.makedirs(raw_data_path)\n",
    "    url = \"http://portal.nersc.gov/project/dessn/autoscan/autoscan_features.2.csv\"\n",
    "    _ = request.urlretrieve(url, f\"{raw_data_path}/autoscan_features.2.csv\")"
   ]
  },
  {
   "cell_type": "code",
   "execution_count": 4,
   "metadata": {},
   "outputs": [
    {
     "name": "stdout",
     "output_type": "stream",
     "text": [
      "# autoscan training data\r\n",
      "# use the id column to cross-match rows with thumbnails\r\n",
      "# object_type gives the class of the row\r\n",
      "# object_type = 0: artifact\r\n",
      "# object_type = 1: non-artifact\r\n",
      "# remaining 38 columns defined in section 3 and table 2 of companion paper \r\n",
      "ID,OBJECT_TYPE,AMP,A_IMAGE,A_REF,BAND,B_IMAGE,B_REF,CCDID,COLMEDS,DIFFSUMRN,ELLIPTICITY,FLAGS,FLUX_RATIO,GAUSS,GFLUX,L1,LACOSMIC,MAG,MAGDIFF,MAGLIM,MAG_FROM_LIMIT,MAG_REF,MAG_REF_ERR,MASKFRAC,MIN_DISTANCE_TO_EDGE_IN_NEW,N2SIG3,N2SIG3SHIFT,N2SIG5,N2SIG5SHIFT,N3SIG3,N3SIG3SHIFT,N3SIG5,N3SIG5SHIFT,NN_DIST_RENORM,NUMNEGRN,SCALE,SNR,SPREADERR_MODEL,SPREAD_MODEL\r\n",
      "10742010,0,0.8083234429359436,1.5080000162124634,2.65006947517395,i,0.949999988079071,1.8995014429092407,10,0.11207699775695801,25.857545852661133,0.37002652883529663,0,0.2590300440788269,226.4202880859375,1.0089635848999023,103.80699920654297,1.736109972000122,23.031299591064453,-0.4524995982646942,0,1.6222000122070312,22.578800201416016,0.11959999799728394,0.0,559.7000122070312,0,-7,0,-8,0,-8,0,-9,0.6749339699745178,22,2.0241222381591797,7.722346305847168,0.004628799855709076,-0.0037175000179558992\r\n",
      "8828139,0,0.9751405715942383,1.4299999475479126,,i,1.319000005722046,,10,0.07225590199232101,38.029022216796875,0.07762233912944794,0,220.24276733398438,43.06105422973633,1.0001180171966553,114.33100128173828,2.197319984436035,23.262500762939453,2.0355987548828125,1,2.0355987548828125,,,0.0,652.794189453125,1,5,1,5,0,5,0,5,,21,1.3792827129364014,25.582918167114258,0.002420299919322133,-0.0005780499777756631\r\n",
      "8229889,0,0.8774402141571045,0.5049999952316284,,z,0.49399998784065247,,57,0.10612399876117706,14.436153411865234,0.021782193332910538,0,10.075448989868164,135.51309204101562,0.999752402305603,140.88499450683594,2.8592898845672607,23.778499603271484,1.0102005004882812,1,1.0102005004882812,,,0.0,456.4820861816406,0,3,0,3,0,1,0,1,,20,0.9500692486763,3.914191961288452,0.008862500078976154,-0.020044000819325447\r\n"
     ]
    }
   ],
   "source": [
    "!head ../data/raw/autoscan_features.2.csv"
   ]
  },
  {
   "cell_type": "markdown",
   "metadata": {},
   "source": [
    "## Loading the data\n",
    "\n",
    "Once downloading is complete we can load the raw CSV file into a [Pandas DataFrame](https://pandas.pydata.org/pandas-docs/stable/reference/api/pandas.DataFrame.html)."
   ]
  },
  {
   "cell_type": "code",
   "execution_count": 5,
   "metadata": {},
   "outputs": [],
   "source": [
    "_dtype = {\"MAGLIM\": \"bool\",\n",
    "          \"BAND\": \"category\",\n",
    "          \"CCDID\": \"category\",\n",
    "          \"FLAGS\": \"category\",\n",
    "          \"N2SIG3\": types.CategoricalDtype(categories=range(23), ordered=True),\n",
    "          \"N2SIG3SHIFT\": types.CategoricalDtype(categories=range(-25, 26), ordered=True),\n",
    "          \"N2SIG5\": types.CategoricalDtype(categories=range(45), ordered=True),\n",
    "          \"N2SIG5SHIFT\": types.CategoricalDtype(categories=range(-49, 50), ordered=True),\n",
    "          \"N3SIG3\": types.CategoricalDtype(categories=range(23), ordered=True),\n",
    "          \"N3SIG3SHIFT\": types.CategoricalDtype(categories=range(-25, 26), ordered=True),\n",
    "          \"N3SIG5\": types.CategoricalDtype(categories=range(43), ordered=True),\n",
    "          \"N3SIG5SHIFT\": types.CategoricalDtype(categories=range(-49, 50), ordered=True)}\n",
    "\n",
    "autoscan_features = pd.read_csv(f\"{raw_data_path}/autoscan_features.2.csv\",\n",
    "                                header=0,\n",
    "                                comment='#',\n",
    "                                index_col=\"ID\",\n",
    "                                dtype=_dtype)"
   ]
  },
  {
   "cell_type": "code",
   "execution_count": 6,
   "metadata": {},
   "outputs": [
    {
     "name": "stdout",
     "output_type": "stream",
     "text": [
      "<class 'pandas.core.frame.DataFrame'>\n",
      "Int64Index: 898963 entries, 10742010 to 7800868\n",
      "Data columns (total 39 columns):\n",
      "OBJECT_TYPE                    898963 non-null int64\n",
      "AMP                            898963 non-null float64\n",
      "A_IMAGE                        898963 non-null float64\n",
      "A_REF                          843149 non-null float64\n",
      "BAND                           898963 non-null category\n",
      "B_IMAGE                        898963 non-null float64\n",
      "B_REF                          843149 non-null float64\n",
      "CCDID                          898963 non-null category\n",
      "COLMEDS                        898963 non-null float64\n",
      "DIFFSUMRN                      898963 non-null float64\n",
      "ELLIPTICITY                    898963 non-null float64\n",
      "FLAGS                          898963 non-null category\n",
      "FLUX_RATIO                     898963 non-null float64\n",
      "GAUSS                          898963 non-null float64\n",
      "GFLUX                          898963 non-null float64\n",
      "L1                             898963 non-null float64\n",
      "LACOSMIC                       898963 non-null float64\n",
      "MAG                            898963 non-null float64\n",
      "MAGDIFF                        898963 non-null float64\n",
      "MAGLIM                         898963 non-null bool\n",
      "MAG_FROM_LIMIT                 898963 non-null float64\n",
      "MAG_REF                        843149 non-null float64\n",
      "MAG_REF_ERR                    843149 non-null float64\n",
      "MASKFRAC                       898963 non-null float64\n",
      "MIN_DISTANCE_TO_EDGE_IN_NEW    898963 non-null float64\n",
      "N2SIG3                         898963 non-null category\n",
      "N2SIG3SHIFT                    898963 non-null category\n",
      "N2SIG5                         898963 non-null category\n",
      "N2SIG5SHIFT                    898963 non-null category\n",
      "N3SIG3                         898963 non-null category\n",
      "N3SIG3SHIFT                    898963 non-null category\n",
      "N3SIG5                         898963 non-null category\n",
      "N3SIG5SHIFT                    898963 non-null category\n",
      "NN_DIST_RENORM                 843149 non-null float64\n",
      "NUMNEGRN                       898963 non-null int64\n",
      "SCALE                          898963 non-null float64\n",
      "SNR                            898963 non-null float64\n",
      "SPREADERR_MODEL                898963 non-null float64\n",
      "SPREAD_MODEL                   898963 non-null float64\n",
      "dtypes: bool(1), category(11), float64(25), int64(2)\n",
      "memory usage: 202.3 MB\n"
     ]
    }
   ],
   "source": [
    "autoscan_features.info()"
   ]
  },
  {
   "cell_type": "code",
   "execution_count": 7,
   "metadata": {},
   "outputs": [
    {
     "data": {
      "text/html": [
       "<div>\n",
       "<style scoped>\n",
       "    .dataframe tbody tr th:only-of-type {\n",
       "        vertical-align: middle;\n",
       "    }\n",
       "\n",
       "    .dataframe tbody tr th {\n",
       "        vertical-align: top;\n",
       "    }\n",
       "\n",
       "    .dataframe thead th {\n",
       "        text-align: right;\n",
       "    }\n",
       "</style>\n",
       "<table border=\"1\" class=\"dataframe\">\n",
       "  <thead>\n",
       "    <tr style=\"text-align: right;\">\n",
       "      <th></th>\n",
       "      <th>OBJECT_TYPE</th>\n",
       "      <th>AMP</th>\n",
       "      <th>A_IMAGE</th>\n",
       "      <th>A_REF</th>\n",
       "      <th>BAND</th>\n",
       "      <th>B_IMAGE</th>\n",
       "      <th>B_REF</th>\n",
       "      <th>CCDID</th>\n",
       "      <th>COLMEDS</th>\n",
       "      <th>DIFFSUMRN</th>\n",
       "      <th>...</th>\n",
       "      <th>N3SIG3</th>\n",
       "      <th>N3SIG3SHIFT</th>\n",
       "      <th>N3SIG5</th>\n",
       "      <th>N3SIG5SHIFT</th>\n",
       "      <th>NN_DIST_RENORM</th>\n",
       "      <th>NUMNEGRN</th>\n",
       "      <th>SCALE</th>\n",
       "      <th>SNR</th>\n",
       "      <th>SPREADERR_MODEL</th>\n",
       "      <th>SPREAD_MODEL</th>\n",
       "    </tr>\n",
       "    <tr>\n",
       "      <th>ID</th>\n",
       "      <th></th>\n",
       "      <th></th>\n",
       "      <th></th>\n",
       "      <th></th>\n",
       "      <th></th>\n",
       "      <th></th>\n",
       "      <th></th>\n",
       "      <th></th>\n",
       "      <th></th>\n",
       "      <th></th>\n",
       "      <th></th>\n",
       "      <th></th>\n",
       "      <th></th>\n",
       "      <th></th>\n",
       "      <th></th>\n",
       "      <th></th>\n",
       "      <th></th>\n",
       "      <th></th>\n",
       "      <th></th>\n",
       "      <th></th>\n",
       "      <th></th>\n",
       "    </tr>\n",
       "  </thead>\n",
       "  <tbody>\n",
       "    <tr>\n",
       "      <th>10742010</th>\n",
       "      <td>0</td>\n",
       "      <td>0.808323</td>\n",
       "      <td>1.508</td>\n",
       "      <td>2.650069</td>\n",
       "      <td>i</td>\n",
       "      <td>0.950</td>\n",
       "      <td>1.899501</td>\n",
       "      <td>10</td>\n",
       "      <td>0.112077</td>\n",
       "      <td>25.857546</td>\n",
       "      <td>...</td>\n",
       "      <td>0</td>\n",
       "      <td>-8</td>\n",
       "      <td>0</td>\n",
       "      <td>-9</td>\n",
       "      <td>0.674934</td>\n",
       "      <td>22</td>\n",
       "      <td>2.024122</td>\n",
       "      <td>7.722346</td>\n",
       "      <td>0.004629</td>\n",
       "      <td>-0.003718</td>\n",
       "    </tr>\n",
       "    <tr>\n",
       "      <th>8828139</th>\n",
       "      <td>0</td>\n",
       "      <td>0.975141</td>\n",
       "      <td>1.430</td>\n",
       "      <td>NaN</td>\n",
       "      <td>i</td>\n",
       "      <td>1.319</td>\n",
       "      <td>NaN</td>\n",
       "      <td>10</td>\n",
       "      <td>0.072256</td>\n",
       "      <td>38.029022</td>\n",
       "      <td>...</td>\n",
       "      <td>0</td>\n",
       "      <td>5</td>\n",
       "      <td>0</td>\n",
       "      <td>5</td>\n",
       "      <td>NaN</td>\n",
       "      <td>21</td>\n",
       "      <td>1.379283</td>\n",
       "      <td>25.582918</td>\n",
       "      <td>0.002420</td>\n",
       "      <td>-0.000578</td>\n",
       "    </tr>\n",
       "    <tr>\n",
       "      <th>8229889</th>\n",
       "      <td>0</td>\n",
       "      <td>0.877440</td>\n",
       "      <td>0.505</td>\n",
       "      <td>NaN</td>\n",
       "      <td>z</td>\n",
       "      <td>0.494</td>\n",
       "      <td>NaN</td>\n",
       "      <td>57</td>\n",
       "      <td>0.106124</td>\n",
       "      <td>14.436153</td>\n",
       "      <td>...</td>\n",
       "      <td>0</td>\n",
       "      <td>1</td>\n",
       "      <td>0</td>\n",
       "      <td>1</td>\n",
       "      <td>NaN</td>\n",
       "      <td>20</td>\n",
       "      <td>0.950069</td>\n",
       "      <td>3.914192</td>\n",
       "      <td>0.008863</td>\n",
       "      <td>-0.020044</td>\n",
       "    </tr>\n",
       "    <tr>\n",
       "      <th>11033218</th>\n",
       "      <td>0</td>\n",
       "      <td>0.681179</td>\n",
       "      <td>0.762</td>\n",
       "      <td>3.008957</td>\n",
       "      <td>i</td>\n",
       "      <td>0.449</td>\n",
       "      <td>2.855881</td>\n",
       "      <td>1</td>\n",
       "      <td>0.139071</td>\n",
       "      <td>27.118200</td>\n",
       "      <td>...</td>\n",
       "      <td>0</td>\n",
       "      <td>-14</td>\n",
       "      <td>2</td>\n",
       "      <td>-27</td>\n",
       "      <td>1.240574</td>\n",
       "      <td>18</td>\n",
       "      <td>1.749488</td>\n",
       "      <td>5.068382</td>\n",
       "      <td>0.008041</td>\n",
       "      <td>0.000246</td>\n",
       "    </tr>\n",
       "    <tr>\n",
       "      <th>8341858</th>\n",
       "      <td>0</td>\n",
       "      <td>0.645906</td>\n",
       "      <td>1.205</td>\n",
       "      <td>1.352224</td>\n",
       "      <td>i</td>\n",
       "      <td>0.982</td>\n",
       "      <td>1.063333</td>\n",
       "      <td>30</td>\n",
       "      <td>0.123302</td>\n",
       "      <td>25.487835</td>\n",
       "      <td>...</td>\n",
       "      <td>0</td>\n",
       "      <td>4</td>\n",
       "      <td>0</td>\n",
       "      <td>4</td>\n",
       "      <td>2.970234</td>\n",
       "      <td>16</td>\n",
       "      <td>1.930613</td>\n",
       "      <td>7.372579</td>\n",
       "      <td>0.005606</td>\n",
       "      <td>0.001771</td>\n",
       "    </tr>\n",
       "  </tbody>\n",
       "</table>\n",
       "<p>5 rows × 39 columns</p>\n",
       "</div>"
      ],
      "text/plain": [
       "          OBJECT_TYPE       AMP  A_IMAGE     A_REF BAND  B_IMAGE     B_REF  \\\n",
       "ID                                                                           \n",
       "10742010            0  0.808323    1.508  2.650069    i    0.950  1.899501   \n",
       "8828139             0  0.975141    1.430       NaN    i    1.319       NaN   \n",
       "8229889             0  0.877440    0.505       NaN    z    0.494       NaN   \n",
       "11033218            0  0.681179    0.762  3.008957    i    0.449  2.855881   \n",
       "8341858             0  0.645906    1.205  1.352224    i    0.982  1.063333   \n",
       "\n",
       "         CCDID   COLMEDS  DIFFSUMRN  ...  N3SIG3 N3SIG3SHIFT  N3SIG5  \\\n",
       "ID                                   ...                               \n",
       "10742010    10  0.112077  25.857546  ...       0          -8       0   \n",
       "8828139     10  0.072256  38.029022  ...       0           5       0   \n",
       "8229889     57  0.106124  14.436153  ...       0           1       0   \n",
       "11033218     1  0.139071  27.118200  ...       0         -14       2   \n",
       "8341858     30  0.123302  25.487835  ...       0           4       0   \n",
       "\n",
       "          N3SIG5SHIFT  NN_DIST_RENORM  NUMNEGRN     SCALE        SNR  \\\n",
       "ID                                                                     \n",
       "10742010           -9        0.674934        22  2.024122   7.722346   \n",
       "8828139             5             NaN        21  1.379283  25.582918   \n",
       "8229889             1             NaN        20  0.950069   3.914192   \n",
       "11033218          -27        1.240574        18  1.749488   5.068382   \n",
       "8341858             4        2.970234        16  1.930613   7.372579   \n",
       "\n",
       "          SPREADERR_MODEL  SPREAD_MODEL  \n",
       "ID                                       \n",
       "10742010         0.004629     -0.003718  \n",
       "8828139          0.002420     -0.000578  \n",
       "8229889          0.008863     -0.020044  \n",
       "11033218         0.008041      0.000246  \n",
       "8341858          0.005606      0.001771  \n",
       "\n",
       "[5 rows x 39 columns]"
      ]
     },
     "execution_count": 7,
     "metadata": {},
     "output_type": "execute_result"
    }
   ],
   "source": [
    "autoscan_features.head()"
   ]
  },
  {
   "cell_type": "markdown",
   "metadata": {},
   "source": [
    "## Creating a testing set"
   ]
  },
  {
   "cell_type": "code",
   "execution_count": 8,
   "metadata": {},
   "outputs": [],
   "source": [
    "_prng = np.random.RandomState(42)\n",
    "training_features, testing_features = model_selection.train_test_split(autoscan_features,\n",
    "                                                                       test_size=0.2,\n",
    "                                                                       random_state=_prng,\n",
    "                                                                       stratify=autoscan_features.OBJECT_TYPE)"
   ]
  },
  {
   "cell_type": "markdown",
   "metadata": {},
   "source": [
    "Since the autoscan features data set is not too large we will go ahead and save both the training and more importantly the testing features data sets to disk."
   ]
  },
  {
   "cell_type": "code",
   "execution_count": 9,
   "metadata": {},
   "outputs": [],
   "source": [
    "interim_data_path = \"../data/interim\"\n",
    "if not os.path.isdir(interim_data_path):\n",
    "    os.makedirs(interim_data_path)\n",
    "    \n",
    "training_features.to_csv(f\"{interim_data_path}/training_features.csv\")\n",
    "testing_features.to_csv(f\"{interim_data_path}/testing_features.csv\")"
   ]
  },
  {
   "cell_type": "markdown",
   "metadata": {},
   "source": [
    "# 4. Prepare the data for ML algorithms"
   ]
  },
  {
   "cell_type": "markdown",
   "metadata": {},
   "source": [
    "## Data cleaning\n",
    "\n",
    "Most ML algorithms can not work with missing values. Do we have any missing values in our training data?"
   ]
  },
  {
   "cell_type": "code",
   "execution_count": 123,
   "metadata": {},
   "outputs": [
    {
     "data": {
      "text/plain": [
       "A_REF                          44743\n",
       "NN_DIST_RENORM                 44743\n",
       "MAG_REF                        44743\n",
       "MAG_REF_ERR                    44743\n",
       "B_REF                          44743\n",
       "SPREAD_MODEL                       0\n",
       "ELLIPTICITY                        0\n",
       "L1                                 0\n",
       "GFLUX                              0\n",
       "GAUSS                              0\n",
       "FLUX_RATIO                         0\n",
       "FLAGS                              0\n",
       "COLMEDS                            0\n",
       "DIFFSUMRN                          0\n",
       "MAG                                0\n",
       "CCDID                              0\n",
       "B_IMAGE                            0\n",
       "BAND                               0\n",
       "A_IMAGE                            0\n",
       "AMP                                0\n",
       "LACOSMIC                           0\n",
       "MAGLIM                             0\n",
       "MAGDIFF                            0\n",
       "N3SIG3                             0\n",
       "SNR                                0\n",
       "SCALE                              0\n",
       "NUMNEGRN                           0\n",
       "N3SIG5SHIFT                        0\n",
       "N3SIG5                             0\n",
       "N3SIG3SHIFT                        0\n",
       "N2SIG5SHIFT                        0\n",
       "SPREADERR_MODEL                    0\n",
       "N2SIG5                             0\n",
       "N2SIG3SHIFT                        0\n",
       "N2SIG3                             0\n",
       "MIN_DISTANCE_TO_EDGE_IN_NEW        0\n",
       "MASKFRAC                           0\n",
       "MAG_FROM_LIMIT                     0\n",
       "OBJECT_TYPE                        0\n",
       "dtype: int64"
      ]
     },
     "execution_count": 123,
     "metadata": {},
     "output_type": "execute_result"
    }
   ],
   "source": [
    "(training_features.isna()\n",
    "                  .sum()\n",
    "                  .sort_values(ascending=False))"
   ]
  },
  {
   "cell_type": "code",
   "execution_count": 126,
   "metadata": {},
   "outputs": [
    {
     "data": {
      "text/plain": [
       "count    674427.000000\n",
       "mean          3.821103\n",
       "std           7.372656\n",
       "min           0.692358\n",
       "25%           2.221944\n",
       "50%           2.794353\n",
       "75%           4.087810\n",
       "max         815.111328\n",
       "Name: A_REF, dtype: float64"
      ]
     },
     "execution_count": 126,
     "metadata": {},
     "output_type": "execute_result"
    }
   ],
   "source": [
    "# semi-major axis of nearest source in galaxy coadd catalog (if exists within 5\", else imputed)\n",
    "(training_features.A_REF\n",
    "                  .describe())"
   ]
  },
  {
   "cell_type": "code",
   "execution_count": 127,
   "metadata": {},
   "outputs": [
    {
     "data": {
      "text/plain": [
       "count    674427.000000\n",
       "mean          0.921008\n",
       "std           0.852281\n",
       "min           0.001016\n",
       "25%           0.418017\n",
       "50%           0.696747\n",
       "75%           1.057845\n",
       "max           4.999983\n",
       "Name: NN_DIST_RENORM, dtype: float64"
      ]
     },
     "execution_count": 127,
     "metadata": {},
     "output_type": "execute_result"
    }
   ],
   "source": [
    "# distance from detection to nearest source in galaxy coadd catalog (if exists within 5\", else imputed)\n",
    "(training_features.NN_DIST_RENORM\n",
    "                  .describe())"
   ]
  },
  {
   "cell_type": "code",
   "execution_count": 128,
   "metadata": {},
   "outputs": [
    {
     "data": {
      "text/plain": [
       "count    674427.000000\n",
       "mean         20.988036\n",
       "std           4.296380\n",
       "min          13.204200\n",
       "25%          19.297300\n",
       "50%          20.699600\n",
       "75%          22.316200\n",
       "max          99.000000\n",
       "Name: MAG_REF, dtype: float64"
      ]
     },
     "execution_count": 128,
     "metadata": {},
     "output_type": "execute_result"
    }
   ],
   "source": [
    "# magnitude of nearest source in galaxy coadd catalog (if exists within 5\", else imputed)\n",
    "(training_features.MAG_REF\n",
    "                  .describe())"
   ]
  },
  {
   "cell_type": "code",
   "execution_count": 129,
   "metadata": {},
   "outputs": [
    {
     "data": {
      "text/plain": [
       "count    674427.000000\n",
       "mean          0.036684\n",
       "std           0.091378\n",
       "min           0.000100\n",
       "25%           0.002200\n",
       "50%           0.006100\n",
       "75%           0.029600\n",
       "max           1.000000\n",
       "Name: MAG_REF_ERR, dtype: float64"
      ]
     },
     "execution_count": 129,
     "metadata": {},
     "output_type": "execute_result"
    }
   ],
   "source": [
    "# uncertainty of MAG_REF (if exists, else imputed)\n",
    "(training_features.MAG_REF_ERR\n",
    "                  .describe())"
   ]
  },
  {
   "cell_type": "code",
   "execution_count": 131,
   "metadata": {},
   "outputs": [
    {
     "data": {
      "text/plain": [
       "count    674427.000000\n",
       "mean          2.729035\n",
       "std           1.777635\n",
       "min           0.288675\n",
       "25%           1.940005\n",
       "50%           2.381958\n",
       "75%           3.024719\n",
       "max          72.474854\n",
       "Name: B_REF, dtype: float64"
      ]
     },
     "execution_count": 131,
     "metadata": {},
     "output_type": "execute_result"
    }
   ],
   "source": [
    "# semi-minor axis of nearest source in galaxy coadd catalog (if exists within 5\", else imputed)\n",
    "(training_features.B_REF\n",
    "                  .describe())"
   ]
  },
  {
   "cell_type": "markdown",
   "metadata": {},
   "source": [
    "Couple of approaches we could take:\n",
    "\n",
    "1. Drop all rows containing any missing values.\n",
    "2. Impute the missing values.\n",
    "\n",
    "Table 2 of the paper provides descriptions of each the features and suggests that missing values were imputed using the mean value."
   ]
  },
  {
   "cell_type": "code",
   "execution_count": 139,
   "metadata": {},
   "outputs": [],
   "source": [
    "impute.SimpleImputer?"
   ]
  },
  {
   "cell_type": "markdown",
   "metadata": {},
   "source": [
    "## Handling Categorical Features"
   ]
  },
  {
   "cell_type": "markdown",
   "metadata": {},
   "source": [
    "We also have several categorical variables (both ordered and unordered) which need to be properly encoded."
   ]
  },
  {
   "cell_type": "code",
   "execution_count": 10,
   "metadata": {},
   "outputs": [],
   "source": [
    "categorical_columns = [\"MAGLIM\",\n",
    "                       \"BAND\",\n",
    "                       \"CCDID\",\n",
    "                       \"FLAGS\"]"
   ]
  },
  {
   "cell_type": "code",
   "execution_count": 138,
   "metadata": {},
   "outputs": [],
   "source": [
    "# for unordered categorical variables\n",
    "preprocessing.OneHotEncoder?"
   ]
  },
  {
   "cell_type": "code",
   "execution_count": 11,
   "metadata": {},
   "outputs": [],
   "source": [
    "ordinal_columns = [\"N2SIG3\",\n",
    "                   \"N2SIG3SHIFT\",\n",
    "                   \"N2SIG5\",\n",
    "                   \"N2SIG5SHIFT\",\n",
    "                   \"N3SIG3\",\n",
    "                   \"N3SIG3SHIFT\",\n",
    "                   \"N3SIG5\",\n",
    "                   \"N3SIG5SHIFT\",\n",
    "                   \"NUMNEGRN\"]"
   ]
  },
  {
   "cell_type": "code",
   "execution_count": 141,
   "metadata": {},
   "outputs": [],
   "source": [
    "# for ordered categorical variables\n",
    "preprocessing.OrdinalEncoder?"
   ]
  },
  {
   "cell_type": "markdown",
   "metadata": {},
   "source": [
    "## Feature Scaling"
   ]
  },
  {
   "cell_type": "markdown",
   "metadata": {},
   "source": [
    "Many of the features have values that differ by several orders of magnitude. For some ML algorithms, such as random forests, re-scaling of features will make little (or no) difference but for other ML algorithms re-scaling is critical to achieving good performance. "
   ]
  },
  {
   "cell_type": "code",
   "execution_count": 12,
   "metadata": {},
   "outputs": [],
   "source": [
    "columns_to_scale = [\"AMP\",\n",
    "                    \"A_REF\",\n",
    "                    \"A_IMAGE\",\n",
    "                    \"B_REF\",\n",
    "                    \"DIFFSUMRN\",\n",
    "                    \"ELLIPTICITY\",\n",
    "                    \"FLUX_RATIO\",\n",
    "                    \"GAUSS\",\n",
    "                    \"GFLUX\",\n",
    "                    \"L1\",\n",
    "                    \"LACOSMIC\",\n",
    "                    \"MAG\",\n",
    "                    \"MAGDIFF\",\n",
    "                    \"MAG_FROM_LIMIT\",\n",
    "                    \"MAG_REF\",\n",
    "                    \"MAG_REF_ERR\",\n",
    "                    \"MASKFRAC\",\n",
    "                    \"MIN_DISTANCE_TO_EDGE_IN_NEW\",\n",
    "                    \"NN_DIST_RENORM\",\n",
    "                    \"SCALE\",\n",
    "                    \"SNR\",\n",
    "                    \"SPREADERR_MODEL\",\n",
    "                    \"SPREAD_MODEL\"]"
   ]
  },
  {
   "cell_type": "markdown",
   "metadata": {},
   "source": [
    "## Transformation Pipelines"
   ]
  },
  {
   "cell_type": "code",
   "execution_count": 13,
   "metadata": {},
   "outputs": [
    {
     "name": "stdout",
     "output_type": "stream",
     "text": [
      "Architecture:          x86_64\r\n",
      "CPU op-mode(s):        32-bit, 64-bit\r\n",
      "Byte Order:            Little Endian\r\n",
      "CPU(s):                72\r\n",
      "On-line CPU(s) list:   0-71\r\n",
      "Thread(s) per core:    2\r\n",
      "Core(s) per socket:    18\r\n",
      "Socket(s):             2\r\n",
      "NUMA node(s):          2\r\n",
      "Vendor ID:             GenuineIntel\r\n",
      "CPU family:            6\r\n",
      "Model:                 85\r\n",
      "Model name:            Intel(R) Xeon(R) Gold 6150 CPU @ 2.70GHz\r\n",
      "Stepping:              4\r\n",
      "CPU MHz:               1700.000\r\n",
      "CPU max MHz:           2701.0000\r\n",
      "CPU min MHz:           1200.0000\r\n",
      "BogoMIPS:              5400.00\r\n",
      "Virtualization:        VT-x\r\n",
      "L1d cache:             32K\r\n",
      "L1i cache:             32K\r\n",
      "L2 cache:              1024K\r\n",
      "L3 cache:              25344K\r\n",
      "NUMA node0 CPU(s):     0-17,36-53\r\n",
      "NUMA node1 CPU(s):     18-35,54-71\r\n",
      "Flags:                 fpu vme de pse tsc msr pae mce cx8 apic sep mtrr pge mca cmov pat pse36 clflush dts acpi mmx fxsr sse sse2 ss ht tm pbe syscall nx pdpe1gb rdtscp lm constant_tsc art arch_perfmon pebs bts rep_good nopl xtopology nonstop_tsc aperfmperf eagerfpu pni pclmulqdq dtes64 monitor ds_cpl vmx smx est tm2 ssse3 sdbg fma cx16 xtpr pdcm pcid dca sse4_1 sse4_2 x2apic movbe popcnt tsc_deadline_timer aes xsave avx f16c rdrand lahf_lm abm 3dnowprefetch epb cat_l3 cdp_l3 intel_ppin intel_pt ssbd mba ibrs ibpb stibp tpr_shadow vnmi flexpriority ept vpid fsgsbase tsc_adjust bmi1 hle avx2 smep bmi2 erms invpcid rtm cqm mpx rdt_a avx512f avx512dq rdseed adx smap clflushopt clwb avx512cd avx512bw avx512vl xsaveopt xsavec xgetbv1 cqm_llc cqm_occup_llc cqm_mbm_total cqm_mbm_local dtherm ida arat pln pts pku ospke spec_ctrl intel_stibp flush_l1d\r\n"
     ]
    }
   ],
   "source": [
    "# get some details on your CPU\n",
    "!lscpu"
   ]
  },
  {
   "cell_type": "code",
   "execution_count": 14,
   "metadata": {},
   "outputs": [
    {
     "name": "stdout",
     "output_type": "stream",
     "text": [
      "Tue Feb 12 16:03:40 2019       \r\n",
      "+-----------------------------------------------------------------------------+\r\n",
      "| NVIDIA-SMI 410.79       Driver Version: 410.79       CUDA Version: 10.0     |\r\n",
      "|-------------------------------+----------------------+----------------------+\r\n",
      "| GPU  Name        Persistence-M| Bus-Id        Disp.A | Volatile Uncorr. ECC |\r\n",
      "| Fan  Temp  Perf  Pwr:Usage/Cap|         Memory-Usage | GPU-Util  Compute M. |\r\n",
      "|===============================+======================+======================|\r\n",
      "|   0  GeForce GTX 108...  Off  | 00000000:AF:00.0  On |                  N/A |\r\n",
      "| 25%   43C    P5    23W / 250W |    699MiB / 11178MiB |      6%      Default |\r\n",
      "+-------------------------------+----------------------+----------------------+\r\n",
      "                                                                               \r\n",
      "+-----------------------------------------------------------------------------+\r\n",
      "| Processes:                                                       GPU Memory |\r\n",
      "|  GPU       PID   Type   Process name                             Usage      |\r\n",
      "|=============================================================================|\r\n",
      "|    0     18647      G   /usr/bin/X                                   320MiB |\r\n",
      "|    0     70520      G   /usr/lib64/firefox/firefox                     2MiB |\r\n",
      "|    0     70705      G   /usr/lib64/firefox/firefox                     2MiB |\r\n",
      "|    0     70709      G   /usr/lib64/firefox/firefox                     2MiB |\r\n",
      "|    0     71348      G   /usr/lib64/firefox/firefox                     2MiB |\r\n",
      "|    0    181114      G   /usr/bin/gnome-shell                         364MiB |\r\n",
      "+-----------------------------------------------------------------------------+\r\n"
     ]
    }
   ],
   "source": [
    "# get somee details on your GPU\n",
    "!nvidia-smi"
   ]
  },
  {
   "cell_type": "code",
   "execution_count": 41,
   "metadata": {},
   "outputs": [],
   "source": [
    "NUMBER_CORES = 36\n",
    "NUMBER_CPUS = 2 * NUMBER_CORES"
   ]
  },
  {
   "cell_type": "code",
   "execution_count": 16,
   "metadata": {},
   "outputs": [],
   "source": [
    "_rescaling_pipeline = pipeline.make_pipeline(\n",
    "    impute.SimpleImputer(),\n",
    "    preprocessing.StandardScaler()\n",
    ")\n",
    "\n",
    "column_transformer = compose.make_column_transformer(\n",
    "    (_rescaling_pipeline, columns_to_scale),\n",
    "    (preprocessing.OneHotEncoder(), categorical_columns),\n",
    "    (preprocessing.OrdinalEncoder(), ordinal_columns),\n",
    "    remainder=\"passthrough\",\n",
    "    n_jobs=4\n",
    ")"
   ]
  },
  {
   "cell_type": "code",
   "execution_count": 86,
   "metadata": {},
   "outputs": [],
   "source": [
    "transformed_training_features = column_transformer.fit_transform(training_features.drop(\"OBJECT_TYPE\", axis=1))"
   ]
  },
  {
   "cell_type": "code",
   "execution_count": 87,
   "metadata": {},
   "outputs": [],
   "source": [
    "training_target = (training_features.get(\"OBJECT_TYPE\")\n",
    "                                    .values)"
   ]
  },
  {
   "cell_type": "code",
   "execution_count": 88,
   "metadata": {},
   "outputs": [],
   "source": [
    "final_data_path = \"../data/final\"\n",
    "if not os.path.isdir(final_data_path):\n",
    "    os.makedirs(final_data_path)\n",
    "_ = joblib.dump(transformed_training_features, f\"{final_data_path}/transformed-training-features.pkl\")\n",
    "_ = joblib.dump(training_target, f\"{final_data_path}/training-target.pkl\")"
   ]
  },
  {
   "cell_type": "markdown",
   "metadata": {},
   "source": [
    "# 5. Select and Train a model"
   ]
  },
  {
   "cell_type": "code",
   "execution_count": 20,
   "metadata": {},
   "outputs": [],
   "source": [
    "# seed used for all models that require source of randomness\n",
    "SEED = 42\n",
    "\n",
    "# number of folds to use for CV\n",
    "NUMBER_CV_FOLDS = 3\n",
    "\n",
    "# number of jobs to use for CV\n",
    "NUMBER_CV_JOBS = NUMBER_CV_FOLDS\n",
    "\n",
    "# use area under ROC for scoring CV\n",
    "SCORING = metrics.make_scorer(metrics.roc_auc_score, needs_proba=True)"
   ]
  },
  {
   "cell_type": "markdown",
   "metadata": {},
   "source": [
    "## Benchmark \"dummy\" classifier"
   ]
  },
  {
   "cell_type": "code",
   "execution_count": 21,
   "metadata": {},
   "outputs": [],
   "source": [
    "benchmark_clf = dummy.DummyClassifier(strategy=\"most_frequent\")"
   ]
  },
  {
   "cell_type": "code",
   "execution_count": 22,
   "metadata": {},
   "outputs": [
    {
     "data": {
      "text/plain": [
       "DummyClassifier(constant=None, random_state=None, strategy='most_frequent')"
      ]
     },
     "execution_count": 22,
     "metadata": {},
     "output_type": "execute_result"
    }
   ],
   "source": [
    "benchmark_clf.fit(transformed_training_features, training_target)"
   ]
  },
  {
   "cell_type": "code",
   "execution_count": 23,
   "metadata": {},
   "outputs": [],
   "source": [
    "benchmark_auc_scores = model_selection.cross_val_score(benchmark_clf,\n",
    "                                                       transformed_training_features,\n",
    "                                                       training_target,\n",
    "                                                       cv=NUMBER_CV_FOLDS,\n",
    "                                                       scoring=SCORING,\n",
    "                                                       n_jobs=NUMBER_CV_JOBS)"
   ]
  },
  {
   "cell_type": "code",
   "execution_count": 24,
   "metadata": {},
   "outputs": [
    {
     "data": {
      "text/plain": [
       "0.5"
      ]
     },
     "execution_count": 24,
     "metadata": {},
     "output_type": "execute_result"
    }
   ],
   "source": [
    "benchmark_auc_scores.mean()"
   ]
  },
  {
   "cell_type": "markdown",
   "metadata": {},
   "source": [
    "## AdaBoost classifier"
   ]
  },
  {
   "cell_type": "code",
   "execution_count": 25,
   "metadata": {},
   "outputs": [],
   "source": [
    "_prng = np.random.RandomState(SEED)\n",
    "ada_boost_clf = ensemble.AdaBoostClassifier(random_state=_prng)"
   ]
  },
  {
   "cell_type": "code",
   "execution_count": 26,
   "metadata": {},
   "outputs": [
    {
     "data": {
      "text/plain": [
       "AdaBoostClassifier(algorithm='SAMME.R', base_estimator=None,\n",
       "          learning_rate=1.0, n_estimators=50,\n",
       "          random_state=<mtrand.RandomState object at 0x7f6f6f6ad090>)"
      ]
     },
     "execution_count": 26,
     "metadata": {},
     "output_type": "execute_result"
    }
   ],
   "source": [
    "ada_boost_clf.fit(Z, y)"
   ]
  },
  {
   "cell_type": "code",
   "execution_count": 27,
   "metadata": {},
   "outputs": [],
   "source": [
    "models_path = \"../models/\"\n",
    "if not os.path.isdir(final_data_path):\n",
    "    os.makedirs(final_data_path)\n",
    "_ = joblib.dump(ada_boost_clf, f\"{models_path}/ada-boost-classifier.pkl\")"
   ]
  },
  {
   "cell_type": "markdown",
   "metadata": {},
   "source": [
    "### Scoring AdaBoost"
   ]
  },
  {
   "cell_type": "code",
   "execution_count": 28,
   "metadata": {},
   "outputs": [],
   "source": [
    "ada_boost_auc_scores = model_selection.cross_val_score(ada_boost_clf,\n",
    "                                                       transformed_training_features,\n",
    "                                                       training_target,\n",
    "                                                       cv=NUMBER_CV_FOLDS,\n",
    "                                                       scoring=SCORING,\n",
    "                                                       n_jobs=NUMBER_CV_JOBS)"
   ]
  },
  {
   "cell_type": "code",
   "execution_count": 29,
   "metadata": {},
   "outputs": [
    {
     "data": {
      "text/plain": [
       "0.9835888575516057"
      ]
     },
     "execution_count": 29,
     "metadata": {},
     "output_type": "execute_result"
    }
   ],
   "source": [
    "ada_boost_auc_scores.mean()"
   ]
  },
  {
   "cell_type": "markdown",
   "metadata": {},
   "source": [
    "## Random Forest classifier"
   ]
  },
  {
   "cell_type": "code",
   "execution_count": 30,
   "metadata": {},
   "outputs": [],
   "source": [
    "_prng = np.random.RandomState(SEED)\n",
    "random_forest_clf = ensemble.RandomForestClassifier(n_estimators=100,\n",
    "                                                    n_jobs=NUMBER_CPUS // NUMBER_CV_JOBS,\n",
    "                                                    random_state=_prng)"
   ]
  },
  {
   "cell_type": "code",
   "execution_count": 31,
   "metadata": {},
   "outputs": [
    {
     "data": {
      "text/plain": [
       "RandomForestClassifier(bootstrap=True, class_weight=None, criterion='gini',\n",
       "            max_depth=None, max_features='auto', max_leaf_nodes=None,\n",
       "            min_impurity_decrease=0.0, min_impurity_split=None,\n",
       "            min_samples_leaf=1, min_samples_split=2,\n",
       "            min_weight_fraction_leaf=0.0, n_estimators=100, n_jobs=24,\n",
       "            oob_score=False,\n",
       "            random_state=<mtrand.RandomState object at 0x7f6f6f3ada68>,\n",
       "            verbose=0, warm_start=False)"
      ]
     },
     "execution_count": 31,
     "metadata": {},
     "output_type": "execute_result"
    }
   ],
   "source": [
    "random_forest_clf.fit(Z, y)"
   ]
  },
  {
   "cell_type": "code",
   "execution_count": 32,
   "metadata": {},
   "outputs": [],
   "source": [
    "_ = joblib.dump(random_forest_clf, \"../models/random-forest-classifier.pkl\")"
   ]
  },
  {
   "cell_type": "markdown",
   "metadata": {},
   "source": [
    "### Scoring the Random Forest classifier"
   ]
  },
  {
   "cell_type": "code",
   "execution_count": 33,
   "metadata": {},
   "outputs": [],
   "source": [
    "random_forest_auc_scores = model_selection.cross_val_score(random_forest_clf,\n",
    "                                                           transformed_training_features,\n",
    "                                                           training_target,\n",
    "                                                           cv=NUMBER_CV_FOLDS,\n",
    "                                                           scoring=SCORING,\n",
    "                                                           n_jobs=NUMBER_CV_JOBS)"
   ]
  },
  {
   "cell_type": "code",
   "execution_count": 34,
   "metadata": {},
   "outputs": [
    {
     "data": {
      "text/plain": [
       "0.9927092709216261"
      ]
     },
     "execution_count": 34,
     "metadata": {},
     "output_type": "execute_result"
    }
   ],
   "source": [
    "random_forest_auc_scores.mean()"
   ]
  },
  {
   "cell_type": "markdown",
   "metadata": {},
   "source": [
    "## XGBoost classifier"
   ]
  },
  {
   "cell_type": "markdown",
   "metadata": {},
   "source": [
    "### Fitting XGBoost classifier using CPU"
   ]
  },
  {
   "cell_type": "code",
   "execution_count": 42,
   "metadata": {},
   "outputs": [],
   "source": [
    "xgb_cpu_params = {'subsample': 0.8,\n",
    "                  'colsample_bytree': 0.8,\n",
    "                  'tree_method': 'hist',\n",
    "                  'random_state': SEED,\n",
    "                  'n_jobs': NUMBER_CORES,\n",
    "                 }\n",
    "\n",
    "xgb_cpu_clf = xgb.XGBClassifier(**xgb_cpu_params)"
   ]
  },
  {
   "cell_type": "code",
   "execution_count": 43,
   "metadata": {},
   "outputs": [
    {
     "name": "stdout",
     "output_type": "stream",
     "text": [
      "[16:28:34] Tree method is selected to be 'hist', which uses a single updater grow_fast_histmaker.\n",
      "[16:28:42] Tree method is selected to be 'hist', which uses a single updater grow_fast_histmaker.\n",
      "[16:28:50] Tree method is selected to be 'hist', which uses a single updater grow_fast_histmaker.\n",
      "[16:28:58] Tree method is selected to be 'hist', which uses a single updater grow_fast_histmaker.\n",
      "[16:29:06] Tree method is selected to be 'hist', which uses a single updater grow_fast_histmaker.\n",
      "[16:29:14] Tree method is selected to be 'hist', which uses a single updater grow_fast_histmaker.\n",
      "[16:29:23] Tree method is selected to be 'hist', which uses a single updater grow_fast_histmaker.\n",
      "[16:29:31] Tree method is selected to be 'hist', which uses a single updater grow_fast_histmaker.\n",
      "8.15 s ± 498 ms per loop (mean ± std. dev. of 7 runs, 1 loop each)\n"
     ]
    }
   ],
   "source": [
    "%timeit xgb_cpu_clf.fit(transformed_training_features, training_target)"
   ]
  },
  {
   "cell_type": "code",
   "execution_count": 46,
   "metadata": {},
   "outputs": [
    {
     "name": "stdout",
     "output_type": "stream",
     "text": [
      "[16:33:33] Tree method is selected to be 'hist', which uses a single updater grow_fast_histmaker.\n"
     ]
    },
    {
     "data": {
      "text/plain": [
       "XGBClassifier(base_score=0.5, booster='gbtree', colsample_bylevel=1,\n",
       "       colsample_bytree=0.8, gamma=0, learning_rate=0.1, max_delta_step=0,\n",
       "       max_depth=3, min_child_weight=1, missing=None, n_estimators=100,\n",
       "       n_jobs=36, nthread=None, objective='binary:logistic',\n",
       "       random_state=42, reg_alpha=0, reg_lambda=1, scale_pos_weight=1,\n",
       "       seed=None, silent=True, subsample=0.8, tree_method='hist')"
      ]
     },
     "execution_count": 46,
     "metadata": {},
     "output_type": "execute_result"
    }
   ],
   "source": [
    "xgb_cpu_clf.fit(transformed_training_features, training_target)"
   ]
  },
  {
   "cell_type": "code",
   "execution_count": 47,
   "metadata": {},
   "outputs": [],
   "source": [
    "_ = joblib.dump(xgb_cpu_clf, \"../models/xgboost-cpu-classifier.pkl\")"
   ]
  },
  {
   "cell_type": "markdown",
   "metadata": {},
   "source": [
    "### Fitting XGBoost classifier using GPU"
   ]
  },
  {
   "cell_type": "code",
   "execution_count": 56,
   "metadata": {},
   "outputs": [],
   "source": [
    "xgb_gpu_params = {'subsample': 0.8,\n",
    "                  'colsample_bytree': 0.8,\n",
    "                  'tree_method': 'gpu_hist',\n",
    "                  'predictor': 'gpu_predictor',\n",
    "                  'random_state': SEED,\n",
    "                 }\n",
    "\n",
    "xgb_gpu_clf = xgb.XGBClassifier(**xgb_gpu_params)"
   ]
  },
  {
   "cell_type": "code",
   "execution_count": 55,
   "metadata": {},
   "outputs": [
    {
     "name": "stdout",
     "output_type": "stream",
     "text": [
      "5.18 s ± 290 ms per loop (mean ± std. dev. of 7 runs, 1 loop each)\n"
     ]
    }
   ],
   "source": [
    "%timeit xgb_gpu_clf.fit(transformed_training_features, training_target)"
   ]
  },
  {
   "cell_type": "code",
   "execution_count": 48,
   "metadata": {},
   "outputs": [
    {
     "data": {
      "text/plain": [
       "XGBClassifier(base_score=0.5, booster='gbtree', colsample_bylevel=1,\n",
       "       colsample_bytree=0.8, gamma=0, learning_rate=0.1, max_delta_step=0,\n",
       "       max_depth=3, min_child_weight=1, missing=None, n_estimators=100,\n",
       "       n_jobs=1, nthread=None, objective='binary:logistic',\n",
       "       predictor='gpu_predictor', random_state=42, reg_alpha=0,\n",
       "       reg_lambda=1, scale_pos_weight=1, seed=None, silent=True,\n",
       "       subsample=0.8, tree_method='gpu_hist')"
      ]
     },
     "execution_count": 48,
     "metadata": {},
     "output_type": "execute_result"
    }
   ],
   "source": [
    "xgb_gpu_clf.fit(transformed_training_features, training_target)"
   ]
  },
  {
   "cell_type": "code",
   "execution_count": 49,
   "metadata": {},
   "outputs": [],
   "source": [
    "_ = joblib.dump(xgb_gpu_clf, \"../models/xgboost-gpu-classifier.pkl\")"
   ]
  },
  {
   "cell_type": "markdown",
   "metadata": {},
   "source": [
    "### Scoring the XGBoost classifier"
   ]
  },
  {
   "cell_type": "code",
   "execution_count": 89,
   "metadata": {},
   "outputs": [],
   "source": [
    "xgb_cpu_params = {'subsample': 0.8,\n",
    "                  'colsample_bytree': 0.8,\n",
    "                  'tree_method': 'hist',\n",
    "                  'random_state': SEED,\n",
    "                  'n_jobs': NUMBER_CORES // NUMBER_CV_JOBS,\n",
    "                 }\n",
    "\n",
    "xgb_gpu_clf = xgb.XGBClassifier(**xgb_gpu_params)\n",
    "\n",
    "xgd_cpu_auc_scores = model_selection.cross_val_score(xgb_cpu_clf,\n",
    "                                                     transformed_training_features,\n",
    "                                                     training_target,\n",
    "                                                     cv=NUMBER_CV_FOLDS,\n",
    "                                                     scoring=SCORING,\n",
    "                                                     n_jobs=NUMBER_CV_JOBS)"
   ]
  },
  {
   "cell_type": "code",
   "execution_count": 90,
   "metadata": {},
   "outputs": [
    {
     "data": {
      "text/plain": [
       "0.9892704301266098"
      ]
     },
     "execution_count": 90,
     "metadata": {},
     "output_type": "execute_result"
    }
   ],
   "source": [
    "xgd_cpu_auc_scores.mean()"
   ]
  },
  {
   "cell_type": "code",
   "execution_count": 57,
   "metadata": {},
   "outputs": [],
   "source": [
    "xgd_gpu_auc_scores = model_selection.cross_val_score(xgb_gpu_clf,\n",
    "                                                     transformed_training_features,\n",
    "                                                     training_target,\n",
    "                                                     cv=NUMBER_CV_FOLDS,\n",
    "                                                     scoring=SCORING,\n",
    "                                                     n_jobs=NUMBER_CV_JOBS)"
   ]
  },
  {
   "cell_type": "code",
   "execution_count": 59,
   "metadata": {},
   "outputs": [
    {
     "data": {
      "text/plain": [
       "0.9892350113775157"
      ]
     },
     "execution_count": 59,
     "metadata": {},
     "output_type": "execute_result"
    }
   ],
   "source": [
    "xgd_gpu_auc_scores.mean()"
   ]
  },
  {
   "cell_type": "markdown",
   "metadata": {},
   "source": [
    "# 6. Fine-Tuning a model\n",
    "\n",
    "Lot's of hyper parameters to tune and no optimal way to tune hyper parameters! How to proceed? Tuning a model ultimately involves a lot of _tinkering_. To avoid over-fitting your model to your training data you should either set aside a validation data set specifically to use when comparing the performance of various combinations of hyper-parameters according to your performance metric, or you should use some form of cross validation.\n",
    "\n",
    "In general, you should not expect significant gains in model performance to come from tuning hyper-parameters. Significant gains in model performance are more likely to come from using a better model (i.e., convolutional neural networks (CNNs)), finding more data, improved feature engineering, etc.\n",
    "\n",
    "That said, it is important to convert changes in model performance to changes in the relevant business metric. Sometimes seemingly small gains in model performance are still substantial from a business perspective.\n",
    "To demonstrate tuning model hyper-parameters, I will use a subset of the grid of hyper-parameters explored in the paper. \n",
    "\n",
    "Finally, some notes on balancing resources between fitting a classifier and spawning grid search CV jobs. \n",
    "\n",
    "* Increasing the number of concurrent grid search jobs should yield roughly linear scaling\n",
    "* Increasing the number of threads allocated to fitting the Random Forest classifier will yield sub-linear scaling.\n",
    "\n",
    "Optimal allocation of threads between fitting the classifier and spawning CV jobs depends on the classifier. With `ensemble.RandomForest` classifier I have not seen any improvement from hyper-threading. "
   ]
  },
  {
   "cell_type": "code",
   "execution_count": 71,
   "metadata": {},
   "outputs": [],
   "source": [
    "NUMBER_GRID_SEARCH_JOBS = 9"
   ]
  },
  {
   "cell_type": "code",
   "execution_count": 72,
   "metadata": {},
   "outputs": [],
   "source": [
    "_prng = np.random.RandomState(SEED)\n",
    "random_forest_clf = ensemble.RandomForestClassifier(n_estimators=100,\n",
    "                                                    n_jobs=NUMBER_CORES // NUMBER_GRID_SEARCH_JOBS,\n",
    "                                                    random_state=_prng)\n",
    "\n",
    "_hyper_parameter_grid = {\"n_estimators\": [10, 100],\n",
    "                         \"criterion\": [\"gini\", \"entropy\"],   \n",
    "                         \"min_samples_split\": [2, 3, 4],\n",
    "                         \"max_depth\": [5, 30, None]}\n",
    "\n",
    "random_forest_grid_search = model_selection.GridSearchCV(random_forest_clf,\n",
    "                                                         param_grid=_hyper_parameter_grid,\n",
    "                                                         scoring=SCORING,\n",
    "                                                         iid=True,\n",
    "                                                         cv=NUMBER_CV_FOLDS,\n",
    "                                                         n_jobs=NUMBER_GRID_SEARCH_JOBS,\n",
    "                                                         return_train_score=True,\n",
    "                                                         verbose=10)"
   ]
  },
  {
   "cell_type": "code",
   "execution_count": 73,
   "metadata": {},
   "outputs": [
    {
     "name": "stdout",
     "output_type": "stream",
     "text": [
      "Fitting 3 folds for each of 36 candidates, totalling 108 fits\n"
     ]
    },
    {
     "name": "stderr",
     "output_type": "stream",
     "text": [
      "[Parallel(n_jobs=9)]: Using backend LokyBackend with 9 concurrent workers.\n",
      "[Parallel(n_jobs=9)]: Done   7 tasks      | elapsed:   17.0s\n",
      "[Parallel(n_jobs=9)]: Done  14 tasks      | elapsed:   46.8s\n",
      "[Parallel(n_jobs=9)]: Done  23 tasks      | elapsed:  1.1min\n",
      "[Parallel(n_jobs=9)]: Done  32 tasks      | elapsed:  2.6min\n",
      "[Parallel(n_jobs=9)]: Done  43 tasks      | elapsed:  3.3min\n",
      "[Parallel(n_jobs=9)]: Done  54 tasks      | elapsed:  4.7min\n",
      "[Parallel(n_jobs=9)]: Done  67 tasks      | elapsed:  5.4min\n",
      "[Parallel(n_jobs=9)]: Done  80 tasks      | elapsed:  6.0min\n",
      "[Parallel(n_jobs=9)]: Done 102 out of 108 | elapsed:  9.1min remaining:   32.1s\n",
      "[Parallel(n_jobs=9)]: Done 108 out of 108 | elapsed:  9.8min finished\n"
     ]
    },
    {
     "data": {
      "text/plain": [
       "GridSearchCV(cv=3, error_score='raise-deprecating',\n",
       "       estimator=RandomForestClassifier(bootstrap=True, class_weight=None, criterion='gini',\n",
       "            max_depth=None, max_features='auto', max_leaf_nodes=None,\n",
       "            min_impurity_decrease=0.0, min_impurity_split=None,\n",
       "            min_samples_leaf=1, min_samples_split=2,\n",
       "            min_weight_fraction_leaf=0.0, n_estimators=100, n_jobs=4,\n",
       "            oob_score=False,\n",
       "            random_state=<mtrand.RandomState object at 0x7f6ef4b68990>,\n",
       "            verbose=0, warm_start=False),\n",
       "       fit_params=None, iid=True, n_jobs=9,\n",
       "       param_grid={'n_estimators': [10, 100], 'criterion': ['gini', 'entropy'], 'min_samples_split': [2, 3, 4], 'max_depth': [5, 30, None]},\n",
       "       pre_dispatch='2*n_jobs', refit=True, return_train_score=True,\n",
       "       scoring=make_scorer(roc_auc_score, needs_proba=True), verbose=10)"
      ]
     },
     "execution_count": 73,
     "metadata": {},
     "output_type": "execute_result"
    }
   ],
   "source": [
    "random_forest_grid_search.fit(transformed_training_features, training_target)"
   ]
  },
  {
   "cell_type": "code",
   "execution_count": 91,
   "metadata": {},
   "outputs": [
    {
     "data": {
      "text/plain": [
       "0.992949361011106"
      ]
     },
     "execution_count": 91,
     "metadata": {},
     "output_type": "execute_result"
    }
   ],
   "source": [
    "# only slightly higher than score achieved with default params! :(\n",
    "random_forest_grid_search.best_score_"
   ]
  },
  {
   "cell_type": "code",
   "execution_count": 65,
   "metadata": {},
   "outputs": [],
   "source": [
    "_hyper_parameter_grid = {\"max_depth\": [3, 6, 9],\n",
    "                         \"n_estimators\": [50, 100, 200],\n",
    "                         \"min_child_weight\": [1, 2, 4],   \n",
    "                         }\n",
    "\n",
    "xgb_gpu_grid_search = model_selection.GridSearchCV(xgb_gpu_clf,\n",
    "                                                   param_grid=_hyper_parameter_grid,\n",
    "                                                   scoring=SCORING,\n",
    "                                                   iid=True,\n",
    "                                                   cv=NUMBER_CV_FOLDS,\n",
    "                                                   n_jobs=NUMBER_GRID_SEARCH_JOBS,\n",
    "                                                   return_train_score=True,\n",
    "                                                   verbose=10)"
   ]
  },
  {
   "cell_type": "code",
   "execution_count": 66,
   "metadata": {},
   "outputs": [
    {
     "name": "stdout",
     "output_type": "stream",
     "text": [
      "Fitting 3 folds for each of 27 candidates, totalling 81 fits\n"
     ]
    },
    {
     "name": "stderr",
     "output_type": "stream",
     "text": [
      "[Parallel(n_jobs=9)]: Using backend LokyBackend with 9 concurrent workers.\n",
      "[Parallel(n_jobs=9)]: Done   7 tasks      | elapsed:   39.2s\n",
      "[Parallel(n_jobs=9)]: Done  14 tasks      | elapsed:  1.0min\n",
      "[Parallel(n_jobs=9)]: Done  23 tasks      | elapsed:  1.5min\n",
      "[Parallel(n_jobs=9)]: Done  32 tasks      | elapsed:  2.3min\n",
      "[Parallel(n_jobs=9)]: Done  43 tasks      | elapsed:  3.5min\n",
      "[Parallel(n_jobs=9)]: Done  54 tasks      | elapsed:  4.5min\n",
      "[Parallel(n_jobs=9)]: Done  73 out of  81 | elapsed:  8.0min remaining:   52.5s\n",
      "[Parallel(n_jobs=9)]: Done  81 out of  81 | elapsed:  8.9min finished\n"
     ]
    },
    {
     "data": {
      "text/plain": [
       "GridSearchCV(cv=3, error_score='raise-deprecating',\n",
       "       estimator=XGBClassifier(base_score=0.5, booster='gbtree', colsample_bylevel=1,\n",
       "       colsample_bytree=0.8, gamma=0, learning_rate=0.1, max_delta_step=0,\n",
       "       max_depth=3, min_child_weight=1, missing=None, n_estimators=100,\n",
       "       n_jobs=1, nthread=None, objective='binary:logistic',\n",
       "       predictor='gpu_predictor', random_state=42, reg_alpha=0,\n",
       "       reg_lambda=1, scale_pos_weight=1, seed=None, silent=True,\n",
       "       subsample=0.8, tree_method='gpu_hist'),\n",
       "       fit_params=None, iid=True, n_jobs=9,\n",
       "       param_grid={'max_depth': [3, 6, 9], 'n_estimators': [50, 100, 200], 'min_child_weight': [1, 2, 4]},\n",
       "       pre_dispatch='2*n_jobs', refit=True, return_train_score=True,\n",
       "       scoring=make_scorer(roc_auc_score, needs_proba=True), verbose=10)"
      ]
     },
     "execution_count": 66,
     "metadata": {},
     "output_type": "execute_result"
    }
   ],
   "source": [
    "xgb_gpu_grid_search.fit(transformed_training_features, training_target)"
   ]
  },
  {
   "cell_type": "markdown",
   "metadata": {},
   "source": [
    "## Evaluate model performance on the training data"
   ]
  },
  {
   "cell_type": "code",
   "execution_count": 93,
   "metadata": {},
   "outputs": [],
   "source": [
    "predicted_object_type = model_selection.cross_val_predict(random_forest_grid_search.best_estimator_,\n",
    "                                                          transformed_training_features,\n",
    "                                                          training_target,\n",
    "                                                          cv=NUMBER_CV_FOLDS,\n",
    "                                                          n_jobs=NUMBER_CV_JOBS)"
   ]
  },
  {
   "cell_type": "code",
   "execution_count": 94,
   "metadata": {},
   "outputs": [
    {
     "data": {
      "text/plain": [
       "array([[347466,   9412],\n",
       "       [ 15807, 346485]])"
      ]
     },
     "execution_count": 94,
     "metadata": {},
     "output_type": "execute_result"
    }
   ],
   "source": [
    "# row is actual object type; column is predicted object type\n",
    "metrics.confusion_matrix(predicted_object_type, training_target)"
   ]
  },
  {
   "cell_type": "code",
   "execution_count": 95,
   "metadata": {},
   "outputs": [
    {
     "data": {
      "text/plain": [
       "0.9735541462838967"
      ]
     },
     "execution_count": 95,
     "metadata": {},
     "output_type": "execute_result"
    }
   ],
   "source": [
    "# precision is true-positives / (true-positives + false-positives)\n",
    "metrics.precision_score(predicted_object_type, training_target)"
   ]
  },
  {
   "cell_type": "code",
   "execution_count": 96,
   "metadata": {},
   "outputs": [
    {
     "data": {
      "text/plain": [
       "0.9563694478486966"
      ]
     },
     "execution_count": 96,
     "metadata": {},
     "output_type": "execute_result"
    }
   ],
   "source": [
    "# recall is true-positives / (true_positives + false-negatives)\n",
    "metrics.recall_score(predicted_object_type, training_target)"
   ]
  },
  {
   "cell_type": "code",
   "execution_count": 97,
   "metadata": {},
   "outputs": [
    {
     "data": {
      "text/plain": [
       "0.9648852878559822"
      ]
     },
     "execution_count": 97,
     "metadata": {},
     "output_type": "execute_result"
    }
   ],
   "source": [
    "# f1-score is harmonic mean of precision and recall scores (favors classifiers with similar precision and recall)\n",
    "metrics.f1_score(predicted_object_type, training_target)"
   ]
  },
  {
   "cell_type": "code",
   "execution_count": 98,
   "metadata": {},
   "outputs": [],
   "source": [
    "predicted_probas = model_selection.cross_val_predict(random_forest_grid_search.best_estimator_,\n",
    "                                                     transformed_training_features,\n",
    "                                                     training_target,\n",
    "                                                     cv=NUMBER_CV_FOLDS,\n",
    "                                                     method=\"predict_proba\",\n",
    "                                                     n_jobs=NUMBER_CV_JOBS)"
   ]
  },
  {
   "cell_type": "code",
   "execution_count": 99,
   "metadata": {},
   "outputs": [],
   "source": [
    "precisions, recalls, thresholds = metrics.precision_recall_curve(training_target, predicted_probas[:, 1])"
   ]
  },
  {
   "cell_type": "code",
   "execution_count": 100,
   "metadata": {
    "scrolled": false
   },
   "outputs": [
    {
     "data": {
      "application/javascript": [
       "/* Put everything inside the global mpl namespace */\n",
       "window.mpl = {};\n",
       "\n",
       "\n",
       "mpl.get_websocket_type = function() {\n",
       "    if (typeof(WebSocket) !== 'undefined') {\n",
       "        return WebSocket;\n",
       "    } else if (typeof(MozWebSocket) !== 'undefined') {\n",
       "        return MozWebSocket;\n",
       "    } else {\n",
       "        alert('Your browser does not have WebSocket support.' +\n",
       "              'Please try Chrome, Safari or Firefox ≥ 6. ' +\n",
       "              'Firefox 4 and 5 are also supported but you ' +\n",
       "              'have to enable WebSockets in about:config.');\n",
       "    };\n",
       "}\n",
       "\n",
       "mpl.figure = function(figure_id, websocket, ondownload, parent_element) {\n",
       "    this.id = figure_id;\n",
       "\n",
       "    this.ws = websocket;\n",
       "\n",
       "    this.supports_binary = (this.ws.binaryType != undefined);\n",
       "\n",
       "    if (!this.supports_binary) {\n",
       "        var warnings = document.getElementById(\"mpl-warnings\");\n",
       "        if (warnings) {\n",
       "            warnings.style.display = 'block';\n",
       "            warnings.textContent = (\n",
       "                \"This browser does not support binary websocket messages. \" +\n",
       "                    \"Performance may be slow.\");\n",
       "        }\n",
       "    }\n",
       "\n",
       "    this.imageObj = new Image();\n",
       "\n",
       "    this.context = undefined;\n",
       "    this.message = undefined;\n",
       "    this.canvas = undefined;\n",
       "    this.rubberband_canvas = undefined;\n",
       "    this.rubberband_context = undefined;\n",
       "    this.format_dropdown = undefined;\n",
       "\n",
       "    this.image_mode = 'full';\n",
       "\n",
       "    this.root = $('<div/>');\n",
       "    this._root_extra_style(this.root)\n",
       "    this.root.attr('style', 'display: inline-block');\n",
       "\n",
       "    $(parent_element).append(this.root);\n",
       "\n",
       "    this._init_header(this);\n",
       "    this._init_canvas(this);\n",
       "    this._init_toolbar(this);\n",
       "\n",
       "    var fig = this;\n",
       "\n",
       "    this.waiting = false;\n",
       "\n",
       "    this.ws.onopen =  function () {\n",
       "            fig.send_message(\"supports_binary\", {value: fig.supports_binary});\n",
       "            fig.send_message(\"send_image_mode\", {});\n",
       "            if (mpl.ratio != 1) {\n",
       "                fig.send_message(\"set_dpi_ratio\", {'dpi_ratio': mpl.ratio});\n",
       "            }\n",
       "            fig.send_message(\"refresh\", {});\n",
       "        }\n",
       "\n",
       "    this.imageObj.onload = function() {\n",
       "            if (fig.image_mode == 'full') {\n",
       "                // Full images could contain transparency (where diff images\n",
       "                // almost always do), so we need to clear the canvas so that\n",
       "                // there is no ghosting.\n",
       "                fig.context.clearRect(0, 0, fig.canvas.width, fig.canvas.height);\n",
       "            }\n",
       "            fig.context.drawImage(fig.imageObj, 0, 0);\n",
       "        };\n",
       "\n",
       "    this.imageObj.onunload = function() {\n",
       "        fig.ws.close();\n",
       "    }\n",
       "\n",
       "    this.ws.onmessage = this._make_on_message_function(this);\n",
       "\n",
       "    this.ondownload = ondownload;\n",
       "}\n",
       "\n",
       "mpl.figure.prototype._init_header = function() {\n",
       "    var titlebar = $(\n",
       "        '<div class=\"ui-dialog-titlebar ui-widget-header ui-corner-all ' +\n",
       "        'ui-helper-clearfix\"/>');\n",
       "    var titletext = $(\n",
       "        '<div class=\"ui-dialog-title\" style=\"width: 100%; ' +\n",
       "        'text-align: center; padding: 3px;\"/>');\n",
       "    titlebar.append(titletext)\n",
       "    this.root.append(titlebar);\n",
       "    this.header = titletext[0];\n",
       "}\n",
       "\n",
       "\n",
       "\n",
       "mpl.figure.prototype._canvas_extra_style = function(canvas_div) {\n",
       "\n",
       "}\n",
       "\n",
       "\n",
       "mpl.figure.prototype._root_extra_style = function(canvas_div) {\n",
       "\n",
       "}\n",
       "\n",
       "mpl.figure.prototype._init_canvas = function() {\n",
       "    var fig = this;\n",
       "\n",
       "    var canvas_div = $('<div/>');\n",
       "\n",
       "    canvas_div.attr('style', 'position: relative; clear: both; outline: 0');\n",
       "\n",
       "    function canvas_keyboard_event(event) {\n",
       "        return fig.key_event(event, event['data']);\n",
       "    }\n",
       "\n",
       "    canvas_div.keydown('key_press', canvas_keyboard_event);\n",
       "    canvas_div.keyup('key_release', canvas_keyboard_event);\n",
       "    this.canvas_div = canvas_div\n",
       "    this._canvas_extra_style(canvas_div)\n",
       "    this.root.append(canvas_div);\n",
       "\n",
       "    var canvas = $('<canvas/>');\n",
       "    canvas.addClass('mpl-canvas');\n",
       "    canvas.attr('style', \"left: 0; top: 0; z-index: 0; outline: 0\")\n",
       "\n",
       "    this.canvas = canvas[0];\n",
       "    this.context = canvas[0].getContext(\"2d\");\n",
       "\n",
       "    var backingStore = this.context.backingStorePixelRatio ||\n",
       "\tthis.context.webkitBackingStorePixelRatio ||\n",
       "\tthis.context.mozBackingStorePixelRatio ||\n",
       "\tthis.context.msBackingStorePixelRatio ||\n",
       "\tthis.context.oBackingStorePixelRatio ||\n",
       "\tthis.context.backingStorePixelRatio || 1;\n",
       "\n",
       "    mpl.ratio = (window.devicePixelRatio || 1) / backingStore;\n",
       "\n",
       "    var rubberband = $('<canvas/>');\n",
       "    rubberband.attr('style', \"position: absolute; left: 0; top: 0; z-index: 1;\")\n",
       "\n",
       "    var pass_mouse_events = true;\n",
       "\n",
       "    canvas_div.resizable({\n",
       "        start: function(event, ui) {\n",
       "            pass_mouse_events = false;\n",
       "        },\n",
       "        resize: function(event, ui) {\n",
       "            fig.request_resize(ui.size.width, ui.size.height);\n",
       "        },\n",
       "        stop: function(event, ui) {\n",
       "            pass_mouse_events = true;\n",
       "            fig.request_resize(ui.size.width, ui.size.height);\n",
       "        },\n",
       "    });\n",
       "\n",
       "    function mouse_event_fn(event) {\n",
       "        if (pass_mouse_events)\n",
       "            return fig.mouse_event(event, event['data']);\n",
       "    }\n",
       "\n",
       "    rubberband.mousedown('button_press', mouse_event_fn);\n",
       "    rubberband.mouseup('button_release', mouse_event_fn);\n",
       "    // Throttle sequential mouse events to 1 every 20ms.\n",
       "    rubberband.mousemove('motion_notify', mouse_event_fn);\n",
       "\n",
       "    rubberband.mouseenter('figure_enter', mouse_event_fn);\n",
       "    rubberband.mouseleave('figure_leave', mouse_event_fn);\n",
       "\n",
       "    canvas_div.on(\"wheel\", function (event) {\n",
       "        event = event.originalEvent;\n",
       "        event['data'] = 'scroll'\n",
       "        if (event.deltaY < 0) {\n",
       "            event.step = 1;\n",
       "        } else {\n",
       "            event.step = -1;\n",
       "        }\n",
       "        mouse_event_fn(event);\n",
       "    });\n",
       "\n",
       "    canvas_div.append(canvas);\n",
       "    canvas_div.append(rubberband);\n",
       "\n",
       "    this.rubberband = rubberband;\n",
       "    this.rubberband_canvas = rubberband[0];\n",
       "    this.rubberband_context = rubberband[0].getContext(\"2d\");\n",
       "    this.rubberband_context.strokeStyle = \"#000000\";\n",
       "\n",
       "    this._resize_canvas = function(width, height) {\n",
       "        // Keep the size of the canvas, canvas container, and rubber band\n",
       "        // canvas in synch.\n",
       "        canvas_div.css('width', width)\n",
       "        canvas_div.css('height', height)\n",
       "\n",
       "        canvas.attr('width', width * mpl.ratio);\n",
       "        canvas.attr('height', height * mpl.ratio);\n",
       "        canvas.attr('style', 'width: ' + width + 'px; height: ' + height + 'px;');\n",
       "\n",
       "        rubberband.attr('width', width);\n",
       "        rubberband.attr('height', height);\n",
       "    }\n",
       "\n",
       "    // Set the figure to an initial 600x600px, this will subsequently be updated\n",
       "    // upon first draw.\n",
       "    this._resize_canvas(600, 600);\n",
       "\n",
       "    // Disable right mouse context menu.\n",
       "    $(this.rubberband_canvas).bind(\"contextmenu\",function(e){\n",
       "        return false;\n",
       "    });\n",
       "\n",
       "    function set_focus () {\n",
       "        canvas.focus();\n",
       "        canvas_div.focus();\n",
       "    }\n",
       "\n",
       "    window.setTimeout(set_focus, 100);\n",
       "}\n",
       "\n",
       "mpl.figure.prototype._init_toolbar = function() {\n",
       "    var fig = this;\n",
       "\n",
       "    var nav_element = $('<div/>')\n",
       "    nav_element.attr('style', 'width: 100%');\n",
       "    this.root.append(nav_element);\n",
       "\n",
       "    // Define a callback function for later on.\n",
       "    function toolbar_event(event) {\n",
       "        return fig.toolbar_button_onclick(event['data']);\n",
       "    }\n",
       "    function toolbar_mouse_event(event) {\n",
       "        return fig.toolbar_button_onmouseover(event['data']);\n",
       "    }\n",
       "\n",
       "    for(var toolbar_ind in mpl.toolbar_items) {\n",
       "        var name = mpl.toolbar_items[toolbar_ind][0];\n",
       "        var tooltip = mpl.toolbar_items[toolbar_ind][1];\n",
       "        var image = mpl.toolbar_items[toolbar_ind][2];\n",
       "        var method_name = mpl.toolbar_items[toolbar_ind][3];\n",
       "\n",
       "        if (!name) {\n",
       "            // put a spacer in here.\n",
       "            continue;\n",
       "        }\n",
       "        var button = $('<button/>');\n",
       "        button.addClass('ui-button ui-widget ui-state-default ui-corner-all ' +\n",
       "                        'ui-button-icon-only');\n",
       "        button.attr('role', 'button');\n",
       "        button.attr('aria-disabled', 'false');\n",
       "        button.click(method_name, toolbar_event);\n",
       "        button.mouseover(tooltip, toolbar_mouse_event);\n",
       "\n",
       "        var icon_img = $('<span/>');\n",
       "        icon_img.addClass('ui-button-icon-primary ui-icon');\n",
       "        icon_img.addClass(image);\n",
       "        icon_img.addClass('ui-corner-all');\n",
       "\n",
       "        var tooltip_span = $('<span/>');\n",
       "        tooltip_span.addClass('ui-button-text');\n",
       "        tooltip_span.html(tooltip);\n",
       "\n",
       "        button.append(icon_img);\n",
       "        button.append(tooltip_span);\n",
       "\n",
       "        nav_element.append(button);\n",
       "    }\n",
       "\n",
       "    var fmt_picker_span = $('<span/>');\n",
       "\n",
       "    var fmt_picker = $('<select/>');\n",
       "    fmt_picker.addClass('mpl-toolbar-option ui-widget ui-widget-content');\n",
       "    fmt_picker_span.append(fmt_picker);\n",
       "    nav_element.append(fmt_picker_span);\n",
       "    this.format_dropdown = fmt_picker[0];\n",
       "\n",
       "    for (var ind in mpl.extensions) {\n",
       "        var fmt = mpl.extensions[ind];\n",
       "        var option = $(\n",
       "            '<option/>', {selected: fmt === mpl.default_extension}).html(fmt);\n",
       "        fmt_picker.append(option)\n",
       "    }\n",
       "\n",
       "    // Add hover states to the ui-buttons\n",
       "    $( \".ui-button\" ).hover(\n",
       "        function() { $(this).addClass(\"ui-state-hover\");},\n",
       "        function() { $(this).removeClass(\"ui-state-hover\");}\n",
       "    );\n",
       "\n",
       "    var status_bar = $('<span class=\"mpl-message\"/>');\n",
       "    nav_element.append(status_bar);\n",
       "    this.message = status_bar[0];\n",
       "}\n",
       "\n",
       "mpl.figure.prototype.request_resize = function(x_pixels, y_pixels) {\n",
       "    // Request matplotlib to resize the figure. Matplotlib will then trigger a resize in the client,\n",
       "    // which will in turn request a refresh of the image.\n",
       "    this.send_message('resize', {'width': x_pixels, 'height': y_pixels});\n",
       "}\n",
       "\n",
       "mpl.figure.prototype.send_message = function(type, properties) {\n",
       "    properties['type'] = type;\n",
       "    properties['figure_id'] = this.id;\n",
       "    this.ws.send(JSON.stringify(properties));\n",
       "}\n",
       "\n",
       "mpl.figure.prototype.send_draw_message = function() {\n",
       "    if (!this.waiting) {\n",
       "        this.waiting = true;\n",
       "        this.ws.send(JSON.stringify({type: \"draw\", figure_id: this.id}));\n",
       "    }\n",
       "}\n",
       "\n",
       "\n",
       "mpl.figure.prototype.handle_save = function(fig, msg) {\n",
       "    var format_dropdown = fig.format_dropdown;\n",
       "    var format = format_dropdown.options[format_dropdown.selectedIndex].value;\n",
       "    fig.ondownload(fig, format);\n",
       "}\n",
       "\n",
       "\n",
       "mpl.figure.prototype.handle_resize = function(fig, msg) {\n",
       "    var size = msg['size'];\n",
       "    if (size[0] != fig.canvas.width || size[1] != fig.canvas.height) {\n",
       "        fig._resize_canvas(size[0], size[1]);\n",
       "        fig.send_message(\"refresh\", {});\n",
       "    };\n",
       "}\n",
       "\n",
       "mpl.figure.prototype.handle_rubberband = function(fig, msg) {\n",
       "    var x0 = msg['x0'] / mpl.ratio;\n",
       "    var y0 = (fig.canvas.height - msg['y0']) / mpl.ratio;\n",
       "    var x1 = msg['x1'] / mpl.ratio;\n",
       "    var y1 = (fig.canvas.height - msg['y1']) / mpl.ratio;\n",
       "    x0 = Math.floor(x0) + 0.5;\n",
       "    y0 = Math.floor(y0) + 0.5;\n",
       "    x1 = Math.floor(x1) + 0.5;\n",
       "    y1 = Math.floor(y1) + 0.5;\n",
       "    var min_x = Math.min(x0, x1);\n",
       "    var min_y = Math.min(y0, y1);\n",
       "    var width = Math.abs(x1 - x0);\n",
       "    var height = Math.abs(y1 - y0);\n",
       "\n",
       "    fig.rubberband_context.clearRect(\n",
       "        0, 0, fig.canvas.width, fig.canvas.height);\n",
       "\n",
       "    fig.rubberband_context.strokeRect(min_x, min_y, width, height);\n",
       "}\n",
       "\n",
       "mpl.figure.prototype.handle_figure_label = function(fig, msg) {\n",
       "    // Updates the figure title.\n",
       "    fig.header.textContent = msg['label'];\n",
       "}\n",
       "\n",
       "mpl.figure.prototype.handle_cursor = function(fig, msg) {\n",
       "    var cursor = msg['cursor'];\n",
       "    switch(cursor)\n",
       "    {\n",
       "    case 0:\n",
       "        cursor = 'pointer';\n",
       "        break;\n",
       "    case 1:\n",
       "        cursor = 'default';\n",
       "        break;\n",
       "    case 2:\n",
       "        cursor = 'crosshair';\n",
       "        break;\n",
       "    case 3:\n",
       "        cursor = 'move';\n",
       "        break;\n",
       "    }\n",
       "    fig.rubberband_canvas.style.cursor = cursor;\n",
       "}\n",
       "\n",
       "mpl.figure.prototype.handle_message = function(fig, msg) {\n",
       "    fig.message.textContent = msg['message'];\n",
       "}\n",
       "\n",
       "mpl.figure.prototype.handle_draw = function(fig, msg) {\n",
       "    // Request the server to send over a new figure.\n",
       "    fig.send_draw_message();\n",
       "}\n",
       "\n",
       "mpl.figure.prototype.handle_image_mode = function(fig, msg) {\n",
       "    fig.image_mode = msg['mode'];\n",
       "}\n",
       "\n",
       "mpl.figure.prototype.updated_canvas_event = function() {\n",
       "    // Called whenever the canvas gets updated.\n",
       "    this.send_message(\"ack\", {});\n",
       "}\n",
       "\n",
       "// A function to construct a web socket function for onmessage handling.\n",
       "// Called in the figure constructor.\n",
       "mpl.figure.prototype._make_on_message_function = function(fig) {\n",
       "    return function socket_on_message(evt) {\n",
       "        if (evt.data instanceof Blob) {\n",
       "            /* FIXME: We get \"Resource interpreted as Image but\n",
       "             * transferred with MIME type text/plain:\" errors on\n",
       "             * Chrome.  But how to set the MIME type?  It doesn't seem\n",
       "             * to be part of the websocket stream */\n",
       "            evt.data.type = \"image/png\";\n",
       "\n",
       "            /* Free the memory for the previous frames */\n",
       "            if (fig.imageObj.src) {\n",
       "                (window.URL || window.webkitURL).revokeObjectURL(\n",
       "                    fig.imageObj.src);\n",
       "            }\n",
       "\n",
       "            fig.imageObj.src = (window.URL || window.webkitURL).createObjectURL(\n",
       "                evt.data);\n",
       "            fig.updated_canvas_event();\n",
       "            fig.waiting = false;\n",
       "            return;\n",
       "        }\n",
       "        else if (typeof evt.data === 'string' && evt.data.slice(0, 21) == \"data:image/png;base64\") {\n",
       "            fig.imageObj.src = evt.data;\n",
       "            fig.updated_canvas_event();\n",
       "            fig.waiting = false;\n",
       "            return;\n",
       "        }\n",
       "\n",
       "        var msg = JSON.parse(evt.data);\n",
       "        var msg_type = msg['type'];\n",
       "\n",
       "        // Call the  \"handle_{type}\" callback, which takes\n",
       "        // the figure and JSON message as its only arguments.\n",
       "        try {\n",
       "            var callback = fig[\"handle_\" + msg_type];\n",
       "        } catch (e) {\n",
       "            console.log(\"No handler for the '\" + msg_type + \"' message type: \", msg);\n",
       "            return;\n",
       "        }\n",
       "\n",
       "        if (callback) {\n",
       "            try {\n",
       "                // console.log(\"Handling '\" + msg_type + \"' message: \", msg);\n",
       "                callback(fig, msg);\n",
       "            } catch (e) {\n",
       "                console.log(\"Exception inside the 'handler_\" + msg_type + \"' callback:\", e, e.stack, msg);\n",
       "            }\n",
       "        }\n",
       "    };\n",
       "}\n",
       "\n",
       "// from http://stackoverflow.com/questions/1114465/getting-mouse-location-in-canvas\n",
       "mpl.findpos = function(e) {\n",
       "    //this section is from http://www.quirksmode.org/js/events_properties.html\n",
       "    var targ;\n",
       "    if (!e)\n",
       "        e = window.event;\n",
       "    if (e.target)\n",
       "        targ = e.target;\n",
       "    else if (e.srcElement)\n",
       "        targ = e.srcElement;\n",
       "    if (targ.nodeType == 3) // defeat Safari bug\n",
       "        targ = targ.parentNode;\n",
       "\n",
       "    // jQuery normalizes the pageX and pageY\n",
       "    // pageX,Y are the mouse positions relative to the document\n",
       "    // offset() returns the position of the element relative to the document\n",
       "    var x = e.pageX - $(targ).offset().left;\n",
       "    var y = e.pageY - $(targ).offset().top;\n",
       "\n",
       "    return {\"x\": x, \"y\": y};\n",
       "};\n",
       "\n",
       "/*\n",
       " * return a copy of an object with only non-object keys\n",
       " * we need this to avoid circular references\n",
       " * http://stackoverflow.com/a/24161582/3208463\n",
       " */\n",
       "function simpleKeys (original) {\n",
       "  return Object.keys(original).reduce(function (obj, key) {\n",
       "    if (typeof original[key] !== 'object')\n",
       "        obj[key] = original[key]\n",
       "    return obj;\n",
       "  }, {});\n",
       "}\n",
       "\n",
       "mpl.figure.prototype.mouse_event = function(event, name) {\n",
       "    var canvas_pos = mpl.findpos(event)\n",
       "\n",
       "    if (name === 'button_press')\n",
       "    {\n",
       "        this.canvas.focus();\n",
       "        this.canvas_div.focus();\n",
       "    }\n",
       "\n",
       "    var x = canvas_pos.x * mpl.ratio;\n",
       "    var y = canvas_pos.y * mpl.ratio;\n",
       "\n",
       "    this.send_message(name, {x: x, y: y, button: event.button,\n",
       "                             step: event.step,\n",
       "                             guiEvent: simpleKeys(event)});\n",
       "\n",
       "    /* This prevents the web browser from automatically changing to\n",
       "     * the text insertion cursor when the button is pressed.  We want\n",
       "     * to control all of the cursor setting manually through the\n",
       "     * 'cursor' event from matplotlib */\n",
       "    event.preventDefault();\n",
       "    return false;\n",
       "}\n",
       "\n",
       "mpl.figure.prototype._key_event_extra = function(event, name) {\n",
       "    // Handle any extra behaviour associated with a key event\n",
       "}\n",
       "\n",
       "mpl.figure.prototype.key_event = function(event, name) {\n",
       "\n",
       "    // Prevent repeat events\n",
       "    if (name == 'key_press')\n",
       "    {\n",
       "        if (event.which === this._key)\n",
       "            return;\n",
       "        else\n",
       "            this._key = event.which;\n",
       "    }\n",
       "    if (name == 'key_release')\n",
       "        this._key = null;\n",
       "\n",
       "    var value = '';\n",
       "    if (event.ctrlKey && event.which != 17)\n",
       "        value += \"ctrl+\";\n",
       "    if (event.altKey && event.which != 18)\n",
       "        value += \"alt+\";\n",
       "    if (event.shiftKey && event.which != 16)\n",
       "        value += \"shift+\";\n",
       "\n",
       "    value += 'k';\n",
       "    value += event.which.toString();\n",
       "\n",
       "    this._key_event_extra(event, name);\n",
       "\n",
       "    this.send_message(name, {key: value,\n",
       "                             guiEvent: simpleKeys(event)});\n",
       "    return false;\n",
       "}\n",
       "\n",
       "mpl.figure.prototype.toolbar_button_onclick = function(name) {\n",
       "    if (name == 'download') {\n",
       "        this.handle_save(this, null);\n",
       "    } else {\n",
       "        this.send_message(\"toolbar_button\", {name: name});\n",
       "    }\n",
       "};\n",
       "\n",
       "mpl.figure.prototype.toolbar_button_onmouseover = function(tooltip) {\n",
       "    this.message.textContent = tooltip;\n",
       "};\n",
       "mpl.toolbar_items = [[\"Home\", \"Reset original view\", \"fa fa-home icon-home\", \"home\"], [\"Back\", \"Back to previous view\", \"fa fa-arrow-left icon-arrow-left\", \"back\"], [\"Forward\", \"Forward to next view\", \"fa fa-arrow-right icon-arrow-right\", \"forward\"], [\"\", \"\", \"\", \"\"], [\"Pan\", \"Pan axes with left mouse, zoom with right\", \"fa fa-arrows icon-move\", \"pan\"], [\"Zoom\", \"Zoom to rectangle\", \"fa fa-square-o icon-check-empty\", \"zoom\"], [\"\", \"\", \"\", \"\"], [\"Download\", \"Download plot\", \"fa fa-floppy-o icon-save\", \"download\"]];\n",
       "\n",
       "mpl.extensions = [\"eps\", \"pdf\", \"png\", \"ps\", \"raw\", \"svg\"];\n",
       "\n",
       "mpl.default_extension = \"png\";var comm_websocket_adapter = function(comm) {\n",
       "    // Create a \"websocket\"-like object which calls the given IPython comm\n",
       "    // object with the appropriate methods. Currently this is a non binary\n",
       "    // socket, so there is still some room for performance tuning.\n",
       "    var ws = {};\n",
       "\n",
       "    ws.close = function() {\n",
       "        comm.close()\n",
       "    };\n",
       "    ws.send = function(m) {\n",
       "        //console.log('sending', m);\n",
       "        comm.send(m);\n",
       "    };\n",
       "    // Register the callback with on_msg.\n",
       "    comm.on_msg(function(msg) {\n",
       "        //console.log('receiving', msg['content']['data'], msg);\n",
       "        // Pass the mpl event to the overridden (by mpl) onmessage function.\n",
       "        ws.onmessage(msg['content']['data'])\n",
       "    });\n",
       "    return ws;\n",
       "}\n",
       "\n",
       "mpl.mpl_figure_comm = function(comm, msg) {\n",
       "    // This is the function which gets called when the mpl process\n",
       "    // starts-up an IPython Comm through the \"matplotlib\" channel.\n",
       "\n",
       "    var id = msg.content.data.id;\n",
       "    // Get hold of the div created by the display call when the Comm\n",
       "    // socket was opened in Python.\n",
       "    var element = $(\"#\" + id);\n",
       "    var ws_proxy = comm_websocket_adapter(comm)\n",
       "\n",
       "    function ondownload(figure, format) {\n",
       "        window.open(figure.imageObj.src);\n",
       "    }\n",
       "\n",
       "    var fig = new mpl.figure(id, ws_proxy,\n",
       "                           ondownload,\n",
       "                           element.get(0));\n",
       "\n",
       "    // Call onopen now - mpl needs it, as it is assuming we've passed it a real\n",
       "    // web socket which is closed, not our websocket->open comm proxy.\n",
       "    ws_proxy.onopen();\n",
       "\n",
       "    fig.parent_element = element.get(0);\n",
       "    fig.cell_info = mpl.find_output_cell(\"<div id='\" + id + \"'></div>\");\n",
       "    if (!fig.cell_info) {\n",
       "        console.error(\"Failed to find cell for figure\", id, fig);\n",
       "        return;\n",
       "    }\n",
       "\n",
       "    var output_index = fig.cell_info[2]\n",
       "    var cell = fig.cell_info[0];\n",
       "\n",
       "};\n",
       "\n",
       "mpl.figure.prototype.handle_close = function(fig, msg) {\n",
       "    var width = fig.canvas.width/mpl.ratio\n",
       "    fig.root.unbind('remove')\n",
       "\n",
       "    // Update the output cell to use the data from the current canvas.\n",
       "    fig.push_to_output();\n",
       "    var dataURL = fig.canvas.toDataURL();\n",
       "    // Re-enable the keyboard manager in IPython - without this line, in FF,\n",
       "    // the notebook keyboard shortcuts fail.\n",
       "    IPython.keyboard_manager.enable()\n",
       "    $(fig.parent_element).html('<img src=\"' + dataURL + '\" width=\"' + width + '\">');\n",
       "    fig.close_ws(fig, msg);\n",
       "}\n",
       "\n",
       "mpl.figure.prototype.close_ws = function(fig, msg){\n",
       "    fig.send_message('closing', msg);\n",
       "    // fig.ws.close()\n",
       "}\n",
       "\n",
       "mpl.figure.prototype.push_to_output = function(remove_interactive) {\n",
       "    // Turn the data on the canvas into data in the output cell.\n",
       "    var width = this.canvas.width/mpl.ratio\n",
       "    var dataURL = this.canvas.toDataURL();\n",
       "    this.cell_info[1]['text/html'] = '<img src=\"' + dataURL + '\" width=\"' + width + '\">';\n",
       "}\n",
       "\n",
       "mpl.figure.prototype.updated_canvas_event = function() {\n",
       "    // Tell IPython that the notebook contents must change.\n",
       "    IPython.notebook.set_dirty(true);\n",
       "    this.send_message(\"ack\", {});\n",
       "    var fig = this;\n",
       "    // Wait a second, then push the new image to the DOM so\n",
       "    // that it is saved nicely (might be nice to debounce this).\n",
       "    setTimeout(function () { fig.push_to_output() }, 1000);\n",
       "}\n",
       "\n",
       "mpl.figure.prototype._init_toolbar = function() {\n",
       "    var fig = this;\n",
       "\n",
       "    var nav_element = $('<div/>')\n",
       "    nav_element.attr('style', 'width: 100%');\n",
       "    this.root.append(nav_element);\n",
       "\n",
       "    // Define a callback function for later on.\n",
       "    function toolbar_event(event) {\n",
       "        return fig.toolbar_button_onclick(event['data']);\n",
       "    }\n",
       "    function toolbar_mouse_event(event) {\n",
       "        return fig.toolbar_button_onmouseover(event['data']);\n",
       "    }\n",
       "\n",
       "    for(var toolbar_ind in mpl.toolbar_items){\n",
       "        var name = mpl.toolbar_items[toolbar_ind][0];\n",
       "        var tooltip = mpl.toolbar_items[toolbar_ind][1];\n",
       "        var image = mpl.toolbar_items[toolbar_ind][2];\n",
       "        var method_name = mpl.toolbar_items[toolbar_ind][3];\n",
       "\n",
       "        if (!name) { continue; };\n",
       "\n",
       "        var button = $('<button class=\"btn btn-default\" href=\"#\" title=\"' + name + '\"><i class=\"fa ' + image + ' fa-lg\"></i></button>');\n",
       "        button.click(method_name, toolbar_event);\n",
       "        button.mouseover(tooltip, toolbar_mouse_event);\n",
       "        nav_element.append(button);\n",
       "    }\n",
       "\n",
       "    // Add the status bar.\n",
       "    var status_bar = $('<span class=\"mpl-message\" style=\"text-align:right; float: right;\"/>');\n",
       "    nav_element.append(status_bar);\n",
       "    this.message = status_bar[0];\n",
       "\n",
       "    // Add the close button to the window.\n",
       "    var buttongrp = $('<div class=\"btn-group inline pull-right\"></div>');\n",
       "    var button = $('<button class=\"btn btn-mini btn-primary\" href=\"#\" title=\"Stop Interaction\"><i class=\"fa fa-power-off icon-remove icon-large\"></i></button>');\n",
       "    button.click(function (evt) { fig.handle_close(fig, {}); } );\n",
       "    button.mouseover('Stop Interaction', toolbar_mouse_event);\n",
       "    buttongrp.append(button);\n",
       "    var titlebar = this.root.find($('.ui-dialog-titlebar'));\n",
       "    titlebar.prepend(buttongrp);\n",
       "}\n",
       "\n",
       "mpl.figure.prototype._root_extra_style = function(el){\n",
       "    var fig = this\n",
       "    el.on(\"remove\", function(){\n",
       "\tfig.close_ws(fig, {});\n",
       "    });\n",
       "}\n",
       "\n",
       "mpl.figure.prototype._canvas_extra_style = function(el){\n",
       "    // this is important to make the div 'focusable\n",
       "    el.attr('tabindex', 0)\n",
       "    // reach out to IPython and tell the keyboard manager to turn it's self\n",
       "    // off when our div gets focus\n",
       "\n",
       "    // location in version 3\n",
       "    if (IPython.notebook.keyboard_manager) {\n",
       "        IPython.notebook.keyboard_manager.register_events(el);\n",
       "    }\n",
       "    else {\n",
       "        // location in version 2\n",
       "        IPython.keyboard_manager.register_events(el);\n",
       "    }\n",
       "\n",
       "}\n",
       "\n",
       "mpl.figure.prototype._key_event_extra = function(event, name) {\n",
       "    var manager = IPython.notebook.keyboard_manager;\n",
       "    if (!manager)\n",
       "        manager = IPython.keyboard_manager;\n",
       "\n",
       "    // Check for shift+enter\n",
       "    if (event.shiftKey && event.which == 13) {\n",
       "        this.canvas_div.blur();\n",
       "        event.shiftKey = false;\n",
       "        // Send a \"J\" for go to next cell\n",
       "        event.which = 74;\n",
       "        event.keyCode = 74;\n",
       "        manager.command_mode();\n",
       "        manager.handle_keydown(event);\n",
       "    }\n",
       "}\n",
       "\n",
       "mpl.figure.prototype.handle_save = function(fig, msg) {\n",
       "    fig.ondownload(fig, null);\n",
       "}\n",
       "\n",
       "\n",
       "mpl.find_output_cell = function(html_output) {\n",
       "    // Return the cell and output element which can be found *uniquely* in the notebook.\n",
       "    // Note - this is a bit hacky, but it is done because the \"notebook_saving.Notebook\"\n",
       "    // IPython event is triggered only after the cells have been serialised, which for\n",
       "    // our purposes (turning an active figure into a static one), is too late.\n",
       "    var cells = IPython.notebook.get_cells();\n",
       "    var ncells = cells.length;\n",
       "    for (var i=0; i<ncells; i++) {\n",
       "        var cell = cells[i];\n",
       "        if (cell.cell_type === 'code'){\n",
       "            for (var j=0; j<cell.output_area.outputs.length; j++) {\n",
       "                var data = cell.output_area.outputs[j];\n",
       "                if (data.data) {\n",
       "                    // IPython >= 3 moved mimebundle to data attribute of output\n",
       "                    data = data.data;\n",
       "                }\n",
       "                if (data['text/html'] == html_output) {\n",
       "                    return [cell, data, j];\n",
       "                }\n",
       "            }\n",
       "        }\n",
       "    }\n",
       "}\n",
       "\n",
       "// Register the function which deals with the matplotlib target/channel.\n",
       "// The kernel may be null if the page has been refreshed.\n",
       "if (IPython.notebook.kernel != null) {\n",
       "    IPython.notebook.kernel.comm_manager.register_target('matplotlib', mpl.mpl_figure_comm);\n",
       "}\n"
      ],
      "text/plain": [
       "<IPython.core.display.Javascript object>"
      ]
     },
     "metadata": {},
     "output_type": "display_data"
    },
    {
     "data": {
      "text/html": [
       "<img src=\"data:image/png;base64,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\" width=\"640\">"
      ],
      "text/plain": [
       "<IPython.core.display.HTML object>"
      ]
     },
     "metadata": {},
     "output_type": "display_data"
    },
    {
     "data": {
      "text/plain": [
       "<matplotlib.legend.Legend at 0x7fb7f4f0f898>"
      ]
     },
     "execution_count": 100,
     "metadata": {},
     "output_type": "execute_result"
    }
   ],
   "source": [
    "_, ax = plt.subplots(1,1)\n",
    "ax.plot(thresholds, precisions[:-1], label=\"Precision\")\n",
    "ax.plot(thresholds, recalls[:-1], label=\"Recall\")\n",
    "ax.set_xlabel(\"Threshold\")\n",
    "ax.set_title(\"Random Forest\", fontsize=25)\n",
    "ax.legend()"
   ]
  },
  {
   "cell_type": "code",
   "execution_count": 104,
   "metadata": {},
   "outputs": [
    {
     "data": {
      "text/plain": [
       "381181"
      ]
     },
     "execution_count": 104,
     "metadata": {},
     "output_type": "execute_result"
    }
   ],
   "source": [
    "_required_threshold = np.max(thresholds[recalls[:-1] > 0.99])\n",
    "number_images_to_check = np.sum(predicted_probas[:, 1] >= _required_threshold)\n",
    "number_images_to_check"
   ]
  },
  {
   "cell_type": "code",
   "execution_count": 103,
   "metadata": {},
   "outputs": [
    {
     "data": {
      "text/plain": [
       "0.5300290612789744"
      ]
     },
     "execution_count": 103,
     "metadata": {},
     "output_type": "execute_result"
    }
   ],
   "source": [
    "# cut total human effort in half!\n",
    "total_training_images, _ = transformed_training_features.shape \n",
    "number_images_to_check / total_training_images"
   ]
  },
  {
   "cell_type": "markdown",
   "metadata": {},
   "source": [
    "## Evaluate model performance on the testing data set"
   ]
  },
  {
   "cell_type": "code",
   "execution_count": 67,
   "metadata": {},
   "outputs": [],
   "source": [
    "transformed_testing_features = column_transformer.transform(testing_features.drop(\"OBJECT_TYPE\", axis=1))\n",
    "testing_target = (testing_features.get(\"OBJECT_TYPE\")\n",
    "                                  .values)"
   ]
  },
  {
   "cell_type": "code",
   "execution_count": 69,
   "metadata": {},
   "outputs": [],
   "source": [
    "final_data_path = \"../data/final\"\n",
    "if not os.path.isdir(final_data_path):\n",
    "    os.makedirs(final_data_path)\n",
    "_ = joblib.dump(transformed_testing_features, f\"{final_data_path}/transformed-testing-features.pkl\")\n",
    "_ = joblib.dump(testing_target, f\"{final_data_path}/testing-target.pkl\")"
   ]
  },
  {
   "cell_type": "code",
   "execution_count": 74,
   "metadata": {},
   "outputs": [],
   "source": [
    "random_forest_auc_scores = model_selection.cross_val_score(random_forest_grid_search.best_estimator_,\n",
    "                                                           transformed_testing_features,\n",
    "                                                           testing_target,\n",
    "                                                           cv=NUMBER_CV_FOLDS,\n",
    "                                                           scoring=SCORING,\n",
    "                                                           n_jobs=NUMBER_CV_JOBS)"
   ]
  },
  {
   "cell_type": "code",
   "execution_count": 75,
   "metadata": {},
   "outputs": [
    {
     "data": {
      "text/plain": [
       "0.9915172572846179"
      ]
     },
     "execution_count": 75,
     "metadata": {},
     "output_type": "execute_result"
    }
   ],
   "source": [
    "random_forest_auc_scores.mean()"
   ]
  },
  {
   "cell_type": "code",
   "execution_count": 76,
   "metadata": {},
   "outputs": [],
   "source": [
    "xgb_gpu_auc_scores = model_selection.cross_val_score(xgb_gpu_grid_search.best_estimator_,\n",
    "                                                     transformed_testing_features,\n",
    "                                                     testing_target,\n",
    "                                                     cv=NUMBER_CV_FOLDS,\n",
    "                                                     scoring=SCORING,\n",
    "                                                     n_jobs=NUMBER_CV_JOBS)"
   ]
  },
  {
   "cell_type": "code",
   "execution_count": 77,
   "metadata": {},
   "outputs": [
    {
     "data": {
      "text/plain": [
       "0.9941167532043473"
      ]
     },
     "execution_count": 77,
     "metadata": {},
     "output_type": "execute_result"
    }
   ],
   "source": [
    "xgb_gpu_auc_scores.mean()"
   ]
  },
  {
   "cell_type": "markdown",
   "metadata": {},
   "source": [
    "Comparing the performance of the tuned Random Forest classifier and the tuned XGBoost classifier as measured by the area under the ROC curve on the testing data set allows us to select the best model. In this case the XGBoost looks like the best model but there isn't too much of a difference between the average scores of the two models."
   ]
  },
  {
   "cell_type": "code",
   "execution_count": 78,
   "metadata": {},
   "outputs": [],
   "source": [
    "predicted_object_type = model_selection.cross_val_predict(xgb_gpu_grid_search.best_estimator_,\n",
    "                                                          transformed_testing_features,\n",
    "                                                          testing_target,\n",
    "                                                          cv=NUMBER_CV_FOLDS,\n",
    "                                                          n_jobs=NUMBER_CV_JOBS)"
   ]
  },
  {
   "cell_type": "code",
   "execution_count": 79,
   "metadata": {},
   "outputs": [
    {
     "data": {
      "text/plain": [
       "array([[87391,  2323],\n",
       "       [ 3428, 86651]])"
      ]
     },
     "execution_count": 79,
     "metadata": {},
     "output_type": "execute_result"
    }
   ],
   "source": [
    "# row is actual object type; column is predicted object type\n",
    "metrics.confusion_matrix(predicted_object_type, testing_target)"
   ]
  },
  {
   "cell_type": "code",
   "execution_count": 80,
   "metadata": {},
   "outputs": [],
   "source": [
    "predicted_probas = model_selection.cross_val_predict(xgb_gpu_grid_search.best_estimator_,\n",
    "                                                     transformed_testing_features,\n",
    "                                                     testing_target,\n",
    "                                                     cv=NUMBER_CV_FOLDS,\n",
    "                                                     method=\"predict_proba\",\n",
    "                                                     n_jobs=NUMBER_CV_JOBS)\n",
    "\n",
    "precisions, recalls, thresholds = metrics.precision_recall_curve(testing_target, predicted_probas[:, 1])"
   ]
  },
  {
   "cell_type": "code",
   "execution_count": 81,
   "metadata": {},
   "outputs": [
    {
     "data": {
      "application/javascript": [
       "/* Put everything inside the global mpl namespace */\n",
       "window.mpl = {};\n",
       "\n",
       "\n",
       "mpl.get_websocket_type = function() {\n",
       "    if (typeof(WebSocket) !== 'undefined') {\n",
       "        return WebSocket;\n",
       "    } else if (typeof(MozWebSocket) !== 'undefined') {\n",
       "        return MozWebSocket;\n",
       "    } else {\n",
       "        alert('Your browser does not have WebSocket support.' +\n",
       "              'Please try Chrome, Safari or Firefox ≥ 6. ' +\n",
       "              'Firefox 4 and 5 are also supported but you ' +\n",
       "              'have to enable WebSockets in about:config.');\n",
       "    };\n",
       "}\n",
       "\n",
       "mpl.figure = function(figure_id, websocket, ondownload, parent_element) {\n",
       "    this.id = figure_id;\n",
       "\n",
       "    this.ws = websocket;\n",
       "\n",
       "    this.supports_binary = (this.ws.binaryType != undefined);\n",
       "\n",
       "    if (!this.supports_binary) {\n",
       "        var warnings = document.getElementById(\"mpl-warnings\");\n",
       "        if (warnings) {\n",
       "            warnings.style.display = 'block';\n",
       "            warnings.textContent = (\n",
       "                \"This browser does not support binary websocket messages. \" +\n",
       "                    \"Performance may be slow.\");\n",
       "        }\n",
       "    }\n",
       "\n",
       "    this.imageObj = new Image();\n",
       "\n",
       "    this.context = undefined;\n",
       "    this.message = undefined;\n",
       "    this.canvas = undefined;\n",
       "    this.rubberband_canvas = undefined;\n",
       "    this.rubberband_context = undefined;\n",
       "    this.format_dropdown = undefined;\n",
       "\n",
       "    this.image_mode = 'full';\n",
       "\n",
       "    this.root = $('<div/>');\n",
       "    this._root_extra_style(this.root)\n",
       "    this.root.attr('style', 'display: inline-block');\n",
       "\n",
       "    $(parent_element).append(this.root);\n",
       "\n",
       "    this._init_header(this);\n",
       "    this._init_canvas(this);\n",
       "    this._init_toolbar(this);\n",
       "\n",
       "    var fig = this;\n",
       "\n",
       "    this.waiting = false;\n",
       "\n",
       "    this.ws.onopen =  function () {\n",
       "            fig.send_message(\"supports_binary\", {value: fig.supports_binary});\n",
       "            fig.send_message(\"send_image_mode\", {});\n",
       "            if (mpl.ratio != 1) {\n",
       "                fig.send_message(\"set_dpi_ratio\", {'dpi_ratio': mpl.ratio});\n",
       "            }\n",
       "            fig.send_message(\"refresh\", {});\n",
       "        }\n",
       "\n",
       "    this.imageObj.onload = function() {\n",
       "            if (fig.image_mode == 'full') {\n",
       "                // Full images could contain transparency (where diff images\n",
       "                // almost always do), so we need to clear the canvas so that\n",
       "                // there is no ghosting.\n",
       "                fig.context.clearRect(0, 0, fig.canvas.width, fig.canvas.height);\n",
       "            }\n",
       "            fig.context.drawImage(fig.imageObj, 0, 0);\n",
       "        };\n",
       "\n",
       "    this.imageObj.onunload = function() {\n",
       "        fig.ws.close();\n",
       "    }\n",
       "\n",
       "    this.ws.onmessage = this._make_on_message_function(this);\n",
       "\n",
       "    this.ondownload = ondownload;\n",
       "}\n",
       "\n",
       "mpl.figure.prototype._init_header = function() {\n",
       "    var titlebar = $(\n",
       "        '<div class=\"ui-dialog-titlebar ui-widget-header ui-corner-all ' +\n",
       "        'ui-helper-clearfix\"/>');\n",
       "    var titletext = $(\n",
       "        '<div class=\"ui-dialog-title\" style=\"width: 100%; ' +\n",
       "        'text-align: center; padding: 3px;\"/>');\n",
       "    titlebar.append(titletext)\n",
       "    this.root.append(titlebar);\n",
       "    this.header = titletext[0];\n",
       "}\n",
       "\n",
       "\n",
       "\n",
       "mpl.figure.prototype._canvas_extra_style = function(canvas_div) {\n",
       "\n",
       "}\n",
       "\n",
       "\n",
       "mpl.figure.prototype._root_extra_style = function(canvas_div) {\n",
       "\n",
       "}\n",
       "\n",
       "mpl.figure.prototype._init_canvas = function() {\n",
       "    var fig = this;\n",
       "\n",
       "    var canvas_div = $('<div/>');\n",
       "\n",
       "    canvas_div.attr('style', 'position: relative; clear: both; outline: 0');\n",
       "\n",
       "    function canvas_keyboard_event(event) {\n",
       "        return fig.key_event(event, event['data']);\n",
       "    }\n",
       "\n",
       "    canvas_div.keydown('key_press', canvas_keyboard_event);\n",
       "    canvas_div.keyup('key_release', canvas_keyboard_event);\n",
       "    this.canvas_div = canvas_div\n",
       "    this._canvas_extra_style(canvas_div)\n",
       "    this.root.append(canvas_div);\n",
       "\n",
       "    var canvas = $('<canvas/>');\n",
       "    canvas.addClass('mpl-canvas');\n",
       "    canvas.attr('style', \"left: 0; top: 0; z-index: 0; outline: 0\")\n",
       "\n",
       "    this.canvas = canvas[0];\n",
       "    this.context = canvas[0].getContext(\"2d\");\n",
       "\n",
       "    var backingStore = this.context.backingStorePixelRatio ||\n",
       "\tthis.context.webkitBackingStorePixelRatio ||\n",
       "\tthis.context.mozBackingStorePixelRatio ||\n",
       "\tthis.context.msBackingStorePixelRatio ||\n",
       "\tthis.context.oBackingStorePixelRatio ||\n",
       "\tthis.context.backingStorePixelRatio || 1;\n",
       "\n",
       "    mpl.ratio = (window.devicePixelRatio || 1) / backingStore;\n",
       "\n",
       "    var rubberband = $('<canvas/>');\n",
       "    rubberband.attr('style', \"position: absolute; left: 0; top: 0; z-index: 1;\")\n",
       "\n",
       "    var pass_mouse_events = true;\n",
       "\n",
       "    canvas_div.resizable({\n",
       "        start: function(event, ui) {\n",
       "            pass_mouse_events = false;\n",
       "        },\n",
       "        resize: function(event, ui) {\n",
       "            fig.request_resize(ui.size.width, ui.size.height);\n",
       "        },\n",
       "        stop: function(event, ui) {\n",
       "            pass_mouse_events = true;\n",
       "            fig.request_resize(ui.size.width, ui.size.height);\n",
       "        },\n",
       "    });\n",
       "\n",
       "    function mouse_event_fn(event) {\n",
       "        if (pass_mouse_events)\n",
       "            return fig.mouse_event(event, event['data']);\n",
       "    }\n",
       "\n",
       "    rubberband.mousedown('button_press', mouse_event_fn);\n",
       "    rubberband.mouseup('button_release', mouse_event_fn);\n",
       "    // Throttle sequential mouse events to 1 every 20ms.\n",
       "    rubberband.mousemove('motion_notify', mouse_event_fn);\n",
       "\n",
       "    rubberband.mouseenter('figure_enter', mouse_event_fn);\n",
       "    rubberband.mouseleave('figure_leave', mouse_event_fn);\n",
       "\n",
       "    canvas_div.on(\"wheel\", function (event) {\n",
       "        event = event.originalEvent;\n",
       "        event['data'] = 'scroll'\n",
       "        if (event.deltaY < 0) {\n",
       "            event.step = 1;\n",
       "        } else {\n",
       "            event.step = -1;\n",
       "        }\n",
       "        mouse_event_fn(event);\n",
       "    });\n",
       "\n",
       "    canvas_div.append(canvas);\n",
       "    canvas_div.append(rubberband);\n",
       "\n",
       "    this.rubberband = rubberband;\n",
       "    this.rubberband_canvas = rubberband[0];\n",
       "    this.rubberband_context = rubberband[0].getContext(\"2d\");\n",
       "    this.rubberband_context.strokeStyle = \"#000000\";\n",
       "\n",
       "    this._resize_canvas = function(width, height) {\n",
       "        // Keep the size of the canvas, canvas container, and rubber band\n",
       "        // canvas in synch.\n",
       "        canvas_div.css('width', width)\n",
       "        canvas_div.css('height', height)\n",
       "\n",
       "        canvas.attr('width', width * mpl.ratio);\n",
       "        canvas.attr('height', height * mpl.ratio);\n",
       "        canvas.attr('style', 'width: ' + width + 'px; height: ' + height + 'px;');\n",
       "\n",
       "        rubberband.attr('width', width);\n",
       "        rubberband.attr('height', height);\n",
       "    }\n",
       "\n",
       "    // Set the figure to an initial 600x600px, this will subsequently be updated\n",
       "    // upon first draw.\n",
       "    this._resize_canvas(600, 600);\n",
       "\n",
       "    // Disable right mouse context menu.\n",
       "    $(this.rubberband_canvas).bind(\"contextmenu\",function(e){\n",
       "        return false;\n",
       "    });\n",
       "\n",
       "    function set_focus () {\n",
       "        canvas.focus();\n",
       "        canvas_div.focus();\n",
       "    }\n",
       "\n",
       "    window.setTimeout(set_focus, 100);\n",
       "}\n",
       "\n",
       "mpl.figure.prototype._init_toolbar = function() {\n",
       "    var fig = this;\n",
       "\n",
       "    var nav_element = $('<div/>')\n",
       "    nav_element.attr('style', 'width: 100%');\n",
       "    this.root.append(nav_element);\n",
       "\n",
       "    // Define a callback function for later on.\n",
       "    function toolbar_event(event) {\n",
       "        return fig.toolbar_button_onclick(event['data']);\n",
       "    }\n",
       "    function toolbar_mouse_event(event) {\n",
       "        return fig.toolbar_button_onmouseover(event['data']);\n",
       "    }\n",
       "\n",
       "    for(var toolbar_ind in mpl.toolbar_items) {\n",
       "        var name = mpl.toolbar_items[toolbar_ind][0];\n",
       "        var tooltip = mpl.toolbar_items[toolbar_ind][1];\n",
       "        var image = mpl.toolbar_items[toolbar_ind][2];\n",
       "        var method_name = mpl.toolbar_items[toolbar_ind][3];\n",
       "\n",
       "        if (!name) {\n",
       "            // put a spacer in here.\n",
       "            continue;\n",
       "        }\n",
       "        var button = $('<button/>');\n",
       "        button.addClass('ui-button ui-widget ui-state-default ui-corner-all ' +\n",
       "                        'ui-button-icon-only');\n",
       "        button.attr('role', 'button');\n",
       "        button.attr('aria-disabled', 'false');\n",
       "        button.click(method_name, toolbar_event);\n",
       "        button.mouseover(tooltip, toolbar_mouse_event);\n",
       "\n",
       "        var icon_img = $('<span/>');\n",
       "        icon_img.addClass('ui-button-icon-primary ui-icon');\n",
       "        icon_img.addClass(image);\n",
       "        icon_img.addClass('ui-corner-all');\n",
       "\n",
       "        var tooltip_span = $('<span/>');\n",
       "        tooltip_span.addClass('ui-button-text');\n",
       "        tooltip_span.html(tooltip);\n",
       "\n",
       "        button.append(icon_img);\n",
       "        button.append(tooltip_span);\n",
       "\n",
       "        nav_element.append(button);\n",
       "    }\n",
       "\n",
       "    var fmt_picker_span = $('<span/>');\n",
       "\n",
       "    var fmt_picker = $('<select/>');\n",
       "    fmt_picker.addClass('mpl-toolbar-option ui-widget ui-widget-content');\n",
       "    fmt_picker_span.append(fmt_picker);\n",
       "    nav_element.append(fmt_picker_span);\n",
       "    this.format_dropdown = fmt_picker[0];\n",
       "\n",
       "    for (var ind in mpl.extensions) {\n",
       "        var fmt = mpl.extensions[ind];\n",
       "        var option = $(\n",
       "            '<option/>', {selected: fmt === mpl.default_extension}).html(fmt);\n",
       "        fmt_picker.append(option)\n",
       "    }\n",
       "\n",
       "    // Add hover states to the ui-buttons\n",
       "    $( \".ui-button\" ).hover(\n",
       "        function() { $(this).addClass(\"ui-state-hover\");},\n",
       "        function() { $(this).removeClass(\"ui-state-hover\");}\n",
       "    );\n",
       "\n",
       "    var status_bar = $('<span class=\"mpl-message\"/>');\n",
       "    nav_element.append(status_bar);\n",
       "    this.message = status_bar[0];\n",
       "}\n",
       "\n",
       "mpl.figure.prototype.request_resize = function(x_pixels, y_pixels) {\n",
       "    // Request matplotlib to resize the figure. Matplotlib will then trigger a resize in the client,\n",
       "    // which will in turn request a refresh of the image.\n",
       "    this.send_message('resize', {'width': x_pixels, 'height': y_pixels});\n",
       "}\n",
       "\n",
       "mpl.figure.prototype.send_message = function(type, properties) {\n",
       "    properties['type'] = type;\n",
       "    properties['figure_id'] = this.id;\n",
       "    this.ws.send(JSON.stringify(properties));\n",
       "}\n",
       "\n",
       "mpl.figure.prototype.send_draw_message = function() {\n",
       "    if (!this.waiting) {\n",
       "        this.waiting = true;\n",
       "        this.ws.send(JSON.stringify({type: \"draw\", figure_id: this.id}));\n",
       "    }\n",
       "}\n",
       "\n",
       "\n",
       "mpl.figure.prototype.handle_save = function(fig, msg) {\n",
       "    var format_dropdown = fig.format_dropdown;\n",
       "    var format = format_dropdown.options[format_dropdown.selectedIndex].value;\n",
       "    fig.ondownload(fig, format);\n",
       "}\n",
       "\n",
       "\n",
       "mpl.figure.prototype.handle_resize = function(fig, msg) {\n",
       "    var size = msg['size'];\n",
       "    if (size[0] != fig.canvas.width || size[1] != fig.canvas.height) {\n",
       "        fig._resize_canvas(size[0], size[1]);\n",
       "        fig.send_message(\"refresh\", {});\n",
       "    };\n",
       "}\n",
       "\n",
       "mpl.figure.prototype.handle_rubberband = function(fig, msg) {\n",
       "    var x0 = msg['x0'] / mpl.ratio;\n",
       "    var y0 = (fig.canvas.height - msg['y0']) / mpl.ratio;\n",
       "    var x1 = msg['x1'] / mpl.ratio;\n",
       "    var y1 = (fig.canvas.height - msg['y1']) / mpl.ratio;\n",
       "    x0 = Math.floor(x0) + 0.5;\n",
       "    y0 = Math.floor(y0) + 0.5;\n",
       "    x1 = Math.floor(x1) + 0.5;\n",
       "    y1 = Math.floor(y1) + 0.5;\n",
       "    var min_x = Math.min(x0, x1);\n",
       "    var min_y = Math.min(y0, y1);\n",
       "    var width = Math.abs(x1 - x0);\n",
       "    var height = Math.abs(y1 - y0);\n",
       "\n",
       "    fig.rubberband_context.clearRect(\n",
       "        0, 0, fig.canvas.width, fig.canvas.height);\n",
       "\n",
       "    fig.rubberband_context.strokeRect(min_x, min_y, width, height);\n",
       "}\n",
       "\n",
       "mpl.figure.prototype.handle_figure_label = function(fig, msg) {\n",
       "    // Updates the figure title.\n",
       "    fig.header.textContent = msg['label'];\n",
       "}\n",
       "\n",
       "mpl.figure.prototype.handle_cursor = function(fig, msg) {\n",
       "    var cursor = msg['cursor'];\n",
       "    switch(cursor)\n",
       "    {\n",
       "    case 0:\n",
       "        cursor = 'pointer';\n",
       "        break;\n",
       "    case 1:\n",
       "        cursor = 'default';\n",
       "        break;\n",
       "    case 2:\n",
       "        cursor = 'crosshair';\n",
       "        break;\n",
       "    case 3:\n",
       "        cursor = 'move';\n",
       "        break;\n",
       "    }\n",
       "    fig.rubberband_canvas.style.cursor = cursor;\n",
       "}\n",
       "\n",
       "mpl.figure.prototype.handle_message = function(fig, msg) {\n",
       "    fig.message.textContent = msg['message'];\n",
       "}\n",
       "\n",
       "mpl.figure.prototype.handle_draw = function(fig, msg) {\n",
       "    // Request the server to send over a new figure.\n",
       "    fig.send_draw_message();\n",
       "}\n",
       "\n",
       "mpl.figure.prototype.handle_image_mode = function(fig, msg) {\n",
       "    fig.image_mode = msg['mode'];\n",
       "}\n",
       "\n",
       "mpl.figure.prototype.updated_canvas_event = function() {\n",
       "    // Called whenever the canvas gets updated.\n",
       "    this.send_message(\"ack\", {});\n",
       "}\n",
       "\n",
       "// A function to construct a web socket function for onmessage handling.\n",
       "// Called in the figure constructor.\n",
       "mpl.figure.prototype._make_on_message_function = function(fig) {\n",
       "    return function socket_on_message(evt) {\n",
       "        if (evt.data instanceof Blob) {\n",
       "            /* FIXME: We get \"Resource interpreted as Image but\n",
       "             * transferred with MIME type text/plain:\" errors on\n",
       "             * Chrome.  But how to set the MIME type?  It doesn't seem\n",
       "             * to be part of the websocket stream */\n",
       "            evt.data.type = \"image/png\";\n",
       "\n",
       "            /* Free the memory for the previous frames */\n",
       "            if (fig.imageObj.src) {\n",
       "                (window.URL || window.webkitURL).revokeObjectURL(\n",
       "                    fig.imageObj.src);\n",
       "            }\n",
       "\n",
       "            fig.imageObj.src = (window.URL || window.webkitURL).createObjectURL(\n",
       "                evt.data);\n",
       "            fig.updated_canvas_event();\n",
       "            fig.waiting = false;\n",
       "            return;\n",
       "        }\n",
       "        else if (typeof evt.data === 'string' && evt.data.slice(0, 21) == \"data:image/png;base64\") {\n",
       "            fig.imageObj.src = evt.data;\n",
       "            fig.updated_canvas_event();\n",
       "            fig.waiting = false;\n",
       "            return;\n",
       "        }\n",
       "\n",
       "        var msg = JSON.parse(evt.data);\n",
       "        var msg_type = msg['type'];\n",
       "\n",
       "        // Call the  \"handle_{type}\" callback, which takes\n",
       "        // the figure and JSON message as its only arguments.\n",
       "        try {\n",
       "            var callback = fig[\"handle_\" + msg_type];\n",
       "        } catch (e) {\n",
       "            console.log(\"No handler for the '\" + msg_type + \"' message type: \", msg);\n",
       "            return;\n",
       "        }\n",
       "\n",
       "        if (callback) {\n",
       "            try {\n",
       "                // console.log(\"Handling '\" + msg_type + \"' message: \", msg);\n",
       "                callback(fig, msg);\n",
       "            } catch (e) {\n",
       "                console.log(\"Exception inside the 'handler_\" + msg_type + \"' callback:\", e, e.stack, msg);\n",
       "            }\n",
       "        }\n",
       "    };\n",
       "}\n",
       "\n",
       "// from http://stackoverflow.com/questions/1114465/getting-mouse-location-in-canvas\n",
       "mpl.findpos = function(e) {\n",
       "    //this section is from http://www.quirksmode.org/js/events_properties.html\n",
       "    var targ;\n",
       "    if (!e)\n",
       "        e = window.event;\n",
       "    if (e.target)\n",
       "        targ = e.target;\n",
       "    else if (e.srcElement)\n",
       "        targ = e.srcElement;\n",
       "    if (targ.nodeType == 3) // defeat Safari bug\n",
       "        targ = targ.parentNode;\n",
       "\n",
       "    // jQuery normalizes the pageX and pageY\n",
       "    // pageX,Y are the mouse positions relative to the document\n",
       "    // offset() returns the position of the element relative to the document\n",
       "    var x = e.pageX - $(targ).offset().left;\n",
       "    var y = e.pageY - $(targ).offset().top;\n",
       "\n",
       "    return {\"x\": x, \"y\": y};\n",
       "};\n",
       "\n",
       "/*\n",
       " * return a copy of an object with only non-object keys\n",
       " * we need this to avoid circular references\n",
       " * http://stackoverflow.com/a/24161582/3208463\n",
       " */\n",
       "function simpleKeys (original) {\n",
       "  return Object.keys(original).reduce(function (obj, key) {\n",
       "    if (typeof original[key] !== 'object')\n",
       "        obj[key] = original[key]\n",
       "    return obj;\n",
       "  }, {});\n",
       "}\n",
       "\n",
       "mpl.figure.prototype.mouse_event = function(event, name) {\n",
       "    var canvas_pos = mpl.findpos(event)\n",
       "\n",
       "    if (name === 'button_press')\n",
       "    {\n",
       "        this.canvas.focus();\n",
       "        this.canvas_div.focus();\n",
       "    }\n",
       "\n",
       "    var x = canvas_pos.x * mpl.ratio;\n",
       "    var y = canvas_pos.y * mpl.ratio;\n",
       "\n",
       "    this.send_message(name, {x: x, y: y, button: event.button,\n",
       "                             step: event.step,\n",
       "                             guiEvent: simpleKeys(event)});\n",
       "\n",
       "    /* This prevents the web browser from automatically changing to\n",
       "     * the text insertion cursor when the button is pressed.  We want\n",
       "     * to control all of the cursor setting manually through the\n",
       "     * 'cursor' event from matplotlib */\n",
       "    event.preventDefault();\n",
       "    return false;\n",
       "}\n",
       "\n",
       "mpl.figure.prototype._key_event_extra = function(event, name) {\n",
       "    // Handle any extra behaviour associated with a key event\n",
       "}\n",
       "\n",
       "mpl.figure.prototype.key_event = function(event, name) {\n",
       "\n",
       "    // Prevent repeat events\n",
       "    if (name == 'key_press')\n",
       "    {\n",
       "        if (event.which === this._key)\n",
       "            return;\n",
       "        else\n",
       "            this._key = event.which;\n",
       "    }\n",
       "    if (name == 'key_release')\n",
       "        this._key = null;\n",
       "\n",
       "    var value = '';\n",
       "    if (event.ctrlKey && event.which != 17)\n",
       "        value += \"ctrl+\";\n",
       "    if (event.altKey && event.which != 18)\n",
       "        value += \"alt+\";\n",
       "    if (event.shiftKey && event.which != 16)\n",
       "        value += \"shift+\";\n",
       "\n",
       "    value += 'k';\n",
       "    value += event.which.toString();\n",
       "\n",
       "    this._key_event_extra(event, name);\n",
       "\n",
       "    this.send_message(name, {key: value,\n",
       "                             guiEvent: simpleKeys(event)});\n",
       "    return false;\n",
       "}\n",
       "\n",
       "mpl.figure.prototype.toolbar_button_onclick = function(name) {\n",
       "    if (name == 'download') {\n",
       "        this.handle_save(this, null);\n",
       "    } else {\n",
       "        this.send_message(\"toolbar_button\", {name: name});\n",
       "    }\n",
       "};\n",
       "\n",
       "mpl.figure.prototype.toolbar_button_onmouseover = function(tooltip) {\n",
       "    this.message.textContent = tooltip;\n",
       "};\n",
       "mpl.toolbar_items = [[\"Home\", \"Reset original view\", \"fa fa-home icon-home\", \"home\"], [\"Back\", \"Back to previous view\", \"fa fa-arrow-left icon-arrow-left\", \"back\"], [\"Forward\", \"Forward to next view\", \"fa fa-arrow-right icon-arrow-right\", \"forward\"], [\"\", \"\", \"\", \"\"], [\"Pan\", \"Pan axes with left mouse, zoom with right\", \"fa fa-arrows icon-move\", \"pan\"], [\"Zoom\", \"Zoom to rectangle\", \"fa fa-square-o icon-check-empty\", \"zoom\"], [\"\", \"\", \"\", \"\"], [\"Download\", \"Download plot\", \"fa fa-floppy-o icon-save\", \"download\"]];\n",
       "\n",
       "mpl.extensions = [\"eps\", \"pdf\", \"png\", \"ps\", \"raw\", \"svg\"];\n",
       "\n",
       "mpl.default_extension = \"png\";var comm_websocket_adapter = function(comm) {\n",
       "    // Create a \"websocket\"-like object which calls the given IPython comm\n",
       "    // object with the appropriate methods. Currently this is a non binary\n",
       "    // socket, so there is still some room for performance tuning.\n",
       "    var ws = {};\n",
       "\n",
       "    ws.close = function() {\n",
       "        comm.close()\n",
       "    };\n",
       "    ws.send = function(m) {\n",
       "        //console.log('sending', m);\n",
       "        comm.send(m);\n",
       "    };\n",
       "    // Register the callback with on_msg.\n",
       "    comm.on_msg(function(msg) {\n",
       "        //console.log('receiving', msg['content']['data'], msg);\n",
       "        // Pass the mpl event to the overridden (by mpl) onmessage function.\n",
       "        ws.onmessage(msg['content']['data'])\n",
       "    });\n",
       "    return ws;\n",
       "}\n",
       "\n",
       "mpl.mpl_figure_comm = function(comm, msg) {\n",
       "    // This is the function which gets called when the mpl process\n",
       "    // starts-up an IPython Comm through the \"matplotlib\" channel.\n",
       "\n",
       "    var id = msg.content.data.id;\n",
       "    // Get hold of the div created by the display call when the Comm\n",
       "    // socket was opened in Python.\n",
       "    var element = $(\"#\" + id);\n",
       "    var ws_proxy = comm_websocket_adapter(comm)\n",
       "\n",
       "    function ondownload(figure, format) {\n",
       "        window.open(figure.imageObj.src);\n",
       "    }\n",
       "\n",
       "    var fig = new mpl.figure(id, ws_proxy,\n",
       "                           ondownload,\n",
       "                           element.get(0));\n",
       "\n",
       "    // Call onopen now - mpl needs it, as it is assuming we've passed it a real\n",
       "    // web socket which is closed, not our websocket->open comm proxy.\n",
       "    ws_proxy.onopen();\n",
       "\n",
       "    fig.parent_element = element.get(0);\n",
       "    fig.cell_info = mpl.find_output_cell(\"<div id='\" + id + \"'></div>\");\n",
       "    if (!fig.cell_info) {\n",
       "        console.error(\"Failed to find cell for figure\", id, fig);\n",
       "        return;\n",
       "    }\n",
       "\n",
       "    var output_index = fig.cell_info[2]\n",
       "    var cell = fig.cell_info[0];\n",
       "\n",
       "};\n",
       "\n",
       "mpl.figure.prototype.handle_close = function(fig, msg) {\n",
       "    var width = fig.canvas.width/mpl.ratio\n",
       "    fig.root.unbind('remove')\n",
       "\n",
       "    // Update the output cell to use the data from the current canvas.\n",
       "    fig.push_to_output();\n",
       "    var dataURL = fig.canvas.toDataURL();\n",
       "    // Re-enable the keyboard manager in IPython - without this line, in FF,\n",
       "    // the notebook keyboard shortcuts fail.\n",
       "    IPython.keyboard_manager.enable()\n",
       "    $(fig.parent_element).html('<img src=\"' + dataURL + '\" width=\"' + width + '\">');\n",
       "    fig.close_ws(fig, msg);\n",
       "}\n",
       "\n",
       "mpl.figure.prototype.close_ws = function(fig, msg){\n",
       "    fig.send_message('closing', msg);\n",
       "    // fig.ws.close()\n",
       "}\n",
       "\n",
       "mpl.figure.prototype.push_to_output = function(remove_interactive) {\n",
       "    // Turn the data on the canvas into data in the output cell.\n",
       "    var width = this.canvas.width/mpl.ratio\n",
       "    var dataURL = this.canvas.toDataURL();\n",
       "    this.cell_info[1]['text/html'] = '<img src=\"' + dataURL + '\" width=\"' + width + '\">';\n",
       "}\n",
       "\n",
       "mpl.figure.prototype.updated_canvas_event = function() {\n",
       "    // Tell IPython that the notebook contents must change.\n",
       "    IPython.notebook.set_dirty(true);\n",
       "    this.send_message(\"ack\", {});\n",
       "    var fig = this;\n",
       "    // Wait a second, then push the new image to the DOM so\n",
       "    // that it is saved nicely (might be nice to debounce this).\n",
       "    setTimeout(function () { fig.push_to_output() }, 1000);\n",
       "}\n",
       "\n",
       "mpl.figure.prototype._init_toolbar = function() {\n",
       "    var fig = this;\n",
       "\n",
       "    var nav_element = $('<div/>')\n",
       "    nav_element.attr('style', 'width: 100%');\n",
       "    this.root.append(nav_element);\n",
       "\n",
       "    // Define a callback function for later on.\n",
       "    function toolbar_event(event) {\n",
       "        return fig.toolbar_button_onclick(event['data']);\n",
       "    }\n",
       "    function toolbar_mouse_event(event) {\n",
       "        return fig.toolbar_button_onmouseover(event['data']);\n",
       "    }\n",
       "\n",
       "    for(var toolbar_ind in mpl.toolbar_items){\n",
       "        var name = mpl.toolbar_items[toolbar_ind][0];\n",
       "        var tooltip = mpl.toolbar_items[toolbar_ind][1];\n",
       "        var image = mpl.toolbar_items[toolbar_ind][2];\n",
       "        var method_name = mpl.toolbar_items[toolbar_ind][3];\n",
       "\n",
       "        if (!name) { continue; };\n",
       "\n",
       "        var button = $('<button class=\"btn btn-default\" href=\"#\" title=\"' + name + '\"><i class=\"fa ' + image + ' fa-lg\"></i></button>');\n",
       "        button.click(method_name, toolbar_event);\n",
       "        button.mouseover(tooltip, toolbar_mouse_event);\n",
       "        nav_element.append(button);\n",
       "    }\n",
       "\n",
       "    // Add the status bar.\n",
       "    var status_bar = $('<span class=\"mpl-message\" style=\"text-align:right; float: right;\"/>');\n",
       "    nav_element.append(status_bar);\n",
       "    this.message = status_bar[0];\n",
       "\n",
       "    // Add the close button to the window.\n",
       "    var buttongrp = $('<div class=\"btn-group inline pull-right\"></div>');\n",
       "    var button = $('<button class=\"btn btn-mini btn-primary\" href=\"#\" title=\"Stop Interaction\"><i class=\"fa fa-power-off icon-remove icon-large\"></i></button>');\n",
       "    button.click(function (evt) { fig.handle_close(fig, {}); } );\n",
       "    button.mouseover('Stop Interaction', toolbar_mouse_event);\n",
       "    buttongrp.append(button);\n",
       "    var titlebar = this.root.find($('.ui-dialog-titlebar'));\n",
       "    titlebar.prepend(buttongrp);\n",
       "}\n",
       "\n",
       "mpl.figure.prototype._root_extra_style = function(el){\n",
       "    var fig = this\n",
       "    el.on(\"remove\", function(){\n",
       "\tfig.close_ws(fig, {});\n",
       "    });\n",
       "}\n",
       "\n",
       "mpl.figure.prototype._canvas_extra_style = function(el){\n",
       "    // this is important to make the div 'focusable\n",
       "    el.attr('tabindex', 0)\n",
       "    // reach out to IPython and tell the keyboard manager to turn it's self\n",
       "    // off when our div gets focus\n",
       "\n",
       "    // location in version 3\n",
       "    if (IPython.notebook.keyboard_manager) {\n",
       "        IPython.notebook.keyboard_manager.register_events(el);\n",
       "    }\n",
       "    else {\n",
       "        // location in version 2\n",
       "        IPython.keyboard_manager.register_events(el);\n",
       "    }\n",
       "\n",
       "}\n",
       "\n",
       "mpl.figure.prototype._key_event_extra = function(event, name) {\n",
       "    var manager = IPython.notebook.keyboard_manager;\n",
       "    if (!manager)\n",
       "        manager = IPython.keyboard_manager;\n",
       "\n",
       "    // Check for shift+enter\n",
       "    if (event.shiftKey && event.which == 13) {\n",
       "        this.canvas_div.blur();\n",
       "        event.shiftKey = false;\n",
       "        // Send a \"J\" for go to next cell\n",
       "        event.which = 74;\n",
       "        event.keyCode = 74;\n",
       "        manager.command_mode();\n",
       "        manager.handle_keydown(event);\n",
       "    }\n",
       "}\n",
       "\n",
       "mpl.figure.prototype.handle_save = function(fig, msg) {\n",
       "    fig.ondownload(fig, null);\n",
       "}\n",
       "\n",
       "\n",
       "mpl.find_output_cell = function(html_output) {\n",
       "    // Return the cell and output element which can be found *uniquely* in the notebook.\n",
       "    // Note - this is a bit hacky, but it is done because the \"notebook_saving.Notebook\"\n",
       "    // IPython event is triggered only after the cells have been serialised, which for\n",
       "    // our purposes (turning an active figure into a static one), is too late.\n",
       "    var cells = IPython.notebook.get_cells();\n",
       "    var ncells = cells.length;\n",
       "    for (var i=0; i<ncells; i++) {\n",
       "        var cell = cells[i];\n",
       "        if (cell.cell_type === 'code'){\n",
       "            for (var j=0; j<cell.output_area.outputs.length; j++) {\n",
       "                var data = cell.output_area.outputs[j];\n",
       "                if (data.data) {\n",
       "                    // IPython >= 3 moved mimebundle to data attribute of output\n",
       "                    data = data.data;\n",
       "                }\n",
       "                if (data['text/html'] == html_output) {\n",
       "                    return [cell, data, j];\n",
       "                }\n",
       "            }\n",
       "        }\n",
       "    }\n",
       "}\n",
       "\n",
       "// Register the function which deals with the matplotlib target/channel.\n",
       "// The kernel may be null if the page has been refreshed.\n",
       "if (IPython.notebook.kernel != null) {\n",
       "    IPython.notebook.kernel.comm_manager.register_target('matplotlib', mpl.mpl_figure_comm);\n",
       "}\n"
      ],
      "text/plain": [
       "<IPython.core.display.Javascript object>"
      ]
     },
     "metadata": {},
     "output_type": "display_data"
    },
    {
     "data": {
      "text/html": [
       "<img src=\"data:image/png;base64,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\" width=\"640\">"
      ],
      "text/plain": [
       "<IPython.core.display.HTML object>"
      ]
     },
     "metadata": {},
     "output_type": "display_data"
    },
    {
     "data": {
      "text/plain": [
       "<matplotlib.legend.Legend at 0x7f6eed2006d8>"
      ]
     },
     "execution_count": 81,
     "metadata": {},
     "output_type": "execute_result"
    }
   ],
   "source": [
    "_, ax = plt.subplots(1,1)\n",
    "ax.plot(thresholds, precisions[:-1], label=\"Precision\")\n",
    "ax.plot(thresholds, recalls[:-1], label=\"Recall\")\n",
    "ax.set_xlabel(\"Threshold\")\n",
    "ax.set_title(\"XGBoost (GPU)\", fontsize=25)\n",
    "ax.legend()"
   ]
  },
  {
   "cell_type": "markdown",
   "metadata": {},
   "source": [
    "How much time does the Random Forest model potentially save scientists?"
   ]
  },
  {
   "cell_type": "code",
   "execution_count": 82,
   "metadata": {},
   "outputs": [
    {
     "data": {
      "text/plain": [
       "94209"
      ]
     },
     "execution_count": 82,
     "metadata": {},
     "output_type": "execute_result"
    }
   ],
   "source": [
    "_required_threshold = np.max(thresholds[recalls[:-1] > 0.99])\n",
    "number_images_to_check = np.sum(predicted_probas[:, 1] >= _required_threshold)\n",
    "number_images_to_check"
   ]
  },
  {
   "cell_type": "code",
   "execution_count": 83,
   "metadata": {},
   "outputs": [
    {
     "data": {
      "text/plain": [
       "0.5239859171380421"
      ]
     },
     "execution_count": 83,
     "metadata": {},
     "output_type": "execute_result"
    }
   ],
   "source": [
    "# cut total human effort in half!\n",
    "total_testing_images, _ = transformed_testing_features.shape \n",
    "number_images_to_check / total_testing_images"
   ]
  },
  {
   "cell_type": "markdown",
   "metadata": {},
   "source": [
    "Suppose that it takes a human one second to manually process an image. This means that it would take a human about 2 full days to process the 180,000 images in the testing data set. Using the Random Forest classifier training above one could cut the number of images in need of manual processing in half! Note also that the number of false positives is low and implies that only 38 minutes of wasted human effort. "
   ]
  },
  {
   "cell_type": "code",
   "execution_count": null,
   "metadata": {},
   "outputs": [],
   "source": []
  }
 ],
 "metadata": {
  "kernelspec": {
   "display_name": "Python 3",
   "language": "python",
   "name": "python3"
  },
  "language_info": {
   "codemirror_mode": {
    "name": "ipython",
    "version": 3
   },
   "file_extension": ".py",
   "mimetype": "text/x-python",
   "name": "python",
   "nbconvert_exporter": "python",
   "pygments_lexer": "ipython3",
   "version": "3.6.8"
  }
 },
 "nbformat": 4,
 "nbformat_minor": 2
}
