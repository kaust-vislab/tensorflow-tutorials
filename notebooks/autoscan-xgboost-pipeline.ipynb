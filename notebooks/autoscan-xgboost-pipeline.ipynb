{
 "cells": [
  {
   "cell_type": "code",
   "execution_count": 1,
   "metadata": {},
   "outputs": [],
   "source": [
    "import os\n",
    "import pickle\n",
    "from urllib import request\n",
    "\n",
    "import matplotlib.pyplot as plt\n",
    "import numpy as np\n",
    "import pandas as pd\n",
    "from pandas.api import types\n",
    "from sklearn import compose, dummy, ensemble, impute, metrics, model_selection, pipeline, preprocessing, svm\n",
    "from sklearn.externals import joblib\n",
    "import xgboost as xgb"
   ]
  },
  {
   "cell_type": "code",
   "execution_count": 2,
   "metadata": {},
   "outputs": [],
   "source": [
    "%matplotlib notebook"
   ]
  },
  {
   "cell_type": "markdown",
   "metadata": {},
   "source": [
    "In the process you will learn a bit about the [scikit-learn](https://scikit-learn.org/stable/index.html) API as well as how to use [XGBoost](https://xgboost.readthedocs.io/en/latest/index.html). XGBoost is an optimized distributed gradient boosting library that implements machine learning algorithms under the [Gradient Boosting](https://en.wikipedia.org/wiki/Gradient_boosting) framework."
   ]
  },
  {
   "cell_type": "markdown",
   "metadata": {},
   "source": [
    "# 1. Look at the \"Big Picture\"\n",
    "\n",
    "## What are we trying to accomplish? \n",
    "\n",
    "Objective is to follow a path laid out by the NERSC [autoscan](http://portal.nersc.gov/project/dessn/autoscan/) project (HT to engineers from [Dessa](https://medium.com/@dessa_/space-2-vec-fd900f5566) for making me aware of the autoscan project and for motivating the code in this notebook) and build a model capable of detecting [Type Ia Supernovae (SNe Ia)](https://en.wikipedia.org/wiki/Type_Ia_supernova) from image data produced by the [Dark Energy Survey Supernova (DES-SN)](https://www.darkenergysurvey.org/) program so that we can reduce the amount of human time required to manually examine image data for presence of super novae.\n",
    "\n",
    "## How will the solution be used?\n",
    "\n",
    "Our model will be one piece of a much larger data analysis pipeline discussed in [Goldstein et al (2015)](https://arxiv.org/pdf/1504.02936.pdf) \n",
    "\n",
    "<img src=./assets/goldstein-et-al-2015-figure-2.png>\n",
    "\n",
    "## What are the current solutions?\n",
    "\n",
    "Typically scientists _manually_ identify interesting moving objects in the sky from imaging survey data by visually inspecting images for relevant signatures. However, recent advances in telescopes, detectors, and HPCs have led to a dramatic rise in the data production rates of imaging surveys and any manual steps in data analysis pipelines are now significant bottlenecks.\n"
   ]
  },
  {
   "cell_type": "markdown",
   "metadata": {},
   "source": [
    "### Question:\n",
    "\n",
    "Is this a problem a **supervised** or **unsupervised** learning problem? Are we faced with a **classification** task or a **regression** task, or something else? Should we use **batch** learning or **online** learning techniques?\n",
    "\n",
    "### Answers:\n",
    "\n",
    "Since we are working with labeled data we are dealing with a supervised learning problem; since we wish to classify whether an image contains a Type Ia supernova we are faced with a classification task. At present there is no real-time, streaming aspect to the data so we can use batch learning techniques (however one could imagine that online learning might be useful in the future given that the raw data is collected nightly)."
   ]
  },
  {
   "cell_type": "markdown",
   "metadata": {},
   "source": [
    "## How should we measure performance?\n",
    "\n",
    "Serveral [performance metrics](https://scikit-learn.org/stable/modules/model_evaluation.html#classification-metrics) typically considered for supervised classification problems: [precision](https://scikit-learn.org/stable/modules/generated/sklearn.metrics.precision_recall_curve.html#sklearn.metrics.precision_recall_curve), [recall](https://scikit-learn.org/stable/modules/generated/sklearn.metrics.recall_score.html#sklearn.metrics.recall_score), false-positive rate (FPR), missed detection rate (MDR) (**N.B.** MDR = 1 - recall = TPR). The [receiver-operating characteristic (ROC) curve](https://scikit-learn.org/stable/modules/generated/sklearn.metrics.roc_curve.html#sklearn.metrics.roc_curve) visually trades-off the FPR and TPR. We can compute the [area under the ROC curve](https://scikit-learn.org/stable/modules/generated/sklearn.metrics.roc_auc_score.html#sklearn.metrics.roc_auc_score) and use it as our overall measure of classifier performance.\n",
    "\n",
    "Remember that our \"business objective\" is to minimize the human time spent manually examining images for the presence of super novae. So whilst area under the ROC curve is a good metric to optimize when choosing the best classifier, we will also measure the performance of the classifier in terms of the number of hours of human time saved. We want to save human time but not at the expense of throwing away too many images containing super novae: not more than 1% of images containing super novae can be lost! Formally this corresponds to choosing a decision boundary of our tuned classifier such that that classifier has a 99% recall rate."
   ]
  },
  {
   "cell_type": "markdown",
   "metadata": {},
   "source": [
    "# 2. Get the Data"
   ]
  },
  {
   "cell_type": "markdown",
   "metadata": {},
   "source": [
    "## Downloading the data\n",
    "\n",
    "All of the data can be downloaded from the NERSC [autoscan](http://portal.nersc.gov/project/dessn/autoscan/) project website. In this notebook we will work with the engineered features from the [Goldstein et al (2015)](https://arxiv.org/pdf/1504.02936.pdf) paper."
   ]
  },
  {
   "cell_type": "code",
   "execution_count": 17,
   "metadata": {},
   "outputs": [],
   "source": [
    "raw_data_path = \"../data/raw\"\n",
    "if not os.path.isfile(f\"{raw_data_path}/autoscan_features.2.csv\"):\n",
    "    os.makedirs(raw_data_path)\n",
    "    url = \"http://portal.nersc.gov/project/dessn/autoscan/autoscan_features.2.csv\"\n",
    "    _ = request.urlretrieve(url, f\"{raw_data_path}/autoscan_features.2.csv\")"
   ]
  },
  {
   "cell_type": "code",
   "execution_count": 4,
   "metadata": {},
   "outputs": [
    {
     "name": "stdout",
     "output_type": "stream",
     "text": [
      "# autoscan training data\r\n",
      "# use the id column to cross-match rows with thumbnails\r\n",
      "# object_type gives the class of the row\r\n",
      "# object_type = 0: artifact\r\n",
      "# object_type = 1: non-artifact\r\n",
      "# remaining 38 columns defined in section 3 and table 2 of companion paper \r\n",
      "ID,OBJECT_TYPE,AMP,A_IMAGE,A_REF,BAND,B_IMAGE,B_REF,CCDID,COLMEDS,DIFFSUMRN,ELLIPTICITY,FLAGS,FLUX_RATIO,GAUSS,GFLUX,L1,LACOSMIC,MAG,MAGDIFF,MAGLIM,MAG_FROM_LIMIT,MAG_REF,MAG_REF_ERR,MASKFRAC,MIN_DISTANCE_TO_EDGE_IN_NEW,N2SIG3,N2SIG3SHIFT,N2SIG5,N2SIG5SHIFT,N3SIG3,N3SIG3SHIFT,N3SIG5,N3SIG5SHIFT,NN_DIST_RENORM,NUMNEGRN,SCALE,SNR,SPREADERR_MODEL,SPREAD_MODEL\r\n",
      "10742010,0,0.8083234429359436,1.5080000162124634,2.65006947517395,i,0.949999988079071,1.8995014429092407,10,0.11207699775695801,25.857545852661133,0.37002652883529663,0,0.2590300440788269,226.4202880859375,1.0089635848999023,103.80699920654297,1.736109972000122,23.031299591064453,-0.4524995982646942,0,1.6222000122070312,22.578800201416016,0.11959999799728394,0.0,559.7000122070312,0,-7,0,-8,0,-8,0,-9,0.6749339699745178,22,2.0241222381591797,7.722346305847168,0.004628799855709076,-0.0037175000179558992\r\n",
      "8828139,0,0.9751405715942383,1.4299999475479126,,i,1.319000005722046,,10,0.07225590199232101,38.029022216796875,0.07762233912944794,0,220.24276733398438,43.06105422973633,1.0001180171966553,114.33100128173828,2.197319984436035,23.262500762939453,2.0355987548828125,1,2.0355987548828125,,,0.0,652.794189453125,1,5,1,5,0,5,0,5,,21,1.3792827129364014,25.582918167114258,0.002420299919322133,-0.0005780499777756631\r\n",
      "8229889,0,0.8774402141571045,0.5049999952316284,,z,0.49399998784065247,,57,0.10612399876117706,14.436153411865234,0.021782193332910538,0,10.075448989868164,135.51309204101562,0.999752402305603,140.88499450683594,2.8592898845672607,23.778499603271484,1.0102005004882812,1,1.0102005004882812,,,0.0,456.4820861816406,0,3,0,3,0,1,0,1,,20,0.9500692486763,3.914191961288452,0.008862500078976154,-0.020044000819325447\r\n"
     ]
    }
   ],
   "source": [
    "!head ../data/raw/autoscan_features.2.csv"
   ]
  },
  {
   "cell_type": "markdown",
   "metadata": {},
   "source": [
    "## Loading the data\n",
    "\n",
    "Once downloading is complete we can load the raw CSV file into a [Pandas DataFrame](https://pandas.pydata.org/pandas-docs/stable/reference/api/pandas.DataFrame.html)."
   ]
  },
  {
   "cell_type": "code",
   "execution_count": 5,
   "metadata": {},
   "outputs": [],
   "source": [
    "_dtype = {\"MAGLIM\": \"bool\",\n",
    "          \"BAND\": \"category\",\n",
    "          \"CCDID\": \"category\",\n",
    "          \"FLAGS\": \"category\",\n",
    "          \"N2SIG3\": types.CategoricalDtype(categories=range(23), ordered=True),\n",
    "          \"N2SIG3SHIFT\": types.CategoricalDtype(categories=range(-25, 26), ordered=True),\n",
    "          \"N2SIG5\": types.CategoricalDtype(categories=range(45), ordered=True),\n",
    "          \"N2SIG5SHIFT\": types.CategoricalDtype(categories=range(-49, 50), ordered=True),\n",
    "          \"N3SIG3\": types.CategoricalDtype(categories=range(23), ordered=True),\n",
    "          \"N3SIG3SHIFT\": types.CategoricalDtype(categories=range(-25, 26), ordered=True),\n",
    "          \"N3SIG5\": types.CategoricalDtype(categories=range(43), ordered=True),\n",
    "          \"N3SIG5SHIFT\": types.CategoricalDtype(categories=range(-49, 50), ordered=True)}\n",
    "\n",
    "autoscan_features = pd.read_csv(f\"{raw_data_path}/autoscan_features.2.csv\",\n",
    "                                header=0,\n",
    "                                comment='#',\n",
    "                                index_col=\"ID\",\n",
    "                                dtype=_dtype)"
   ]
  },
  {
   "cell_type": "code",
   "execution_count": 4,
   "metadata": {},
   "outputs": [
    {
     "name": "stdout",
     "output_type": "stream",
     "text": [
      "<class 'pandas.core.frame.DataFrame'>\n",
      "Int64Index: 898963 entries, 10742010 to 7800868\n",
      "Data columns (total 39 columns):\n",
      "OBJECT_TYPE                    898963 non-null int64\n",
      "AMP                            898963 non-null float64\n",
      "A_IMAGE                        898963 non-null float64\n",
      "A_REF                          843149 non-null float64\n",
      "BAND                           898963 non-null category\n",
      "B_IMAGE                        898963 non-null float64\n",
      "B_REF                          843149 non-null float64\n",
      "CCDID                          898963 non-null category\n",
      "COLMEDS                        898963 non-null float64\n",
      "DIFFSUMRN                      898963 non-null float64\n",
      "ELLIPTICITY                    898963 non-null float64\n",
      "FLAGS                          898963 non-null category\n",
      "FLUX_RATIO                     898963 non-null float64\n",
      "GAUSS                          898963 non-null float64\n",
      "GFLUX                          898963 non-null float64\n",
      "L1                             898963 non-null float64\n",
      "LACOSMIC                       898963 non-null float64\n",
      "MAG                            898963 non-null float64\n",
      "MAGDIFF                        898963 non-null float64\n",
      "MAGLIM                         898963 non-null bool\n",
      "MAG_FROM_LIMIT                 898963 non-null float64\n",
      "MAG_REF                        843149 non-null float64\n",
      "MAG_REF_ERR                    843149 non-null float64\n",
      "MASKFRAC                       898963 non-null float64\n",
      "MIN_DISTANCE_TO_EDGE_IN_NEW    898963 non-null float64\n",
      "N2SIG3                         898963 non-null category\n",
      "N2SIG3SHIFT                    898963 non-null category\n",
      "N2SIG5                         898963 non-null category\n",
      "N2SIG5SHIFT                    898963 non-null category\n",
      "N3SIG3                         898963 non-null category\n",
      "N3SIG3SHIFT                    898963 non-null category\n",
      "N3SIG5                         898963 non-null category\n",
      "N3SIG5SHIFT                    898963 non-null category\n",
      "NN_DIST_RENORM                 843149 non-null float64\n",
      "NUMNEGRN                       898963 non-null int64\n",
      "SCALE                          898963 non-null float64\n",
      "SNR                            898963 non-null float64\n",
      "SPREADERR_MODEL                898963 non-null float64\n",
      "SPREAD_MODEL                   898963 non-null float64\n",
      "dtypes: bool(1), category(11), float64(25), int64(2)\n",
      "memory usage: 202.3 MB\n"
     ]
    }
   ],
   "source": [
    "autoscan_features.info()"
   ]
  },
  {
   "cell_type": "code",
   "execution_count": 5,
   "metadata": {},
   "outputs": [
    {
     "data": {
      "text/html": [
       "<div>\n",
       "<style scoped>\n",
       "    .dataframe tbody tr th:only-of-type {\n",
       "        vertical-align: middle;\n",
       "    }\n",
       "\n",
       "    .dataframe tbody tr th {\n",
       "        vertical-align: top;\n",
       "    }\n",
       "\n",
       "    .dataframe thead th {\n",
       "        text-align: right;\n",
       "    }\n",
       "</style>\n",
       "<table border=\"1\" class=\"dataframe\">\n",
       "  <thead>\n",
       "    <tr style=\"text-align: right;\">\n",
       "      <th></th>\n",
       "      <th>OBJECT_TYPE</th>\n",
       "      <th>AMP</th>\n",
       "      <th>A_IMAGE</th>\n",
       "      <th>A_REF</th>\n",
       "      <th>BAND</th>\n",
       "      <th>B_IMAGE</th>\n",
       "      <th>B_REF</th>\n",
       "      <th>CCDID</th>\n",
       "      <th>COLMEDS</th>\n",
       "      <th>DIFFSUMRN</th>\n",
       "      <th>...</th>\n",
       "      <th>N3SIG3</th>\n",
       "      <th>N3SIG3SHIFT</th>\n",
       "      <th>N3SIG5</th>\n",
       "      <th>N3SIG5SHIFT</th>\n",
       "      <th>NN_DIST_RENORM</th>\n",
       "      <th>NUMNEGRN</th>\n",
       "      <th>SCALE</th>\n",
       "      <th>SNR</th>\n",
       "      <th>SPREADERR_MODEL</th>\n",
       "      <th>SPREAD_MODEL</th>\n",
       "    </tr>\n",
       "    <tr>\n",
       "      <th>ID</th>\n",
       "      <th></th>\n",
       "      <th></th>\n",
       "      <th></th>\n",
       "      <th></th>\n",
       "      <th></th>\n",
       "      <th></th>\n",
       "      <th></th>\n",
       "      <th></th>\n",
       "      <th></th>\n",
       "      <th></th>\n",
       "      <th></th>\n",
       "      <th></th>\n",
       "      <th></th>\n",
       "      <th></th>\n",
       "      <th></th>\n",
       "      <th></th>\n",
       "      <th></th>\n",
       "      <th></th>\n",
       "      <th></th>\n",
       "      <th></th>\n",
       "      <th></th>\n",
       "    </tr>\n",
       "  </thead>\n",
       "  <tbody>\n",
       "    <tr>\n",
       "      <th>10742010</th>\n",
       "      <td>0</td>\n",
       "      <td>0.808323</td>\n",
       "      <td>1.508</td>\n",
       "      <td>2.650069</td>\n",
       "      <td>i</td>\n",
       "      <td>0.950</td>\n",
       "      <td>1.899501</td>\n",
       "      <td>10</td>\n",
       "      <td>0.112077</td>\n",
       "      <td>25.857546</td>\n",
       "      <td>...</td>\n",
       "      <td>0</td>\n",
       "      <td>-8</td>\n",
       "      <td>0</td>\n",
       "      <td>-9</td>\n",
       "      <td>0.674934</td>\n",
       "      <td>22</td>\n",
       "      <td>2.024122</td>\n",
       "      <td>7.722346</td>\n",
       "      <td>0.004629</td>\n",
       "      <td>-0.003718</td>\n",
       "    </tr>\n",
       "    <tr>\n",
       "      <th>8828139</th>\n",
       "      <td>0</td>\n",
       "      <td>0.975141</td>\n",
       "      <td>1.430</td>\n",
       "      <td>NaN</td>\n",
       "      <td>i</td>\n",
       "      <td>1.319</td>\n",
       "      <td>NaN</td>\n",
       "      <td>10</td>\n",
       "      <td>0.072256</td>\n",
       "      <td>38.029022</td>\n",
       "      <td>...</td>\n",
       "      <td>0</td>\n",
       "      <td>5</td>\n",
       "      <td>0</td>\n",
       "      <td>5</td>\n",
       "      <td>NaN</td>\n",
       "      <td>21</td>\n",
       "      <td>1.379283</td>\n",
       "      <td>25.582918</td>\n",
       "      <td>0.002420</td>\n",
       "      <td>-0.000578</td>\n",
       "    </tr>\n",
       "    <tr>\n",
       "      <th>8229889</th>\n",
       "      <td>0</td>\n",
       "      <td>0.877440</td>\n",
       "      <td>0.505</td>\n",
       "      <td>NaN</td>\n",
       "      <td>z</td>\n",
       "      <td>0.494</td>\n",
       "      <td>NaN</td>\n",
       "      <td>57</td>\n",
       "      <td>0.106124</td>\n",
       "      <td>14.436153</td>\n",
       "      <td>...</td>\n",
       "      <td>0</td>\n",
       "      <td>1</td>\n",
       "      <td>0</td>\n",
       "      <td>1</td>\n",
       "      <td>NaN</td>\n",
       "      <td>20</td>\n",
       "      <td>0.950069</td>\n",
       "      <td>3.914192</td>\n",
       "      <td>0.008863</td>\n",
       "      <td>-0.020044</td>\n",
       "    </tr>\n",
       "    <tr>\n",
       "      <th>11033218</th>\n",
       "      <td>0</td>\n",
       "      <td>0.681179</td>\n",
       "      <td>0.762</td>\n",
       "      <td>3.008957</td>\n",
       "      <td>i</td>\n",
       "      <td>0.449</td>\n",
       "      <td>2.855881</td>\n",
       "      <td>1</td>\n",
       "      <td>0.139071</td>\n",
       "      <td>27.118200</td>\n",
       "      <td>...</td>\n",
       "      <td>0</td>\n",
       "      <td>-14</td>\n",
       "      <td>2</td>\n",
       "      <td>-27</td>\n",
       "      <td>1.240574</td>\n",
       "      <td>18</td>\n",
       "      <td>1.749488</td>\n",
       "      <td>5.068382</td>\n",
       "      <td>0.008041</td>\n",
       "      <td>0.000246</td>\n",
       "    </tr>\n",
       "    <tr>\n",
       "      <th>8341858</th>\n",
       "      <td>0</td>\n",
       "      <td>0.645906</td>\n",
       "      <td>1.205</td>\n",
       "      <td>1.352224</td>\n",
       "      <td>i</td>\n",
       "      <td>0.982</td>\n",
       "      <td>1.063333</td>\n",
       "      <td>30</td>\n",
       "      <td>0.123302</td>\n",
       "      <td>25.487835</td>\n",
       "      <td>...</td>\n",
       "      <td>0</td>\n",
       "      <td>4</td>\n",
       "      <td>0</td>\n",
       "      <td>4</td>\n",
       "      <td>2.970234</td>\n",
       "      <td>16</td>\n",
       "      <td>1.930613</td>\n",
       "      <td>7.372579</td>\n",
       "      <td>0.005606</td>\n",
       "      <td>0.001771</td>\n",
       "    </tr>\n",
       "  </tbody>\n",
       "</table>\n",
       "<p>5 rows × 39 columns</p>\n",
       "</div>"
      ],
      "text/plain": [
       "          OBJECT_TYPE       AMP  A_IMAGE     A_REF BAND  B_IMAGE     B_REF  \\\n",
       "ID                                                                           \n",
       "10742010            0  0.808323    1.508  2.650069    i    0.950  1.899501   \n",
       "8828139             0  0.975141    1.430       NaN    i    1.319       NaN   \n",
       "8229889             0  0.877440    0.505       NaN    z    0.494       NaN   \n",
       "11033218            0  0.681179    0.762  3.008957    i    0.449  2.855881   \n",
       "8341858             0  0.645906    1.205  1.352224    i    0.982  1.063333   \n",
       "\n",
       "         CCDID   COLMEDS  DIFFSUMRN  ...  N3SIG3 N3SIG3SHIFT  N3SIG5  \\\n",
       "ID                                   ...                               \n",
       "10742010    10  0.112077  25.857546  ...       0          -8       0   \n",
       "8828139     10  0.072256  38.029022  ...       0           5       0   \n",
       "8229889     57  0.106124  14.436153  ...       0           1       0   \n",
       "11033218     1  0.139071  27.118200  ...       0         -14       2   \n",
       "8341858     30  0.123302  25.487835  ...       0           4       0   \n",
       "\n",
       "          N3SIG5SHIFT  NN_DIST_RENORM  NUMNEGRN     SCALE        SNR  \\\n",
       "ID                                                                     \n",
       "10742010           -9        0.674934        22  2.024122   7.722346   \n",
       "8828139             5             NaN        21  1.379283  25.582918   \n",
       "8229889             1             NaN        20  0.950069   3.914192   \n",
       "11033218          -27        1.240574        18  1.749488   5.068382   \n",
       "8341858             4        2.970234        16  1.930613   7.372579   \n",
       "\n",
       "          SPREADERR_MODEL  SPREAD_MODEL  \n",
       "ID                                       \n",
       "10742010         0.004629     -0.003718  \n",
       "8828139          0.002420     -0.000578  \n",
       "8229889          0.008863     -0.020044  \n",
       "11033218         0.008041      0.000246  \n",
       "8341858          0.005606      0.001771  \n",
       "\n",
       "[5 rows x 39 columns]"
      ]
     },
     "execution_count": 5,
     "metadata": {},
     "output_type": "execute_result"
    }
   ],
   "source": [
    "autoscan_features.head()"
   ]
  },
  {
   "cell_type": "markdown",
   "metadata": {},
   "source": [
    "## Creating a testing set"
   ]
  },
  {
   "cell_type": "code",
   "execution_count": 6,
   "metadata": {},
   "outputs": [],
   "source": [
    "_prng = np.random.RandomState(42)\n",
    "training_features, testing_features = model_selection.train_test_split(autoscan_features,\n",
    "                                                                       test_size=0.2,\n",
    "                                                                       random_state=_prng,\n",
    "                                                                       stratify=autoscan_features.OBJECT_TYPE)"
   ]
  },
  {
   "cell_type": "markdown",
   "metadata": {},
   "source": [
    "Since the autoscan features data set is not too large we will go ahead and save both the training and more importantly the testing features data sets to disk."
   ]
  },
  {
   "cell_type": "code",
   "execution_count": 7,
   "metadata": {},
   "outputs": [],
   "source": [
    "interim_data_path = \"../data/interim\"\n",
    "if not os.path.isdir(interim_data_path):\n",
    "    os.makedirs(interim_data_path)\n",
    "    \n",
    "training_features.to_csv(f\"{interim_data_path}/training_features.csv\")\n",
    "testing_features.to_csv(f\"{interim_data_path}/testing_features.csv\")"
   ]
  },
  {
   "cell_type": "markdown",
   "metadata": {},
   "source": [
    "# 4. Prepare the data for ML algorithms"
   ]
  },
  {
   "cell_type": "markdown",
   "metadata": {},
   "source": [
    "## Data cleaning\n",
    "\n",
    "Most ML algorithms can not work with missing values. Do we have any missing values in our training data?"
   ]
  },
  {
   "cell_type": "code",
   "execution_count": 123,
   "metadata": {},
   "outputs": [
    {
     "data": {
      "text/plain": [
       "A_REF                          44743\n",
       "NN_DIST_RENORM                 44743\n",
       "MAG_REF                        44743\n",
       "MAG_REF_ERR                    44743\n",
       "B_REF                          44743\n",
       "SPREAD_MODEL                       0\n",
       "ELLIPTICITY                        0\n",
       "L1                                 0\n",
       "GFLUX                              0\n",
       "GAUSS                              0\n",
       "FLUX_RATIO                         0\n",
       "FLAGS                              0\n",
       "COLMEDS                            0\n",
       "DIFFSUMRN                          0\n",
       "MAG                                0\n",
       "CCDID                              0\n",
       "B_IMAGE                            0\n",
       "BAND                               0\n",
       "A_IMAGE                            0\n",
       "AMP                                0\n",
       "LACOSMIC                           0\n",
       "MAGLIM                             0\n",
       "MAGDIFF                            0\n",
       "N3SIG3                             0\n",
       "SNR                                0\n",
       "SCALE                              0\n",
       "NUMNEGRN                           0\n",
       "N3SIG5SHIFT                        0\n",
       "N3SIG5                             0\n",
       "N3SIG3SHIFT                        0\n",
       "N2SIG5SHIFT                        0\n",
       "SPREADERR_MODEL                    0\n",
       "N2SIG5                             0\n",
       "N2SIG3SHIFT                        0\n",
       "N2SIG3                             0\n",
       "MIN_DISTANCE_TO_EDGE_IN_NEW        0\n",
       "MASKFRAC                           0\n",
       "MAG_FROM_LIMIT                     0\n",
       "OBJECT_TYPE                        0\n",
       "dtype: int64"
      ]
     },
     "execution_count": 123,
     "metadata": {},
     "output_type": "execute_result"
    }
   ],
   "source": [
    "(training_features.isna()\n",
    "                  .sum()\n",
    "                  .sort_values(ascending=False))"
   ]
  },
  {
   "cell_type": "code",
   "execution_count": 126,
   "metadata": {},
   "outputs": [
    {
     "data": {
      "text/plain": [
       "count    674427.000000\n",
       "mean          3.821103\n",
       "std           7.372656\n",
       "min           0.692358\n",
       "25%           2.221944\n",
       "50%           2.794353\n",
       "75%           4.087810\n",
       "max         815.111328\n",
       "Name: A_REF, dtype: float64"
      ]
     },
     "execution_count": 126,
     "metadata": {},
     "output_type": "execute_result"
    }
   ],
   "source": [
    "# semi-major axis of nearest source in galaxy coadd catalog (if exists within 5\", else imputed)\n",
    "(training_features.A_REF\n",
    "                  .describe())"
   ]
  },
  {
   "cell_type": "code",
   "execution_count": 127,
   "metadata": {},
   "outputs": [
    {
     "data": {
      "text/plain": [
       "count    674427.000000\n",
       "mean          0.921008\n",
       "std           0.852281\n",
       "min           0.001016\n",
       "25%           0.418017\n",
       "50%           0.696747\n",
       "75%           1.057845\n",
       "max           4.999983\n",
       "Name: NN_DIST_RENORM, dtype: float64"
      ]
     },
     "execution_count": 127,
     "metadata": {},
     "output_type": "execute_result"
    }
   ],
   "source": [
    "# distance from detection to nearest source in galaxy coadd catalog (if exists within 5\", else imputed)\n",
    "(training_features.NN_DIST_RENORM\n",
    "                  .describe())"
   ]
  },
  {
   "cell_type": "code",
   "execution_count": 128,
   "metadata": {},
   "outputs": [
    {
     "data": {
      "text/plain": [
       "count    674427.000000\n",
       "mean         20.988036\n",
       "std           4.296380\n",
       "min          13.204200\n",
       "25%          19.297300\n",
       "50%          20.699600\n",
       "75%          22.316200\n",
       "max          99.000000\n",
       "Name: MAG_REF, dtype: float64"
      ]
     },
     "execution_count": 128,
     "metadata": {},
     "output_type": "execute_result"
    }
   ],
   "source": [
    "# magnitude of nearest source in galaxy coadd catalog (if exists within 5\", else imputed)\n",
    "(training_features.MAG_REF\n",
    "                  .describe())"
   ]
  },
  {
   "cell_type": "code",
   "execution_count": 129,
   "metadata": {},
   "outputs": [
    {
     "data": {
      "text/plain": [
       "count    674427.000000\n",
       "mean          0.036684\n",
       "std           0.091378\n",
       "min           0.000100\n",
       "25%           0.002200\n",
       "50%           0.006100\n",
       "75%           0.029600\n",
       "max           1.000000\n",
       "Name: MAG_REF_ERR, dtype: float64"
      ]
     },
     "execution_count": 129,
     "metadata": {},
     "output_type": "execute_result"
    }
   ],
   "source": [
    "# uncertainty of MAG_REF (if exists, else imputed)\n",
    "(training_features.MAG_REF_ERR\n",
    "                  .describe())"
   ]
  },
  {
   "cell_type": "code",
   "execution_count": 131,
   "metadata": {},
   "outputs": [
    {
     "data": {
      "text/plain": [
       "count    674427.000000\n",
       "mean          2.729035\n",
       "std           1.777635\n",
       "min           0.288675\n",
       "25%           1.940005\n",
       "50%           2.381958\n",
       "75%           3.024719\n",
       "max          72.474854\n",
       "Name: B_REF, dtype: float64"
      ]
     },
     "execution_count": 131,
     "metadata": {},
     "output_type": "execute_result"
    }
   ],
   "source": [
    "# semi-minor axis of nearest source in galaxy coadd catalog (if exists within 5\", else imputed)\n",
    "(training_features.B_REF\n",
    "                  .describe())"
   ]
  },
  {
   "cell_type": "markdown",
   "metadata": {},
   "source": [
    "Couple of approaches we could take:\n",
    "\n",
    "1. Drop all rows containing any missing values.\n",
    "2. Impute the missing values.\n",
    "\n",
    "Table 2 of the paper provides descriptions of each the features and suggests that missing values were imputed using the mean value."
   ]
  },
  {
   "cell_type": "code",
   "execution_count": 139,
   "metadata": {},
   "outputs": [],
   "source": [
    "impute.SimpleImputer?"
   ]
  },
  {
   "cell_type": "markdown",
   "metadata": {},
   "source": [
    "## Handling Categorical Features"
   ]
  },
  {
   "cell_type": "markdown",
   "metadata": {},
   "source": [
    "We also have several categorical variables (both ordered and unordered) which need to be properly encoded."
   ]
  },
  {
   "cell_type": "code",
   "execution_count": 8,
   "metadata": {},
   "outputs": [],
   "source": [
    "categorical_columns = [\"MAGLIM\",\n",
    "                       \"BAND\",\n",
    "                       \"CCDID\",\n",
    "                       \"FLAGS\"]"
   ]
  },
  {
   "cell_type": "code",
   "execution_count": 138,
   "metadata": {},
   "outputs": [],
   "source": [
    "# for unordered categorical variables\n",
    "preprocessing.OneHotEncoder?"
   ]
  },
  {
   "cell_type": "code",
   "execution_count": 9,
   "metadata": {},
   "outputs": [],
   "source": [
    "ordinal_columns = [\"N2SIG3\",\n",
    "                   \"N2SIG3SHIFT\",\n",
    "                   \"N2SIG5\",\n",
    "                   \"N2SIG5SHIFT\",\n",
    "                   \"N3SIG3\",\n",
    "                   \"N3SIG3SHIFT\",\n",
    "                   \"N3SIG5\",\n",
    "                   \"N3SIG5SHIFT\",\n",
    "                   \"NUMNEGRN\"]"
   ]
  },
  {
   "cell_type": "code",
   "execution_count": 141,
   "metadata": {},
   "outputs": [],
   "source": [
    "# for ordered categorical variables\n",
    "preprocessing.OrdinalEncoder?"
   ]
  },
  {
   "cell_type": "markdown",
   "metadata": {},
   "source": [
    "## Feature Scaling"
   ]
  },
  {
   "cell_type": "markdown",
   "metadata": {},
   "source": [
    "Many of the features have values that differ by several orders of magnitude. For some ML algorithms, such as random forests, re-scaling of features will make little (or no) difference but for other ML algorithms re-scaling is critical to achieving good performance. "
   ]
  },
  {
   "cell_type": "code",
   "execution_count": 10,
   "metadata": {},
   "outputs": [],
   "source": [
    "columns_to_scale = [\"AMP\",\n",
    "                    \"A_REF\",\n",
    "                    \"A_IMAGE\",\n",
    "                    \"B_REF\",\n",
    "                    \"DIFFSUMRN\",\n",
    "                    \"ELLIPTICITY\",\n",
    "                    \"FLUX_RATIO\",\n",
    "                    \"GAUSS\",\n",
    "                    \"GFLUX\",\n",
    "                    \"L1\",\n",
    "                    \"LACOSMIC\",\n",
    "                    \"MAG\",\n",
    "                    \"MAGDIFF\",\n",
    "                    \"MAG_FROM_LIMIT\",\n",
    "                    \"MAG_REF\",\n",
    "                    \"MAG_REF_ERR\",\n",
    "                    \"MASKFRAC\",\n",
    "                    \"MIN_DISTANCE_TO_EDGE_IN_NEW\",\n",
    "                    \"NN_DIST_RENORM\",\n",
    "                    \"SCALE\",\n",
    "                    \"SNR\",\n",
    "                    \"SPREADERR_MODEL\",\n",
    "                    \"SPREAD_MODEL\"]"
   ]
  },
  {
   "cell_type": "markdown",
   "metadata": {},
   "source": [
    "## Transformation Pipelines"
   ]
  },
  {
   "cell_type": "code",
   "execution_count": 11,
   "metadata": {},
   "outputs": [
    {
     "name": "stdout",
     "output_type": "stream",
     "text": [
      "Architecture:          x86_64\r\n",
      "CPU op-mode(s):        32-bit, 64-bit\r\n",
      "Byte Order:            Little Endian\r\n",
      "CPU(s):                72\r\n",
      "On-line CPU(s) list:   0-71\r\n",
      "Thread(s) per core:    2\r\n",
      "Core(s) per socket:    18\r\n",
      "Socket(s):             2\r\n",
      "NUMA node(s):          2\r\n",
      "Vendor ID:             GenuineIntel\r\n",
      "CPU family:            6\r\n",
      "Model:                 85\r\n",
      "Model name:            Intel(R) Xeon(R) Gold 6150 CPU @ 2.70GHz\r\n",
      "Stepping:              4\r\n",
      "CPU MHz:               1200.000\r\n",
      "CPU max MHz:           2701.0000\r\n",
      "CPU min MHz:           1200.0000\r\n",
      "BogoMIPS:              5400.00\r\n",
      "Virtualization:        VT-x\r\n",
      "L1d cache:             32K\r\n",
      "L1i cache:             32K\r\n",
      "L2 cache:              1024K\r\n",
      "L3 cache:              25344K\r\n",
      "NUMA node0 CPU(s):     0-17,36-53\r\n",
      "NUMA node1 CPU(s):     18-35,54-71\r\n",
      "Flags:                 fpu vme de pse tsc msr pae mce cx8 apic sep mtrr pge mca cmov pat pse36 clflush dts acpi mmx fxsr sse sse2 ss ht tm pbe syscall nx pdpe1gb rdtscp lm constant_tsc art arch_perfmon pebs bts rep_good nopl xtopology nonstop_tsc aperfmperf eagerfpu pni pclmulqdq dtes64 monitor ds_cpl vmx smx est tm2 ssse3 sdbg fma cx16 xtpr pdcm pcid dca sse4_1 sse4_2 x2apic movbe popcnt tsc_deadline_timer aes xsave avx f16c rdrand lahf_lm abm 3dnowprefetch epb cat_l3 cdp_l3 intel_ppin intel_pt ssbd mba ibrs ibpb stibp tpr_shadow vnmi flexpriority ept vpid fsgsbase tsc_adjust bmi1 hle avx2 smep bmi2 erms invpcid rtm cqm mpx rdt_a avx512f avx512dq rdseed adx smap clflushopt clwb avx512cd avx512bw avx512vl xsaveopt xsavec xgetbv1 cqm_llc cqm_occup_llc cqm_mbm_total cqm_mbm_local dtherm ida arat pln pts pku ospke spec_ctrl intel_stibp flush_l1d\r\n"
     ]
    }
   ],
   "source": [
    "!lscpu"
   ]
  },
  {
   "cell_type": "code",
   "execution_count": 18,
   "metadata": {},
   "outputs": [],
   "source": [
    "NUMBER_CORES = 72"
   ]
  },
  {
   "cell_type": "code",
   "execution_count": 19,
   "metadata": {},
   "outputs": [],
   "source": [
    "_rescaling_pipeline = pipeline.make_pipeline(\n",
    "    impute.SimpleImputer(),\n",
    "    preprocessing.StandardScaler()\n",
    ")\n",
    "\n",
    "column_transformer = compose.make_column_transformer(\n",
    "    (_rescaling_pipeline, columns_to_scale),\n",
    "    (preprocessing.OneHotEncoder(), categorical_columns),\n",
    "    (preprocessing.OrdinalEncoder(), ordinal_columns),\n",
    "    remainder=\"passthrough\",\n",
    "    n_jobs=4\n",
    ")"
   ]
  },
  {
   "cell_type": "code",
   "execution_count": 20,
   "metadata": {},
   "outputs": [],
   "source": [
    "Z = column_transformer.fit_transform(training_features.drop(\"OBJECT_TYPE\", axis=1))"
   ]
  },
  {
   "cell_type": "code",
   "execution_count": 63,
   "metadata": {},
   "outputs": [],
   "source": [
    "y = (training_features.get(\"OBJECT_TYPE\")\n",
    "                      .values)"
   ]
  },
  {
   "cell_type": "code",
   "execution_count": 64,
   "metadata": {},
   "outputs": [],
   "source": [
    "final_data_path = \"../data/final\"\n",
    "if not os.path.isdir(final_data_path):\n",
    "    os.makedirs(final_data_path)\n",
    "_ = joblib.dump(Z, f\"{final_data_path}/transformed-training-features.pkl\")\n",
    "_ = joblib.dump(y, f\"{final_data_path}/training-target.pkl\")"
   ]
  },
  {
   "cell_type": "markdown",
   "metadata": {},
   "source": [
    "# 5. Select and Train a model"
   ]
  },
  {
   "cell_type": "code",
   "execution_count": 22,
   "metadata": {},
   "outputs": [],
   "source": [
    "# seed used for all models that require source of randomness\n",
    "SEED = 42\n",
    "\n",
    "# number of folds to use for CV\n",
    "NUMBER_CV_FOLDS = 3\n",
    "\n",
    "# number of jobs to use for CV\n",
    "NUMBER_CV_JOBS = NUMBER_CV_FOLDS\n",
    "\n",
    "# use area under ROC for scoring CV\n",
    "SCORING = metrics.make_scorer(metrics.roc_auc_score, needs_proba=True)"
   ]
  },
  {
   "cell_type": "markdown",
   "metadata": {},
   "source": [
    "## Benchmark \"dummy\" classifier"
   ]
  },
  {
   "cell_type": "code",
   "execution_count": 59,
   "metadata": {},
   "outputs": [],
   "source": [
    "benchmark_clf = dummy.DummyClassifier(strategy=\"most_frequent\")"
   ]
  },
  {
   "cell_type": "code",
   "execution_count": 65,
   "metadata": {},
   "outputs": [
    {
     "data": {
      "text/plain": [
       "DummyClassifier(constant=None, random_state=None, strategy='most_frequent')"
      ]
     },
     "execution_count": 65,
     "metadata": {},
     "output_type": "execute_result"
    }
   ],
   "source": [
    "benchmark_clf.fit(Z, y)"
   ]
  },
  {
   "cell_type": "code",
   "execution_count": 66,
   "metadata": {},
   "outputs": [],
   "source": [
    "benchmark_auc_scores = model_selection.cross_val_score(benchmark_clf,\n",
    "                                                       Z,\n",
    "                                                       y,\n",
    "                                                       cv=NUMBER_CV_FOLDS,\n",
    "                                                       scoring=SCORING,\n",
    "                                                       n_jobs=NUMBER_CV_JOBS)"
   ]
  },
  {
   "cell_type": "code",
   "execution_count": 67,
   "metadata": {},
   "outputs": [
    {
     "data": {
      "text/plain": [
       "0.5"
      ]
     },
     "execution_count": 67,
     "metadata": {},
     "output_type": "execute_result"
    }
   ],
   "source": [
    "benchmark_auc_scores.mean()"
   ]
  },
  {
   "cell_type": "markdown",
   "metadata": {},
   "source": [
    "## AdaBoost classifier"
   ]
  },
  {
   "cell_type": "code",
   "execution_count": 68,
   "metadata": {},
   "outputs": [],
   "source": [
    "_prng = np.random.RandomState(SEED)\n",
    "ada_boost_clf = ensemble.AdaBoostClassifier(random_state=_prng)"
   ]
  },
  {
   "cell_type": "code",
   "execution_count": 69,
   "metadata": {},
   "outputs": [
    {
     "data": {
      "text/plain": [
       "AdaBoostClassifier(algorithm='SAMME.R', base_estimator=None,\n",
       "          learning_rate=1.0, n_estimators=50,\n",
       "          random_state=<mtrand.RandomState object at 0x7fb8001be480>)"
      ]
     },
     "execution_count": 69,
     "metadata": {},
     "output_type": "execute_result"
    }
   ],
   "source": [
    "ada_boost_clf.fit(Z, y)"
   ]
  },
  {
   "cell_type": "code",
   "execution_count": 71,
   "metadata": {},
   "outputs": [],
   "source": [
    "models_path = \"../models/\"\n",
    "if not os.path.isdir(final_data_path):\n",
    "    os.makedirs(final_data_path)\n",
    "_ = joblib.dump(ada_boost_clf, f\"{models_path}/ada-boost-classifier.pkl\")"
   ]
  },
  {
   "cell_type": "markdown",
   "metadata": {},
   "source": [
    "### Scoring AdaBoost"
   ]
  },
  {
   "cell_type": "code",
   "execution_count": 72,
   "metadata": {},
   "outputs": [],
   "source": [
    "ada_boost_auc_scores = model_selection.cross_val_score(ada_boost_clf,\n",
    "                                                       Z,\n",
    "                                                       y,\n",
    "                                                       cv=NUMBER_CV_FOLDS,\n",
    "                                                       scoring=SCORING,\n",
    "                                                       n_jobs=NUMBER_CV_JOBS)"
   ]
  },
  {
   "cell_type": "code",
   "execution_count": 73,
   "metadata": {},
   "outputs": [
    {
     "data": {
      "text/plain": [
       "0.9835888575516057"
      ]
     },
     "execution_count": 73,
     "metadata": {},
     "output_type": "execute_result"
    }
   ],
   "source": [
    "ada_boost_auc_scores.mean()"
   ]
  },
  {
   "cell_type": "markdown",
   "metadata": {},
   "source": [
    "## Random Forest classifier"
   ]
  },
  {
   "cell_type": "code",
   "execution_count": 74,
   "metadata": {},
   "outputs": [],
   "source": [
    "_prng = np.random.RandomState(SEED)\n",
    "random_forest_clf = ensemble.RandomForestClassifier(n_estimators=100,\n",
    "                                                    n_jobs=NUMBER_CORES // NUMBER_CV_JOBS,\n",
    "                                                    random_state=_prng)"
   ]
  },
  {
   "cell_type": "code",
   "execution_count": 75,
   "metadata": {},
   "outputs": [
    {
     "data": {
      "text/plain": [
       "RandomForestClassifier(bootstrap=True, class_weight=None, criterion='gini',\n",
       "            max_depth=None, max_features='auto', max_leaf_nodes=None,\n",
       "            min_impurity_decrease=0.0, min_impurity_split=None,\n",
       "            min_samples_leaf=1, min_samples_split=2,\n",
       "            min_weight_fraction_leaf=0.0, n_estimators=100, n_jobs=24,\n",
       "            oob_score=False,\n",
       "            random_state=<mtrand.RandomState object at 0x7fb7fef44900>,\n",
       "            verbose=0, warm_start=False)"
      ]
     },
     "execution_count": 75,
     "metadata": {},
     "output_type": "execute_result"
    }
   ],
   "source": [
    "random_forest_clf.fit(Z, y)"
   ]
  },
  {
   "cell_type": "code",
   "execution_count": 76,
   "metadata": {},
   "outputs": [],
   "source": [
    "_ = joblib.dump(random_forest_clf, \"../models/random-forest-classifier.pkl\")"
   ]
  },
  {
   "cell_type": "markdown",
   "metadata": {},
   "source": [
    "### Scoring the Random Forest classifier"
   ]
  },
  {
   "cell_type": "code",
   "execution_count": 77,
   "metadata": {},
   "outputs": [],
   "source": [
    "random_forest_auc_scores = model_selection.cross_val_score(random_forest_clf,\n",
    "                                                           Z,\n",
    "                                                           y,\n",
    "                                                           cv=NUMBER_CV_FOLDS,\n",
    "                                                           scoring=SCORING,\n",
    "                                                           n_jobs=NUMBER_CV_JOBS)"
   ]
  },
  {
   "cell_type": "code",
   "execution_count": 78,
   "metadata": {},
   "outputs": [
    {
     "data": {
      "text/plain": [
       "0.9927092709216261"
      ]
     },
     "execution_count": 78,
     "metadata": {},
     "output_type": "execute_result"
    }
   ],
   "source": [
    "random_forest_auc_scores.mean()"
   ]
  },
  {
   "cell_type": "markdown",
   "metadata": {},
   "source": [
    "## XGBoost classifier"
   ]
  },
  {
   "cell_type": "code",
   "execution_count": 79,
   "metadata": {},
   "outputs": [],
   "source": [
    "xgb_clf = xgb.XGBClassifier(subsample=0.8,\n",
    "                            colsample_bytree=0.8,\n",
    "                            random_state=SEED,\n",
    "                            n_jobs=NUMBER_CORES // N_JOBS)"
   ]
  },
  {
   "cell_type": "code",
   "execution_count": 80,
   "metadata": {},
   "outputs": [
    {
     "data": {
      "text/plain": [
       "XGBClassifier(base_score=0.5, booster='gbtree', colsample_bylevel=1,\n",
       "       colsample_bytree=0.8, gamma=0, learning_rate=0.1, max_delta_step=0,\n",
       "       max_depth=3, min_child_weight=1, missing=None, n_estimators=100,\n",
       "       n_jobs=24, nthread=None, objective='binary:logistic',\n",
       "       random_state=42, reg_alpha=0, reg_lambda=1, scale_pos_weight=1,\n",
       "       seed=None, silent=True, subsample=0.8)"
      ]
     },
     "execution_count": 80,
     "metadata": {},
     "output_type": "execute_result"
    }
   ],
   "source": [
    "xgb_clf.fit(Z, y)"
   ]
  },
  {
   "cell_type": "code",
   "execution_count": 81,
   "metadata": {},
   "outputs": [],
   "source": [
    "_ = joblib.dump(xgb_clf, \"../models/xgboost-classifier.pkl\")"
   ]
  },
  {
   "cell_type": "markdown",
   "metadata": {},
   "source": [
    "### Scoring the XGBoost classifier"
   ]
  },
  {
   "cell_type": "code",
   "execution_count": 82,
   "metadata": {},
   "outputs": [],
   "source": [
    "xgd_auc_scores = model_selection.cross_val_score(xgb_clf,\n",
    "                                                 Z,\n",
    "                                                 y,\n",
    "                                                 cv=NUMBER_CV_FOLDS,\n",
    "                                                 scoring=SCORING,\n",
    "                                                 n_jobs=NUMBER_CV_JOBS)"
   ]
  },
  {
   "cell_type": "code",
   "execution_count": 83,
   "metadata": {},
   "outputs": [
    {
     "data": {
      "text/plain": [
       "0.9893029427013067"
      ]
     },
     "execution_count": 83,
     "metadata": {},
     "output_type": "execute_result"
    }
   ],
   "source": [
    "xgd_auc_scores.mean()"
   ]
  },
  {
   "cell_type": "markdown",
   "metadata": {},
   "source": [
    "# 6. Fine-Tuning a model\n",
    "\n",
    "Lot's of hyper parameters to tune and no optimal way to tune hyper parameters! How to proceed? Tuning a model ultimately involves a lot of _tinkering_. To avoid over-fitting your model to your training data you should either set aside a validation data set specifically to use when comparing the performance of various combinations of hyper-parameters according to your performance metric, or you should use some form of cross validation.\n",
    "\n",
    "In general, you should not expect significant gains in model performance to come from tuning hyper-parameters. Significant gains in model performance are more likely to come from using a better model (i.e., convolutional neural networks (CNNs)), finding more data, improved feature engineering, etc.\n",
    "\n",
    "That said, it is important to convert changes in model performance to changes in the relevant business metric. Sometimes seemingly small gains in model performance are still substantial from a business perspective.\n",
    "To demonstrate tuning model hyper-parameters, I will use a subset of the grid of hyper-parameters explored in the paper. \n",
    "\n",
    "Finally, some notes on balancing resources between fitting a classifier and spawning grid search CV jobs. \n",
    "\n",
    "* Increasing the number of concurrent grid search jobs should yield roughly linear scaling\n",
    "* Increasing the number of threads allocated to fitting the Random Forest classifier will yield sub-linear scaling.\n",
    "\n",
    "Optimal allocation of threads between fitting the classifier and spawning CV jobs depends on the classifier. With `ensemble.RandomForest` classifier I have not seen any improvement from hyper-threading. "
   ]
  },
  {
   "cell_type": "code",
   "execution_count": 46,
   "metadata": {},
   "outputs": [],
   "source": [
    "NUMBER_GRID_SEARCH_JOBS = 9"
   ]
  },
  {
   "cell_type": "code",
   "execution_count": 87,
   "metadata": {},
   "outputs": [],
   "source": [
    "_prng = np.random.RandomState(SEED)\n",
    "random_forest_clf = ensemble.RandomForestClassifier(n_estimators=100,\n",
    "                                                    n_jobs=NUMBER_CORES // NUMBER_GRID_SEARCH_JOBS,\n",
    "                                                    random_state=_prng)\n",
    "\n",
    "_hyper_parameter_grid = {\"n_estimators\": [10, 100],\n",
    "                         \"criterion\": [\"gini\", \"entropy\"],   \n",
    "                         \"min_samples_split\": [2, 3, 4],\n",
    "                         \"max_depth\": [5, 30, None]}\n",
    "\n",
    "random_forest_grid_search = model_selection.GridSearchCV(random_forest_clf,\n",
    "                                                         param_grid=_hyper_parameter_grid,\n",
    "                                                         scoring=SCORING,\n",
    "                                                         iid=True,\n",
    "                                                         cv=NUMBER_CV_FOLDS,\n",
    "                                                         n_jobs=NUMBER_GRID_SEARCH_JOBS,\n",
    "                                                         return_train_score=True,\n",
    "                                                         verbose=10)"
   ]
  },
  {
   "cell_type": "code",
   "execution_count": 88,
   "metadata": {},
   "outputs": [
    {
     "name": "stdout",
     "output_type": "stream",
     "text": [
      "Fitting 3 folds for each of 36 candidates, totalling 108 fits\n"
     ]
    },
    {
     "name": "stderr",
     "output_type": "stream",
     "text": [
      "[Parallel(n_jobs=9)]: Using backend LokyBackend with 9 concurrent workers.\n",
      "[Parallel(n_jobs=9)]: Done   7 tasks      | elapsed:   20.2s\n",
      "[Parallel(n_jobs=9)]: Done  14 tasks      | elapsed:   43.6s\n",
      "[Parallel(n_jobs=9)]: Done  23 tasks      | elapsed:  1.0min\n",
      "[Parallel(n_jobs=9)]: Done  32 tasks      | elapsed:  2.3min\n",
      "[Parallel(n_jobs=9)]: Done  43 tasks      | elapsed:  2.9min\n",
      "[Parallel(n_jobs=9)]: Done  54 tasks      | elapsed:  4.0min\n",
      "[Parallel(n_jobs=9)]: Done  67 tasks      | elapsed:  4.6min\n",
      "[Parallel(n_jobs=9)]: Done  80 tasks      | elapsed:  5.3min\n",
      "[Parallel(n_jobs=9)]: Done 102 out of 108 | elapsed:  7.5min remaining:   26.4s\n",
      "[Parallel(n_jobs=9)]: Done 108 out of 108 | elapsed:  8.0min finished\n"
     ]
    },
    {
     "data": {
      "text/plain": [
       "GridSearchCV(cv=3, error_score='raise-deprecating',\n",
       "       estimator=RandomForestClassifier(bootstrap=True, class_weight=None, criterion='gini',\n",
       "            max_depth=None, max_features='auto', max_leaf_nodes=None,\n",
       "            min_impurity_decrease=0.0, min_impurity_split=None,\n",
       "            min_samples_leaf=1, min_samples_split=2,\n",
       "            min_weight_fraction_leaf=0.0, n_estimators=100, n_jobs=8,\n",
       "            oob_score=False,\n",
       "            random_state=<mtrand.RandomState object at 0x7fb8005e93a8>,\n",
       "            verbose=0, warm_start=False),\n",
       "       fit_params=None, iid=True, n_jobs=9,\n",
       "       param_grid={'n_estimators': [10, 100], 'criterion': ['gini', 'entropy'], 'min_samples_split': [2, 3, 4], 'max_depth': [5, 30, None]},\n",
       "       pre_dispatch='2*n_jobs', refit=True, return_train_score=True,\n",
       "       scoring=make_scorer(roc_auc_score, needs_proba=True), verbose=10)"
      ]
     },
     "execution_count": 88,
     "metadata": {},
     "output_type": "execute_result"
    }
   ],
   "source": [
    "random_forest_grid_search.fit(Z, y)"
   ]
  },
  {
   "cell_type": "code",
   "execution_count": 89,
   "metadata": {},
   "outputs": [
    {
     "data": {
      "text/plain": [
       "{'criterion': 'entropy',\n",
       " 'max_depth': 30,\n",
       " 'min_samples_split': 3,\n",
       " 'n_estimators': 100}"
      ]
     },
     "execution_count": 89,
     "metadata": {},
     "output_type": "execute_result"
    }
   ],
   "source": [
    "random_forest_grid_search.best_params_"
   ]
  },
  {
   "cell_type": "code",
   "execution_count": 91,
   "metadata": {},
   "outputs": [
    {
     "data": {
      "text/plain": [
       "0.992949361011106"
      ]
     },
     "execution_count": 91,
     "metadata": {},
     "output_type": "execute_result"
    }
   ],
   "source": [
    "# only slightly higher than score achieved with default params! :(\n",
    "random_forest_grid_search.best_score_"
   ]
  },
  {
   "cell_type": "markdown",
   "metadata": {},
   "source": [
    "## Evaluate model performance on the training data"
   ]
  },
  {
   "cell_type": "code",
   "execution_count": 93,
   "metadata": {},
   "outputs": [],
   "source": [
    "predicted_object_type = model_selection.cross_val_predict(random_forest_grid_search.best_estimator_,\n",
    "                                                          Z,\n",
    "                                                          y,\n",
    "                                                          cv=NUMBER_CV_FOLDS,\n",
    "                                                          n_jobs=NUMBER_CV_JOBS)"
   ]
  },
  {
   "cell_type": "code",
   "execution_count": 94,
   "metadata": {},
   "outputs": [
    {
     "data": {
      "text/plain": [
       "array([[347466,   9412],\n",
       "       [ 15807, 346485]])"
      ]
     },
     "execution_count": 94,
     "metadata": {},
     "output_type": "execute_result"
    }
   ],
   "source": [
    "# row is actual object type; column is predicted object type\n",
    "metrics.confusion_matrix(predicted_object_type, y)"
   ]
  },
  {
   "cell_type": "code",
   "execution_count": 95,
   "metadata": {},
   "outputs": [
    {
     "data": {
      "text/plain": [
       "0.9735541462838967"
      ]
     },
     "execution_count": 95,
     "metadata": {},
     "output_type": "execute_result"
    }
   ],
   "source": [
    "# precision is true-positives / (true-positives + false-positives)\n",
    "metrics.precision_score(predicted_object_type, y)"
   ]
  },
  {
   "cell_type": "code",
   "execution_count": 96,
   "metadata": {},
   "outputs": [
    {
     "data": {
      "text/plain": [
       "0.9563694478486966"
      ]
     },
     "execution_count": 96,
     "metadata": {},
     "output_type": "execute_result"
    }
   ],
   "source": [
    "# recall is true-positives / (true_positives + false-negatives)\n",
    "metrics.recall_score(predicted_object_type, y)"
   ]
  },
  {
   "cell_type": "code",
   "execution_count": 97,
   "metadata": {},
   "outputs": [
    {
     "data": {
      "text/plain": [
       "0.9648852878559822"
      ]
     },
     "execution_count": 97,
     "metadata": {},
     "output_type": "execute_result"
    }
   ],
   "source": [
    "# f1-score is harmonic mean of precision and recall scores (favors classifiers with similar precision and recall)\n",
    "metrics.f1_score(predicted_object_type, y)"
   ]
  },
  {
   "cell_type": "code",
   "execution_count": 98,
   "metadata": {},
   "outputs": [],
   "source": [
    "predicted_probas = model_selection.cross_val_predict(random_forest_grid_search.best_estimator_,\n",
    "                                                     Z,\n",
    "                                                     y,\n",
    "                                                     cv=NUMBER_CV_FOLDS,\n",
    "                                                     method=\"predict_proba\",\n",
    "                                                     n_jobs=NUMBER_CV_JOBS)"
   ]
  },
  {
   "cell_type": "code",
   "execution_count": 99,
   "metadata": {},
   "outputs": [],
   "source": [
    "precisions, recalls, thresholds = metrics.precision_recall_curve(y, predicted_probas[:, 1])"
   ]
  },
  {
   "cell_type": "code",
   "execution_count": 100,
   "metadata": {
    "scrolled": false
   },
   "outputs": [
    {
     "data": {
      "application/javascript": [
       "/* Put everything inside the global mpl namespace */\n",
       "window.mpl = {};\n",
       "\n",
       "\n",
       "mpl.get_websocket_type = function() {\n",
       "    if (typeof(WebSocket) !== 'undefined') {\n",
       "        return WebSocket;\n",
       "    } else if (typeof(MozWebSocket) !== 'undefined') {\n",
       "        return MozWebSocket;\n",
       "    } else {\n",
       "        alert('Your browser does not have WebSocket support.' +\n",
       "              'Please try Chrome, Safari or Firefox ≥ 6. ' +\n",
       "              'Firefox 4 and 5 are also supported but you ' +\n",
       "              'have to enable WebSockets in about:config.');\n",
       "    };\n",
       "}\n",
       "\n",
       "mpl.figure = function(figure_id, websocket, ondownload, parent_element) {\n",
       "    this.id = figure_id;\n",
       "\n",
       "    this.ws = websocket;\n",
       "\n",
       "    this.supports_binary = (this.ws.binaryType != undefined);\n",
       "\n",
       "    if (!this.supports_binary) {\n",
       "        var warnings = document.getElementById(\"mpl-warnings\");\n",
       "        if (warnings) {\n",
       "            warnings.style.display = 'block';\n",
       "            warnings.textContent = (\n",
       "                \"This browser does not support binary websocket messages. \" +\n",
       "                    \"Performance may be slow.\");\n",
       "        }\n",
       "    }\n",
       "\n",
       "    this.imageObj = new Image();\n",
       "\n",
       "    this.context = undefined;\n",
       "    this.message = undefined;\n",
       "    this.canvas = undefined;\n",
       "    this.rubberband_canvas = undefined;\n",
       "    this.rubberband_context = undefined;\n",
       "    this.format_dropdown = undefined;\n",
       "\n",
       "    this.image_mode = 'full';\n",
       "\n",
       "    this.root = $('<div/>');\n",
       "    this._root_extra_style(this.root)\n",
       "    this.root.attr('style', 'display: inline-block');\n",
       "\n",
       "    $(parent_element).append(this.root);\n",
       "\n",
       "    this._init_header(this);\n",
       "    this._init_canvas(this);\n",
       "    this._init_toolbar(this);\n",
       "\n",
       "    var fig = this;\n",
       "\n",
       "    this.waiting = false;\n",
       "\n",
       "    this.ws.onopen =  function () {\n",
       "            fig.send_message(\"supports_binary\", {value: fig.supports_binary});\n",
       "            fig.send_message(\"send_image_mode\", {});\n",
       "            if (mpl.ratio != 1) {\n",
       "                fig.send_message(\"set_dpi_ratio\", {'dpi_ratio': mpl.ratio});\n",
       "            }\n",
       "            fig.send_message(\"refresh\", {});\n",
       "        }\n",
       "\n",
       "    this.imageObj.onload = function() {\n",
       "            if (fig.image_mode == 'full') {\n",
       "                // Full images could contain transparency (where diff images\n",
       "                // almost always do), so we need to clear the canvas so that\n",
       "                // there is no ghosting.\n",
       "                fig.context.clearRect(0, 0, fig.canvas.width, fig.canvas.height);\n",
       "            }\n",
       "            fig.context.drawImage(fig.imageObj, 0, 0);\n",
       "        };\n",
       "\n",
       "    this.imageObj.onunload = function() {\n",
       "        fig.ws.close();\n",
       "    }\n",
       "\n",
       "    this.ws.onmessage = this._make_on_message_function(this);\n",
       "\n",
       "    this.ondownload = ondownload;\n",
       "}\n",
       "\n",
       "mpl.figure.prototype._init_header = function() {\n",
       "    var titlebar = $(\n",
       "        '<div class=\"ui-dialog-titlebar ui-widget-header ui-corner-all ' +\n",
       "        'ui-helper-clearfix\"/>');\n",
       "    var titletext = $(\n",
       "        '<div class=\"ui-dialog-title\" style=\"width: 100%; ' +\n",
       "        'text-align: center; padding: 3px;\"/>');\n",
       "    titlebar.append(titletext)\n",
       "    this.root.append(titlebar);\n",
       "    this.header = titletext[0];\n",
       "}\n",
       "\n",
       "\n",
       "\n",
       "mpl.figure.prototype._canvas_extra_style = function(canvas_div) {\n",
       "\n",
       "}\n",
       "\n",
       "\n",
       "mpl.figure.prototype._root_extra_style = function(canvas_div) {\n",
       "\n",
       "}\n",
       "\n",
       "mpl.figure.prototype._init_canvas = function() {\n",
       "    var fig = this;\n",
       "\n",
       "    var canvas_div = $('<div/>');\n",
       "\n",
       "    canvas_div.attr('style', 'position: relative; clear: both; outline: 0');\n",
       "\n",
       "    function canvas_keyboard_event(event) {\n",
       "        return fig.key_event(event, event['data']);\n",
       "    }\n",
       "\n",
       "    canvas_div.keydown('key_press', canvas_keyboard_event);\n",
       "    canvas_div.keyup('key_release', canvas_keyboard_event);\n",
       "    this.canvas_div = canvas_div\n",
       "    this._canvas_extra_style(canvas_div)\n",
       "    this.root.append(canvas_div);\n",
       "\n",
       "    var canvas = $('<canvas/>');\n",
       "    canvas.addClass('mpl-canvas');\n",
       "    canvas.attr('style', \"left: 0; top: 0; z-index: 0; outline: 0\")\n",
       "\n",
       "    this.canvas = canvas[0];\n",
       "    this.context = canvas[0].getContext(\"2d\");\n",
       "\n",
       "    var backingStore = this.context.backingStorePixelRatio ||\n",
       "\tthis.context.webkitBackingStorePixelRatio ||\n",
       "\tthis.context.mozBackingStorePixelRatio ||\n",
       "\tthis.context.msBackingStorePixelRatio ||\n",
       "\tthis.context.oBackingStorePixelRatio ||\n",
       "\tthis.context.backingStorePixelRatio || 1;\n",
       "\n",
       "    mpl.ratio = (window.devicePixelRatio || 1) / backingStore;\n",
       "\n",
       "    var rubberband = $('<canvas/>');\n",
       "    rubberband.attr('style', \"position: absolute; left: 0; top: 0; z-index: 1;\")\n",
       "\n",
       "    var pass_mouse_events = true;\n",
       "\n",
       "    canvas_div.resizable({\n",
       "        start: function(event, ui) {\n",
       "            pass_mouse_events = false;\n",
       "        },\n",
       "        resize: function(event, ui) {\n",
       "            fig.request_resize(ui.size.width, ui.size.height);\n",
       "        },\n",
       "        stop: function(event, ui) {\n",
       "            pass_mouse_events = true;\n",
       "            fig.request_resize(ui.size.width, ui.size.height);\n",
       "        },\n",
       "    });\n",
       "\n",
       "    function mouse_event_fn(event) {\n",
       "        if (pass_mouse_events)\n",
       "            return fig.mouse_event(event, event['data']);\n",
       "    }\n",
       "\n",
       "    rubberband.mousedown('button_press', mouse_event_fn);\n",
       "    rubberband.mouseup('button_release', mouse_event_fn);\n",
       "    // Throttle sequential mouse events to 1 every 20ms.\n",
       "    rubberband.mousemove('motion_notify', mouse_event_fn);\n",
       "\n",
       "    rubberband.mouseenter('figure_enter', mouse_event_fn);\n",
       "    rubberband.mouseleave('figure_leave', mouse_event_fn);\n",
       "\n",
       "    canvas_div.on(\"wheel\", function (event) {\n",
       "        event = event.originalEvent;\n",
       "        event['data'] = 'scroll'\n",
       "        if (event.deltaY < 0) {\n",
       "            event.step = 1;\n",
       "        } else {\n",
       "            event.step = -1;\n",
       "        }\n",
       "        mouse_event_fn(event);\n",
       "    });\n",
       "\n",
       "    canvas_div.append(canvas);\n",
       "    canvas_div.append(rubberband);\n",
       "\n",
       "    this.rubberband = rubberband;\n",
       "    this.rubberband_canvas = rubberband[0];\n",
       "    this.rubberband_context = rubberband[0].getContext(\"2d\");\n",
       "    this.rubberband_context.strokeStyle = \"#000000\";\n",
       "\n",
       "    this._resize_canvas = function(width, height) {\n",
       "        // Keep the size of the canvas, canvas container, and rubber band\n",
       "        // canvas in synch.\n",
       "        canvas_div.css('width', width)\n",
       "        canvas_div.css('height', height)\n",
       "\n",
       "        canvas.attr('width', width * mpl.ratio);\n",
       "        canvas.attr('height', height * mpl.ratio);\n",
       "        canvas.attr('style', 'width: ' + width + 'px; height: ' + height + 'px;');\n",
       "\n",
       "        rubberband.attr('width', width);\n",
       "        rubberband.attr('height', height);\n",
       "    }\n",
       "\n",
       "    // Set the figure to an initial 600x600px, this will subsequently be updated\n",
       "    // upon first draw.\n",
       "    this._resize_canvas(600, 600);\n",
       "\n",
       "    // Disable right mouse context menu.\n",
       "    $(this.rubberband_canvas).bind(\"contextmenu\",function(e){\n",
       "        return false;\n",
       "    });\n",
       "\n",
       "    function set_focus () {\n",
       "        canvas.focus();\n",
       "        canvas_div.focus();\n",
       "    }\n",
       "\n",
       "    window.setTimeout(set_focus, 100);\n",
       "}\n",
       "\n",
       "mpl.figure.prototype._init_toolbar = function() {\n",
       "    var fig = this;\n",
       "\n",
       "    var nav_element = $('<div/>')\n",
       "    nav_element.attr('style', 'width: 100%');\n",
       "    this.root.append(nav_element);\n",
       "\n",
       "    // Define a callback function for later on.\n",
       "    function toolbar_event(event) {\n",
       "        return fig.toolbar_button_onclick(event['data']);\n",
       "    }\n",
       "    function toolbar_mouse_event(event) {\n",
       "        return fig.toolbar_button_onmouseover(event['data']);\n",
       "    }\n",
       "\n",
       "    for(var toolbar_ind in mpl.toolbar_items) {\n",
       "        var name = mpl.toolbar_items[toolbar_ind][0];\n",
       "        var tooltip = mpl.toolbar_items[toolbar_ind][1];\n",
       "        var image = mpl.toolbar_items[toolbar_ind][2];\n",
       "        var method_name = mpl.toolbar_items[toolbar_ind][3];\n",
       "\n",
       "        if (!name) {\n",
       "            // put a spacer in here.\n",
       "            continue;\n",
       "        }\n",
       "        var button = $('<button/>');\n",
       "        button.addClass('ui-button ui-widget ui-state-default ui-corner-all ' +\n",
       "                        'ui-button-icon-only');\n",
       "        button.attr('role', 'button');\n",
       "        button.attr('aria-disabled', 'false');\n",
       "        button.click(method_name, toolbar_event);\n",
       "        button.mouseover(tooltip, toolbar_mouse_event);\n",
       "\n",
       "        var icon_img = $('<span/>');\n",
       "        icon_img.addClass('ui-button-icon-primary ui-icon');\n",
       "        icon_img.addClass(image);\n",
       "        icon_img.addClass('ui-corner-all');\n",
       "\n",
       "        var tooltip_span = $('<span/>');\n",
       "        tooltip_span.addClass('ui-button-text');\n",
       "        tooltip_span.html(tooltip);\n",
       "\n",
       "        button.append(icon_img);\n",
       "        button.append(tooltip_span);\n",
       "\n",
       "        nav_element.append(button);\n",
       "    }\n",
       "\n",
       "    var fmt_picker_span = $('<span/>');\n",
       "\n",
       "    var fmt_picker = $('<select/>');\n",
       "    fmt_picker.addClass('mpl-toolbar-option ui-widget ui-widget-content');\n",
       "    fmt_picker_span.append(fmt_picker);\n",
       "    nav_element.append(fmt_picker_span);\n",
       "    this.format_dropdown = fmt_picker[0];\n",
       "\n",
       "    for (var ind in mpl.extensions) {\n",
       "        var fmt = mpl.extensions[ind];\n",
       "        var option = $(\n",
       "            '<option/>', {selected: fmt === mpl.default_extension}).html(fmt);\n",
       "        fmt_picker.append(option)\n",
       "    }\n",
       "\n",
       "    // Add hover states to the ui-buttons\n",
       "    $( \".ui-button\" ).hover(\n",
       "        function() { $(this).addClass(\"ui-state-hover\");},\n",
       "        function() { $(this).removeClass(\"ui-state-hover\");}\n",
       "    );\n",
       "\n",
       "    var status_bar = $('<span class=\"mpl-message\"/>');\n",
       "    nav_element.append(status_bar);\n",
       "    this.message = status_bar[0];\n",
       "}\n",
       "\n",
       "mpl.figure.prototype.request_resize = function(x_pixels, y_pixels) {\n",
       "    // Request matplotlib to resize the figure. Matplotlib will then trigger a resize in the client,\n",
       "    // which will in turn request a refresh of the image.\n",
       "    this.send_message('resize', {'width': x_pixels, 'height': y_pixels});\n",
       "}\n",
       "\n",
       "mpl.figure.prototype.send_message = function(type, properties) {\n",
       "    properties['type'] = type;\n",
       "    properties['figure_id'] = this.id;\n",
       "    this.ws.send(JSON.stringify(properties));\n",
       "}\n",
       "\n",
       "mpl.figure.prototype.send_draw_message = function() {\n",
       "    if (!this.waiting) {\n",
       "        this.waiting = true;\n",
       "        this.ws.send(JSON.stringify({type: \"draw\", figure_id: this.id}));\n",
       "    }\n",
       "}\n",
       "\n",
       "\n",
       "mpl.figure.prototype.handle_save = function(fig, msg) {\n",
       "    var format_dropdown = fig.format_dropdown;\n",
       "    var format = format_dropdown.options[format_dropdown.selectedIndex].value;\n",
       "    fig.ondownload(fig, format);\n",
       "}\n",
       "\n",
       "\n",
       "mpl.figure.prototype.handle_resize = function(fig, msg) {\n",
       "    var size = msg['size'];\n",
       "    if (size[0] != fig.canvas.width || size[1] != fig.canvas.height) {\n",
       "        fig._resize_canvas(size[0], size[1]);\n",
       "        fig.send_message(\"refresh\", {});\n",
       "    };\n",
       "}\n",
       "\n",
       "mpl.figure.prototype.handle_rubberband = function(fig, msg) {\n",
       "    var x0 = msg['x0'] / mpl.ratio;\n",
       "    var y0 = (fig.canvas.height - msg['y0']) / mpl.ratio;\n",
       "    var x1 = msg['x1'] / mpl.ratio;\n",
       "    var y1 = (fig.canvas.height - msg['y1']) / mpl.ratio;\n",
       "    x0 = Math.floor(x0) + 0.5;\n",
       "    y0 = Math.floor(y0) + 0.5;\n",
       "    x1 = Math.floor(x1) + 0.5;\n",
       "    y1 = Math.floor(y1) + 0.5;\n",
       "    var min_x = Math.min(x0, x1);\n",
       "    var min_y = Math.min(y0, y1);\n",
       "    var width = Math.abs(x1 - x0);\n",
       "    var height = Math.abs(y1 - y0);\n",
       "\n",
       "    fig.rubberband_context.clearRect(\n",
       "        0, 0, fig.canvas.width, fig.canvas.height);\n",
       "\n",
       "    fig.rubberband_context.strokeRect(min_x, min_y, width, height);\n",
       "}\n",
       "\n",
       "mpl.figure.prototype.handle_figure_label = function(fig, msg) {\n",
       "    // Updates the figure title.\n",
       "    fig.header.textContent = msg['label'];\n",
       "}\n",
       "\n",
       "mpl.figure.prototype.handle_cursor = function(fig, msg) {\n",
       "    var cursor = msg['cursor'];\n",
       "    switch(cursor)\n",
       "    {\n",
       "    case 0:\n",
       "        cursor = 'pointer';\n",
       "        break;\n",
       "    case 1:\n",
       "        cursor = 'default';\n",
       "        break;\n",
       "    case 2:\n",
       "        cursor = 'crosshair';\n",
       "        break;\n",
       "    case 3:\n",
       "        cursor = 'move';\n",
       "        break;\n",
       "    }\n",
       "    fig.rubberband_canvas.style.cursor = cursor;\n",
       "}\n",
       "\n",
       "mpl.figure.prototype.handle_message = function(fig, msg) {\n",
       "    fig.message.textContent = msg['message'];\n",
       "}\n",
       "\n",
       "mpl.figure.prototype.handle_draw = function(fig, msg) {\n",
       "    // Request the server to send over a new figure.\n",
       "    fig.send_draw_message();\n",
       "}\n",
       "\n",
       "mpl.figure.prototype.handle_image_mode = function(fig, msg) {\n",
       "    fig.image_mode = msg['mode'];\n",
       "}\n",
       "\n",
       "mpl.figure.prototype.updated_canvas_event = function() {\n",
       "    // Called whenever the canvas gets updated.\n",
       "    this.send_message(\"ack\", {});\n",
       "}\n",
       "\n",
       "// A function to construct a web socket function for onmessage handling.\n",
       "// Called in the figure constructor.\n",
       "mpl.figure.prototype._make_on_message_function = function(fig) {\n",
       "    return function socket_on_message(evt) {\n",
       "        if (evt.data instanceof Blob) {\n",
       "            /* FIXME: We get \"Resource interpreted as Image but\n",
       "             * transferred with MIME type text/plain:\" errors on\n",
       "             * Chrome.  But how to set the MIME type?  It doesn't seem\n",
       "             * to be part of the websocket stream */\n",
       "            evt.data.type = \"image/png\";\n",
       "\n",
       "            /* Free the memory for the previous frames */\n",
       "            if (fig.imageObj.src) {\n",
       "                (window.URL || window.webkitURL).revokeObjectURL(\n",
       "                    fig.imageObj.src);\n",
       "            }\n",
       "\n",
       "            fig.imageObj.src = (window.URL || window.webkitURL).createObjectURL(\n",
       "                evt.data);\n",
       "            fig.updated_canvas_event();\n",
       "            fig.waiting = false;\n",
       "            return;\n",
       "        }\n",
       "        else if (typeof evt.data === 'string' && evt.data.slice(0, 21) == \"data:image/png;base64\") {\n",
       "            fig.imageObj.src = evt.data;\n",
       "            fig.updated_canvas_event();\n",
       "            fig.waiting = false;\n",
       "            return;\n",
       "        }\n",
       "\n",
       "        var msg = JSON.parse(evt.data);\n",
       "        var msg_type = msg['type'];\n",
       "\n",
       "        // Call the  \"handle_{type}\" callback, which takes\n",
       "        // the figure and JSON message as its only arguments.\n",
       "        try {\n",
       "            var callback = fig[\"handle_\" + msg_type];\n",
       "        } catch (e) {\n",
       "            console.log(\"No handler for the '\" + msg_type + \"' message type: \", msg);\n",
       "            return;\n",
       "        }\n",
       "\n",
       "        if (callback) {\n",
       "            try {\n",
       "                // console.log(\"Handling '\" + msg_type + \"' message: \", msg);\n",
       "                callback(fig, msg);\n",
       "            } catch (e) {\n",
       "                console.log(\"Exception inside the 'handler_\" + msg_type + \"' callback:\", e, e.stack, msg);\n",
       "            }\n",
       "        }\n",
       "    };\n",
       "}\n",
       "\n",
       "// from http://stackoverflow.com/questions/1114465/getting-mouse-location-in-canvas\n",
       "mpl.findpos = function(e) {\n",
       "    //this section is from http://www.quirksmode.org/js/events_properties.html\n",
       "    var targ;\n",
       "    if (!e)\n",
       "        e = window.event;\n",
       "    if (e.target)\n",
       "        targ = e.target;\n",
       "    else if (e.srcElement)\n",
       "        targ = e.srcElement;\n",
       "    if (targ.nodeType == 3) // defeat Safari bug\n",
       "        targ = targ.parentNode;\n",
       "\n",
       "    // jQuery normalizes the pageX and pageY\n",
       "    // pageX,Y are the mouse positions relative to the document\n",
       "    // offset() returns the position of the element relative to the document\n",
       "    var x = e.pageX - $(targ).offset().left;\n",
       "    var y = e.pageY - $(targ).offset().top;\n",
       "\n",
       "    return {\"x\": x, \"y\": y};\n",
       "};\n",
       "\n",
       "/*\n",
       " * return a copy of an object with only non-object keys\n",
       " * we need this to avoid circular references\n",
       " * http://stackoverflow.com/a/24161582/3208463\n",
       " */\n",
       "function simpleKeys (original) {\n",
       "  return Object.keys(original).reduce(function (obj, key) {\n",
       "    if (typeof original[key] !== 'object')\n",
       "        obj[key] = original[key]\n",
       "    return obj;\n",
       "  }, {});\n",
       "}\n",
       "\n",
       "mpl.figure.prototype.mouse_event = function(event, name) {\n",
       "    var canvas_pos = mpl.findpos(event)\n",
       "\n",
       "    if (name === 'button_press')\n",
       "    {\n",
       "        this.canvas.focus();\n",
       "        this.canvas_div.focus();\n",
       "    }\n",
       "\n",
       "    var x = canvas_pos.x * mpl.ratio;\n",
       "    var y = canvas_pos.y * mpl.ratio;\n",
       "\n",
       "    this.send_message(name, {x: x, y: y, button: event.button,\n",
       "                             step: event.step,\n",
       "                             guiEvent: simpleKeys(event)});\n",
       "\n",
       "    /* This prevents the web browser from automatically changing to\n",
       "     * the text insertion cursor when the button is pressed.  We want\n",
       "     * to control all of the cursor setting manually through the\n",
       "     * 'cursor' event from matplotlib */\n",
       "    event.preventDefault();\n",
       "    return false;\n",
       "}\n",
       "\n",
       "mpl.figure.prototype._key_event_extra = function(event, name) {\n",
       "    // Handle any extra behaviour associated with a key event\n",
       "}\n",
       "\n",
       "mpl.figure.prototype.key_event = function(event, name) {\n",
       "\n",
       "    // Prevent repeat events\n",
       "    if (name == 'key_press')\n",
       "    {\n",
       "        if (event.which === this._key)\n",
       "            return;\n",
       "        else\n",
       "            this._key = event.which;\n",
       "    }\n",
       "    if (name == 'key_release')\n",
       "        this._key = null;\n",
       "\n",
       "    var value = '';\n",
       "    if (event.ctrlKey && event.which != 17)\n",
       "        value += \"ctrl+\";\n",
       "    if (event.altKey && event.which != 18)\n",
       "        value += \"alt+\";\n",
       "    if (event.shiftKey && event.which != 16)\n",
       "        value += \"shift+\";\n",
       "\n",
       "    value += 'k';\n",
       "    value += event.which.toString();\n",
       "\n",
       "    this._key_event_extra(event, name);\n",
       "\n",
       "    this.send_message(name, {key: value,\n",
       "                             guiEvent: simpleKeys(event)});\n",
       "    return false;\n",
       "}\n",
       "\n",
       "mpl.figure.prototype.toolbar_button_onclick = function(name) {\n",
       "    if (name == 'download') {\n",
       "        this.handle_save(this, null);\n",
       "    } else {\n",
       "        this.send_message(\"toolbar_button\", {name: name});\n",
       "    }\n",
       "};\n",
       "\n",
       "mpl.figure.prototype.toolbar_button_onmouseover = function(tooltip) {\n",
       "    this.message.textContent = tooltip;\n",
       "};\n",
       "mpl.toolbar_items = [[\"Home\", \"Reset original view\", \"fa fa-home icon-home\", \"home\"], [\"Back\", \"Back to previous view\", \"fa fa-arrow-left icon-arrow-left\", \"back\"], [\"Forward\", \"Forward to next view\", \"fa fa-arrow-right icon-arrow-right\", \"forward\"], [\"\", \"\", \"\", \"\"], [\"Pan\", \"Pan axes with left mouse, zoom with right\", \"fa fa-arrows icon-move\", \"pan\"], [\"Zoom\", \"Zoom to rectangle\", \"fa fa-square-o icon-check-empty\", \"zoom\"], [\"\", \"\", \"\", \"\"], [\"Download\", \"Download plot\", \"fa fa-floppy-o icon-save\", \"download\"]];\n",
       "\n",
       "mpl.extensions = [\"eps\", \"pdf\", \"png\", \"ps\", \"raw\", \"svg\"];\n",
       "\n",
       "mpl.default_extension = \"png\";var comm_websocket_adapter = function(comm) {\n",
       "    // Create a \"websocket\"-like object which calls the given IPython comm\n",
       "    // object with the appropriate methods. Currently this is a non binary\n",
       "    // socket, so there is still some room for performance tuning.\n",
       "    var ws = {};\n",
       "\n",
       "    ws.close = function() {\n",
       "        comm.close()\n",
       "    };\n",
       "    ws.send = function(m) {\n",
       "        //console.log('sending', m);\n",
       "        comm.send(m);\n",
       "    };\n",
       "    // Register the callback with on_msg.\n",
       "    comm.on_msg(function(msg) {\n",
       "        //console.log('receiving', msg['content']['data'], msg);\n",
       "        // Pass the mpl event to the overridden (by mpl) onmessage function.\n",
       "        ws.onmessage(msg['content']['data'])\n",
       "    });\n",
       "    return ws;\n",
       "}\n",
       "\n",
       "mpl.mpl_figure_comm = function(comm, msg) {\n",
       "    // This is the function which gets called when the mpl process\n",
       "    // starts-up an IPython Comm through the \"matplotlib\" channel.\n",
       "\n",
       "    var id = msg.content.data.id;\n",
       "    // Get hold of the div created by the display call when the Comm\n",
       "    // socket was opened in Python.\n",
       "    var element = $(\"#\" + id);\n",
       "    var ws_proxy = comm_websocket_adapter(comm)\n",
       "\n",
       "    function ondownload(figure, format) {\n",
       "        window.open(figure.imageObj.src);\n",
       "    }\n",
       "\n",
       "    var fig = new mpl.figure(id, ws_proxy,\n",
       "                           ondownload,\n",
       "                           element.get(0));\n",
       "\n",
       "    // Call onopen now - mpl needs it, as it is assuming we've passed it a real\n",
       "    // web socket which is closed, not our websocket->open comm proxy.\n",
       "    ws_proxy.onopen();\n",
       "\n",
       "    fig.parent_element = element.get(0);\n",
       "    fig.cell_info = mpl.find_output_cell(\"<div id='\" + id + \"'></div>\");\n",
       "    if (!fig.cell_info) {\n",
       "        console.error(\"Failed to find cell for figure\", id, fig);\n",
       "        return;\n",
       "    }\n",
       "\n",
       "    var output_index = fig.cell_info[2]\n",
       "    var cell = fig.cell_info[0];\n",
       "\n",
       "};\n",
       "\n",
       "mpl.figure.prototype.handle_close = function(fig, msg) {\n",
       "    var width = fig.canvas.width/mpl.ratio\n",
       "    fig.root.unbind('remove')\n",
       "\n",
       "    // Update the output cell to use the data from the current canvas.\n",
       "    fig.push_to_output();\n",
       "    var dataURL = fig.canvas.toDataURL();\n",
       "    // Re-enable the keyboard manager in IPython - without this line, in FF,\n",
       "    // the notebook keyboard shortcuts fail.\n",
       "    IPython.keyboard_manager.enable()\n",
       "    $(fig.parent_element).html('<img src=\"' + dataURL + '\" width=\"' + width + '\">');\n",
       "    fig.close_ws(fig, msg);\n",
       "}\n",
       "\n",
       "mpl.figure.prototype.close_ws = function(fig, msg){\n",
       "    fig.send_message('closing', msg);\n",
       "    // fig.ws.close()\n",
       "}\n",
       "\n",
       "mpl.figure.prototype.push_to_output = function(remove_interactive) {\n",
       "    // Turn the data on the canvas into data in the output cell.\n",
       "    var width = this.canvas.width/mpl.ratio\n",
       "    var dataURL = this.canvas.toDataURL();\n",
       "    this.cell_info[1]['text/html'] = '<img src=\"' + dataURL + '\" width=\"' + width + '\">';\n",
       "}\n",
       "\n",
       "mpl.figure.prototype.updated_canvas_event = function() {\n",
       "    // Tell IPython that the notebook contents must change.\n",
       "    IPython.notebook.set_dirty(true);\n",
       "    this.send_message(\"ack\", {});\n",
       "    var fig = this;\n",
       "    // Wait a second, then push the new image to the DOM so\n",
       "    // that it is saved nicely (might be nice to debounce this).\n",
       "    setTimeout(function () { fig.push_to_output() }, 1000);\n",
       "}\n",
       "\n",
       "mpl.figure.prototype._init_toolbar = function() {\n",
       "    var fig = this;\n",
       "\n",
       "    var nav_element = $('<div/>')\n",
       "    nav_element.attr('style', 'width: 100%');\n",
       "    this.root.append(nav_element);\n",
       "\n",
       "    // Define a callback function for later on.\n",
       "    function toolbar_event(event) {\n",
       "        return fig.toolbar_button_onclick(event['data']);\n",
       "    }\n",
       "    function toolbar_mouse_event(event) {\n",
       "        return fig.toolbar_button_onmouseover(event['data']);\n",
       "    }\n",
       "\n",
       "    for(var toolbar_ind in mpl.toolbar_items){\n",
       "        var name = mpl.toolbar_items[toolbar_ind][0];\n",
       "        var tooltip = mpl.toolbar_items[toolbar_ind][1];\n",
       "        var image = mpl.toolbar_items[toolbar_ind][2];\n",
       "        var method_name = mpl.toolbar_items[toolbar_ind][3];\n",
       "\n",
       "        if (!name) { continue; };\n",
       "\n",
       "        var button = $('<button class=\"btn btn-default\" href=\"#\" title=\"' + name + '\"><i class=\"fa ' + image + ' fa-lg\"></i></button>');\n",
       "        button.click(method_name, toolbar_event);\n",
       "        button.mouseover(tooltip, toolbar_mouse_event);\n",
       "        nav_element.append(button);\n",
       "    }\n",
       "\n",
       "    // Add the status bar.\n",
       "    var status_bar = $('<span class=\"mpl-message\" style=\"text-align:right; float: right;\"/>');\n",
       "    nav_element.append(status_bar);\n",
       "    this.message = status_bar[0];\n",
       "\n",
       "    // Add the close button to the window.\n",
       "    var buttongrp = $('<div class=\"btn-group inline pull-right\"></div>');\n",
       "    var button = $('<button class=\"btn btn-mini btn-primary\" href=\"#\" title=\"Stop Interaction\"><i class=\"fa fa-power-off icon-remove icon-large\"></i></button>');\n",
       "    button.click(function (evt) { fig.handle_close(fig, {}); } );\n",
       "    button.mouseover('Stop Interaction', toolbar_mouse_event);\n",
       "    buttongrp.append(button);\n",
       "    var titlebar = this.root.find($('.ui-dialog-titlebar'));\n",
       "    titlebar.prepend(buttongrp);\n",
       "}\n",
       "\n",
       "mpl.figure.prototype._root_extra_style = function(el){\n",
       "    var fig = this\n",
       "    el.on(\"remove\", function(){\n",
       "\tfig.close_ws(fig, {});\n",
       "    });\n",
       "}\n",
       "\n",
       "mpl.figure.prototype._canvas_extra_style = function(el){\n",
       "    // this is important to make the div 'focusable\n",
       "    el.attr('tabindex', 0)\n",
       "    // reach out to IPython and tell the keyboard manager to turn it's self\n",
       "    // off when our div gets focus\n",
       "\n",
       "    // location in version 3\n",
       "    if (IPython.notebook.keyboard_manager) {\n",
       "        IPython.notebook.keyboard_manager.register_events(el);\n",
       "    }\n",
       "    else {\n",
       "        // location in version 2\n",
       "        IPython.keyboard_manager.register_events(el);\n",
       "    }\n",
       "\n",
       "}\n",
       "\n",
       "mpl.figure.prototype._key_event_extra = function(event, name) {\n",
       "    var manager = IPython.notebook.keyboard_manager;\n",
       "    if (!manager)\n",
       "        manager = IPython.keyboard_manager;\n",
       "\n",
       "    // Check for shift+enter\n",
       "    if (event.shiftKey && event.which == 13) {\n",
       "        this.canvas_div.blur();\n",
       "        event.shiftKey = false;\n",
       "        // Send a \"J\" for go to next cell\n",
       "        event.which = 74;\n",
       "        event.keyCode = 74;\n",
       "        manager.command_mode();\n",
       "        manager.handle_keydown(event);\n",
       "    }\n",
       "}\n",
       "\n",
       "mpl.figure.prototype.handle_save = function(fig, msg) {\n",
       "    fig.ondownload(fig, null);\n",
       "}\n",
       "\n",
       "\n",
       "mpl.find_output_cell = function(html_output) {\n",
       "    // Return the cell and output element which can be found *uniquely* in the notebook.\n",
       "    // Note - this is a bit hacky, but it is done because the \"notebook_saving.Notebook\"\n",
       "    // IPython event is triggered only after the cells have been serialised, which for\n",
       "    // our purposes (turning an active figure into a static one), is too late.\n",
       "    var cells = IPython.notebook.get_cells();\n",
       "    var ncells = cells.length;\n",
       "    for (var i=0; i<ncells; i++) {\n",
       "        var cell = cells[i];\n",
       "        if (cell.cell_type === 'code'){\n",
       "            for (var j=0; j<cell.output_area.outputs.length; j++) {\n",
       "                var data = cell.output_area.outputs[j];\n",
       "                if (data.data) {\n",
       "                    // IPython >= 3 moved mimebundle to data attribute of output\n",
       "                    data = data.data;\n",
       "                }\n",
       "                if (data['text/html'] == html_output) {\n",
       "                    return [cell, data, j];\n",
       "                }\n",
       "            }\n",
       "        }\n",
       "    }\n",
       "}\n",
       "\n",
       "// Register the function which deals with the matplotlib target/channel.\n",
       "// The kernel may be null if the page has been refreshed.\n",
       "if (IPython.notebook.kernel != null) {\n",
       "    IPython.notebook.kernel.comm_manager.register_target('matplotlib', mpl.mpl_figure_comm);\n",
       "}\n"
      ],
      "text/plain": [
       "<IPython.core.display.Javascript object>"
      ]
     },
     "metadata": {},
     "output_type": "display_data"
    },
    {
     "data": {
      "text/html": [
       "<img src=\"data:image/png;base64,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\" width=\"640\">"
      ],
      "text/plain": [
       "<IPython.core.display.HTML object>"
      ]
     },
     "metadata": {},
     "output_type": "display_data"
    },
    {
     "data": {
      "text/plain": [
       "<matplotlib.legend.Legend at 0x7fb7f4f0f898>"
      ]
     },
     "execution_count": 100,
     "metadata": {},
     "output_type": "execute_result"
    }
   ],
   "source": [
    "_, ax = plt.subplots(1,1)\n",
    "ax.plot(thresholds, precisions[:-1], label=\"Precision\")\n",
    "ax.plot(thresholds, recalls[:-1], label=\"Recall\")\n",
    "ax.set_xlabel(\"Threshold\")\n",
    "ax.set_title(\"Random Forest\", fontsize=25)\n",
    "ax.legend()"
   ]
  },
  {
   "cell_type": "code",
   "execution_count": 104,
   "metadata": {},
   "outputs": [
    {
     "data": {
      "text/plain": [
       "381181"
      ]
     },
     "execution_count": 104,
     "metadata": {},
     "output_type": "execute_result"
    }
   ],
   "source": [
    "_required_threshold = np.max(thresholds[recalls[:-1] > 0.99])\n",
    "number_images_to_check = np.sum(predicted_probas[:, 1] >= _required_threshold)\n",
    "number_images_to_check"
   ]
  },
  {
   "cell_type": "code",
   "execution_count": 103,
   "metadata": {},
   "outputs": [
    {
     "data": {
      "text/plain": [
       "0.5300290612789744"
      ]
     },
     "execution_count": 103,
     "metadata": {},
     "output_type": "execute_result"
    }
   ],
   "source": [
    "# cut total human effort in half!\n",
    "total_training_images, _ = Z.shape \n",
    "number_images_to_check / total_training_images"
   ]
  },
  {
   "cell_type": "markdown",
   "metadata": {},
   "source": [
    "## Evaluate model performance on the testing data set"
   ]
  },
  {
   "cell_type": "code",
   "execution_count": 106,
   "metadata": {},
   "outputs": [],
   "source": [
    "Z = column_transformer.transform(testing_features.drop(\"OBJECT_TYPE\", axis=1))\n",
    "y = (testing_features.get(\"OBJECT_TYPE\")\n",
    "                     .values)"
   ]
  },
  {
   "cell_type": "code",
   "execution_count": 107,
   "metadata": {},
   "outputs": [],
   "source": [
    "final_data_path = \"../data/final\"\n",
    "if not os.path.isdir(final_data_path):\n",
    "    os.makedirs(final_data_path)\n",
    "_ = joblib.dump(Z, f\"{final_data_path}/transformed-testing-features.pkl\")\n",
    "_ = joblib.dump(y, f\"{final_data_path}/testing-target.pkl\")"
   ]
  },
  {
   "cell_type": "code",
   "execution_count": 108,
   "metadata": {},
   "outputs": [],
   "source": [
    "random_forest_auc_scores = model_selection.cross_val_score(random_forest_grid_search.best_estimator_,\n",
    "                                                           Z,\n",
    "                                                           y,\n",
    "                                                           cv=NUMBER_CV_FOLDS,\n",
    "                                                           scoring=SCORING,\n",
    "                                                           n_jobs=NUMBER_CV_JOBS)"
   ]
  },
  {
   "cell_type": "code",
   "execution_count": 109,
   "metadata": {},
   "outputs": [
    {
     "data": {
      "text/plain": [
       "0.9915174547964218"
      ]
     },
     "execution_count": 109,
     "metadata": {},
     "output_type": "execute_result"
    }
   ],
   "source": [
    "# this is the number that we would compare between models to choose the best!\n",
    "random_forest_auc_scores.mean()"
   ]
  },
  {
   "cell_type": "code",
   "execution_count": 121,
   "metadata": {},
   "outputs": [],
   "source": [
    "predicted_object_type = model_selection.cross_val_predict(random_forest_grid_search.best_estimator_,\n",
    "                                                          Z,\n",
    "                                                          y,\n",
    "                                                          cv=NUMBER_CV_FOLDS,\n",
    "                                                          n_jobs=NUMBER_CV_JOBS)"
   ]
  },
  {
   "cell_type": "code",
   "execution_count": 122,
   "metadata": {},
   "outputs": [
    {
     "data": {
      "text/plain": [
       "array([[86522,  2582],\n",
       "       [ 4297, 86392]])"
      ]
     },
     "execution_count": 122,
     "metadata": {},
     "output_type": "execute_result"
    }
   ],
   "source": [
    "# row is actual object type; column is predicted object type\n",
    "metrics.confusion_matrix(predicted_object_type, y)"
   ]
  },
  {
   "cell_type": "code",
   "execution_count": 111,
   "metadata": {},
   "outputs": [],
   "source": [
    "predicted_probas = model_selection.cross_val_predict(random_forest_grid_search.best_estimator_,\n",
    "                                                     Z,\n",
    "                                                     y,\n",
    "                                                     cv=NUMBER_CV_FOLDS,\n",
    "                                                     method=\"predict_proba\",\n",
    "                                                     n_jobs=NUMBER_CV_JOBS)\n",
    "\n",
    "precisions, recalls, thresholds = metrics.precision_recall_curve(y, predicted_probas[:, 1])"
   ]
  },
  {
   "cell_type": "code",
   "execution_count": 112,
   "metadata": {},
   "outputs": [
    {
     "data": {
      "application/javascript": [
       "/* Put everything inside the global mpl namespace */\n",
       "window.mpl = {};\n",
       "\n",
       "\n",
       "mpl.get_websocket_type = function() {\n",
       "    if (typeof(WebSocket) !== 'undefined') {\n",
       "        return WebSocket;\n",
       "    } else if (typeof(MozWebSocket) !== 'undefined') {\n",
       "        return MozWebSocket;\n",
       "    } else {\n",
       "        alert('Your browser does not have WebSocket support.' +\n",
       "              'Please try Chrome, Safari or Firefox ≥ 6. ' +\n",
       "              'Firefox 4 and 5 are also supported but you ' +\n",
       "              'have to enable WebSockets in about:config.');\n",
       "    };\n",
       "}\n",
       "\n",
       "mpl.figure = function(figure_id, websocket, ondownload, parent_element) {\n",
       "    this.id = figure_id;\n",
       "\n",
       "    this.ws = websocket;\n",
       "\n",
       "    this.supports_binary = (this.ws.binaryType != undefined);\n",
       "\n",
       "    if (!this.supports_binary) {\n",
       "        var warnings = document.getElementById(\"mpl-warnings\");\n",
       "        if (warnings) {\n",
       "            warnings.style.display = 'block';\n",
       "            warnings.textContent = (\n",
       "                \"This browser does not support binary websocket messages. \" +\n",
       "                    \"Performance may be slow.\");\n",
       "        }\n",
       "    }\n",
       "\n",
       "    this.imageObj = new Image();\n",
       "\n",
       "    this.context = undefined;\n",
       "    this.message = undefined;\n",
       "    this.canvas = undefined;\n",
       "    this.rubberband_canvas = undefined;\n",
       "    this.rubberband_context = undefined;\n",
       "    this.format_dropdown = undefined;\n",
       "\n",
       "    this.image_mode = 'full';\n",
       "\n",
       "    this.root = $('<div/>');\n",
       "    this._root_extra_style(this.root)\n",
       "    this.root.attr('style', 'display: inline-block');\n",
       "\n",
       "    $(parent_element).append(this.root);\n",
       "\n",
       "    this._init_header(this);\n",
       "    this._init_canvas(this);\n",
       "    this._init_toolbar(this);\n",
       "\n",
       "    var fig = this;\n",
       "\n",
       "    this.waiting = false;\n",
       "\n",
       "    this.ws.onopen =  function () {\n",
       "            fig.send_message(\"supports_binary\", {value: fig.supports_binary});\n",
       "            fig.send_message(\"send_image_mode\", {});\n",
       "            if (mpl.ratio != 1) {\n",
       "                fig.send_message(\"set_dpi_ratio\", {'dpi_ratio': mpl.ratio});\n",
       "            }\n",
       "            fig.send_message(\"refresh\", {});\n",
       "        }\n",
       "\n",
       "    this.imageObj.onload = function() {\n",
       "            if (fig.image_mode == 'full') {\n",
       "                // Full images could contain transparency (where diff images\n",
       "                // almost always do), so we need to clear the canvas so that\n",
       "                // there is no ghosting.\n",
       "                fig.context.clearRect(0, 0, fig.canvas.width, fig.canvas.height);\n",
       "            }\n",
       "            fig.context.drawImage(fig.imageObj, 0, 0);\n",
       "        };\n",
       "\n",
       "    this.imageObj.onunload = function() {\n",
       "        fig.ws.close();\n",
       "    }\n",
       "\n",
       "    this.ws.onmessage = this._make_on_message_function(this);\n",
       "\n",
       "    this.ondownload = ondownload;\n",
       "}\n",
       "\n",
       "mpl.figure.prototype._init_header = function() {\n",
       "    var titlebar = $(\n",
       "        '<div class=\"ui-dialog-titlebar ui-widget-header ui-corner-all ' +\n",
       "        'ui-helper-clearfix\"/>');\n",
       "    var titletext = $(\n",
       "        '<div class=\"ui-dialog-title\" style=\"width: 100%; ' +\n",
       "        'text-align: center; padding: 3px;\"/>');\n",
       "    titlebar.append(titletext)\n",
       "    this.root.append(titlebar);\n",
       "    this.header = titletext[0];\n",
       "}\n",
       "\n",
       "\n",
       "\n",
       "mpl.figure.prototype._canvas_extra_style = function(canvas_div) {\n",
       "\n",
       "}\n",
       "\n",
       "\n",
       "mpl.figure.prototype._root_extra_style = function(canvas_div) {\n",
       "\n",
       "}\n",
       "\n",
       "mpl.figure.prototype._init_canvas = function() {\n",
       "    var fig = this;\n",
       "\n",
       "    var canvas_div = $('<div/>');\n",
       "\n",
       "    canvas_div.attr('style', 'position: relative; clear: both; outline: 0');\n",
       "\n",
       "    function canvas_keyboard_event(event) {\n",
       "        return fig.key_event(event, event['data']);\n",
       "    }\n",
       "\n",
       "    canvas_div.keydown('key_press', canvas_keyboard_event);\n",
       "    canvas_div.keyup('key_release', canvas_keyboard_event);\n",
       "    this.canvas_div = canvas_div\n",
       "    this._canvas_extra_style(canvas_div)\n",
       "    this.root.append(canvas_div);\n",
       "\n",
       "    var canvas = $('<canvas/>');\n",
       "    canvas.addClass('mpl-canvas');\n",
       "    canvas.attr('style', \"left: 0; top: 0; z-index: 0; outline: 0\")\n",
       "\n",
       "    this.canvas = canvas[0];\n",
       "    this.context = canvas[0].getContext(\"2d\");\n",
       "\n",
       "    var backingStore = this.context.backingStorePixelRatio ||\n",
       "\tthis.context.webkitBackingStorePixelRatio ||\n",
       "\tthis.context.mozBackingStorePixelRatio ||\n",
       "\tthis.context.msBackingStorePixelRatio ||\n",
       "\tthis.context.oBackingStorePixelRatio ||\n",
       "\tthis.context.backingStorePixelRatio || 1;\n",
       "\n",
       "    mpl.ratio = (window.devicePixelRatio || 1) / backingStore;\n",
       "\n",
       "    var rubberband = $('<canvas/>');\n",
       "    rubberband.attr('style', \"position: absolute; left: 0; top: 0; z-index: 1;\")\n",
       "\n",
       "    var pass_mouse_events = true;\n",
       "\n",
       "    canvas_div.resizable({\n",
       "        start: function(event, ui) {\n",
       "            pass_mouse_events = false;\n",
       "        },\n",
       "        resize: function(event, ui) {\n",
       "            fig.request_resize(ui.size.width, ui.size.height);\n",
       "        },\n",
       "        stop: function(event, ui) {\n",
       "            pass_mouse_events = true;\n",
       "            fig.request_resize(ui.size.width, ui.size.height);\n",
       "        },\n",
       "    });\n",
       "\n",
       "    function mouse_event_fn(event) {\n",
       "        if (pass_mouse_events)\n",
       "            return fig.mouse_event(event, event['data']);\n",
       "    }\n",
       "\n",
       "    rubberband.mousedown('button_press', mouse_event_fn);\n",
       "    rubberband.mouseup('button_release', mouse_event_fn);\n",
       "    // Throttle sequential mouse events to 1 every 20ms.\n",
       "    rubberband.mousemove('motion_notify', mouse_event_fn);\n",
       "\n",
       "    rubberband.mouseenter('figure_enter', mouse_event_fn);\n",
       "    rubberband.mouseleave('figure_leave', mouse_event_fn);\n",
       "\n",
       "    canvas_div.on(\"wheel\", function (event) {\n",
       "        event = event.originalEvent;\n",
       "        event['data'] = 'scroll'\n",
       "        if (event.deltaY < 0) {\n",
       "            event.step = 1;\n",
       "        } else {\n",
       "            event.step = -1;\n",
       "        }\n",
       "        mouse_event_fn(event);\n",
       "    });\n",
       "\n",
       "    canvas_div.append(canvas);\n",
       "    canvas_div.append(rubberband);\n",
       "\n",
       "    this.rubberband = rubberband;\n",
       "    this.rubberband_canvas = rubberband[0];\n",
       "    this.rubberband_context = rubberband[0].getContext(\"2d\");\n",
       "    this.rubberband_context.strokeStyle = \"#000000\";\n",
       "\n",
       "    this._resize_canvas = function(width, height) {\n",
       "        // Keep the size of the canvas, canvas container, and rubber band\n",
       "        // canvas in synch.\n",
       "        canvas_div.css('width', width)\n",
       "        canvas_div.css('height', height)\n",
       "\n",
       "        canvas.attr('width', width * mpl.ratio);\n",
       "        canvas.attr('height', height * mpl.ratio);\n",
       "        canvas.attr('style', 'width: ' + width + 'px; height: ' + height + 'px;');\n",
       "\n",
       "        rubberband.attr('width', width);\n",
       "        rubberband.attr('height', height);\n",
       "    }\n",
       "\n",
       "    // Set the figure to an initial 600x600px, this will subsequently be updated\n",
       "    // upon first draw.\n",
       "    this._resize_canvas(600, 600);\n",
       "\n",
       "    // Disable right mouse context menu.\n",
       "    $(this.rubberband_canvas).bind(\"contextmenu\",function(e){\n",
       "        return false;\n",
       "    });\n",
       "\n",
       "    function set_focus () {\n",
       "        canvas.focus();\n",
       "        canvas_div.focus();\n",
       "    }\n",
       "\n",
       "    window.setTimeout(set_focus, 100);\n",
       "}\n",
       "\n",
       "mpl.figure.prototype._init_toolbar = function() {\n",
       "    var fig = this;\n",
       "\n",
       "    var nav_element = $('<div/>')\n",
       "    nav_element.attr('style', 'width: 100%');\n",
       "    this.root.append(nav_element);\n",
       "\n",
       "    // Define a callback function for later on.\n",
       "    function toolbar_event(event) {\n",
       "        return fig.toolbar_button_onclick(event['data']);\n",
       "    }\n",
       "    function toolbar_mouse_event(event) {\n",
       "        return fig.toolbar_button_onmouseover(event['data']);\n",
       "    }\n",
       "\n",
       "    for(var toolbar_ind in mpl.toolbar_items) {\n",
       "        var name = mpl.toolbar_items[toolbar_ind][0];\n",
       "        var tooltip = mpl.toolbar_items[toolbar_ind][1];\n",
       "        var image = mpl.toolbar_items[toolbar_ind][2];\n",
       "        var method_name = mpl.toolbar_items[toolbar_ind][3];\n",
       "\n",
       "        if (!name) {\n",
       "            // put a spacer in here.\n",
       "            continue;\n",
       "        }\n",
       "        var button = $('<button/>');\n",
       "        button.addClass('ui-button ui-widget ui-state-default ui-corner-all ' +\n",
       "                        'ui-button-icon-only');\n",
       "        button.attr('role', 'button');\n",
       "        button.attr('aria-disabled', 'false');\n",
       "        button.click(method_name, toolbar_event);\n",
       "        button.mouseover(tooltip, toolbar_mouse_event);\n",
       "\n",
       "        var icon_img = $('<span/>');\n",
       "        icon_img.addClass('ui-button-icon-primary ui-icon');\n",
       "        icon_img.addClass(image);\n",
       "        icon_img.addClass('ui-corner-all');\n",
       "\n",
       "        var tooltip_span = $('<span/>');\n",
       "        tooltip_span.addClass('ui-button-text');\n",
       "        tooltip_span.html(tooltip);\n",
       "\n",
       "        button.append(icon_img);\n",
       "        button.append(tooltip_span);\n",
       "\n",
       "        nav_element.append(button);\n",
       "    }\n",
       "\n",
       "    var fmt_picker_span = $('<span/>');\n",
       "\n",
       "    var fmt_picker = $('<select/>');\n",
       "    fmt_picker.addClass('mpl-toolbar-option ui-widget ui-widget-content');\n",
       "    fmt_picker_span.append(fmt_picker);\n",
       "    nav_element.append(fmt_picker_span);\n",
       "    this.format_dropdown = fmt_picker[0];\n",
       "\n",
       "    for (var ind in mpl.extensions) {\n",
       "        var fmt = mpl.extensions[ind];\n",
       "        var option = $(\n",
       "            '<option/>', {selected: fmt === mpl.default_extension}).html(fmt);\n",
       "        fmt_picker.append(option)\n",
       "    }\n",
       "\n",
       "    // Add hover states to the ui-buttons\n",
       "    $( \".ui-button\" ).hover(\n",
       "        function() { $(this).addClass(\"ui-state-hover\");},\n",
       "        function() { $(this).removeClass(\"ui-state-hover\");}\n",
       "    );\n",
       "\n",
       "    var status_bar = $('<span class=\"mpl-message\"/>');\n",
       "    nav_element.append(status_bar);\n",
       "    this.message = status_bar[0];\n",
       "}\n",
       "\n",
       "mpl.figure.prototype.request_resize = function(x_pixels, y_pixels) {\n",
       "    // Request matplotlib to resize the figure. Matplotlib will then trigger a resize in the client,\n",
       "    // which will in turn request a refresh of the image.\n",
       "    this.send_message('resize', {'width': x_pixels, 'height': y_pixels});\n",
       "}\n",
       "\n",
       "mpl.figure.prototype.send_message = function(type, properties) {\n",
       "    properties['type'] = type;\n",
       "    properties['figure_id'] = this.id;\n",
       "    this.ws.send(JSON.stringify(properties));\n",
       "}\n",
       "\n",
       "mpl.figure.prototype.send_draw_message = function() {\n",
       "    if (!this.waiting) {\n",
       "        this.waiting = true;\n",
       "        this.ws.send(JSON.stringify({type: \"draw\", figure_id: this.id}));\n",
       "    }\n",
       "}\n",
       "\n",
       "\n",
       "mpl.figure.prototype.handle_save = function(fig, msg) {\n",
       "    var format_dropdown = fig.format_dropdown;\n",
       "    var format = format_dropdown.options[format_dropdown.selectedIndex].value;\n",
       "    fig.ondownload(fig, format);\n",
       "}\n",
       "\n",
       "\n",
       "mpl.figure.prototype.handle_resize = function(fig, msg) {\n",
       "    var size = msg['size'];\n",
       "    if (size[0] != fig.canvas.width || size[1] != fig.canvas.height) {\n",
       "        fig._resize_canvas(size[0], size[1]);\n",
       "        fig.send_message(\"refresh\", {});\n",
       "    };\n",
       "}\n",
       "\n",
       "mpl.figure.prototype.handle_rubberband = function(fig, msg) {\n",
       "    var x0 = msg['x0'] / mpl.ratio;\n",
       "    var y0 = (fig.canvas.height - msg['y0']) / mpl.ratio;\n",
       "    var x1 = msg['x1'] / mpl.ratio;\n",
       "    var y1 = (fig.canvas.height - msg['y1']) / mpl.ratio;\n",
       "    x0 = Math.floor(x0) + 0.5;\n",
       "    y0 = Math.floor(y0) + 0.5;\n",
       "    x1 = Math.floor(x1) + 0.5;\n",
       "    y1 = Math.floor(y1) + 0.5;\n",
       "    var min_x = Math.min(x0, x1);\n",
       "    var min_y = Math.min(y0, y1);\n",
       "    var width = Math.abs(x1 - x0);\n",
       "    var height = Math.abs(y1 - y0);\n",
       "\n",
       "    fig.rubberband_context.clearRect(\n",
       "        0, 0, fig.canvas.width, fig.canvas.height);\n",
       "\n",
       "    fig.rubberband_context.strokeRect(min_x, min_y, width, height);\n",
       "}\n",
       "\n",
       "mpl.figure.prototype.handle_figure_label = function(fig, msg) {\n",
       "    // Updates the figure title.\n",
       "    fig.header.textContent = msg['label'];\n",
       "}\n",
       "\n",
       "mpl.figure.prototype.handle_cursor = function(fig, msg) {\n",
       "    var cursor = msg['cursor'];\n",
       "    switch(cursor)\n",
       "    {\n",
       "    case 0:\n",
       "        cursor = 'pointer';\n",
       "        break;\n",
       "    case 1:\n",
       "        cursor = 'default';\n",
       "        break;\n",
       "    case 2:\n",
       "        cursor = 'crosshair';\n",
       "        break;\n",
       "    case 3:\n",
       "        cursor = 'move';\n",
       "        break;\n",
       "    }\n",
       "    fig.rubberband_canvas.style.cursor = cursor;\n",
       "}\n",
       "\n",
       "mpl.figure.prototype.handle_message = function(fig, msg) {\n",
       "    fig.message.textContent = msg['message'];\n",
       "}\n",
       "\n",
       "mpl.figure.prototype.handle_draw = function(fig, msg) {\n",
       "    // Request the server to send over a new figure.\n",
       "    fig.send_draw_message();\n",
       "}\n",
       "\n",
       "mpl.figure.prototype.handle_image_mode = function(fig, msg) {\n",
       "    fig.image_mode = msg['mode'];\n",
       "}\n",
       "\n",
       "mpl.figure.prototype.updated_canvas_event = function() {\n",
       "    // Called whenever the canvas gets updated.\n",
       "    this.send_message(\"ack\", {});\n",
       "}\n",
       "\n",
       "// A function to construct a web socket function for onmessage handling.\n",
       "// Called in the figure constructor.\n",
       "mpl.figure.prototype._make_on_message_function = function(fig) {\n",
       "    return function socket_on_message(evt) {\n",
       "        if (evt.data instanceof Blob) {\n",
       "            /* FIXME: We get \"Resource interpreted as Image but\n",
       "             * transferred with MIME type text/plain:\" errors on\n",
       "             * Chrome.  But how to set the MIME type?  It doesn't seem\n",
       "             * to be part of the websocket stream */\n",
       "            evt.data.type = \"image/png\";\n",
       "\n",
       "            /* Free the memory for the previous frames */\n",
       "            if (fig.imageObj.src) {\n",
       "                (window.URL || window.webkitURL).revokeObjectURL(\n",
       "                    fig.imageObj.src);\n",
       "            }\n",
       "\n",
       "            fig.imageObj.src = (window.URL || window.webkitURL).createObjectURL(\n",
       "                evt.data);\n",
       "            fig.updated_canvas_event();\n",
       "            fig.waiting = false;\n",
       "            return;\n",
       "        }\n",
       "        else if (typeof evt.data === 'string' && evt.data.slice(0, 21) == \"data:image/png;base64\") {\n",
       "            fig.imageObj.src = evt.data;\n",
       "            fig.updated_canvas_event();\n",
       "            fig.waiting = false;\n",
       "            return;\n",
       "        }\n",
       "\n",
       "        var msg = JSON.parse(evt.data);\n",
       "        var msg_type = msg['type'];\n",
       "\n",
       "        // Call the  \"handle_{type}\" callback, which takes\n",
       "        // the figure and JSON message as its only arguments.\n",
       "        try {\n",
       "            var callback = fig[\"handle_\" + msg_type];\n",
       "        } catch (e) {\n",
       "            console.log(\"No handler for the '\" + msg_type + \"' message type: \", msg);\n",
       "            return;\n",
       "        }\n",
       "\n",
       "        if (callback) {\n",
       "            try {\n",
       "                // console.log(\"Handling '\" + msg_type + \"' message: \", msg);\n",
       "                callback(fig, msg);\n",
       "            } catch (e) {\n",
       "                console.log(\"Exception inside the 'handler_\" + msg_type + \"' callback:\", e, e.stack, msg);\n",
       "            }\n",
       "        }\n",
       "    };\n",
       "}\n",
       "\n",
       "// from http://stackoverflow.com/questions/1114465/getting-mouse-location-in-canvas\n",
       "mpl.findpos = function(e) {\n",
       "    //this section is from http://www.quirksmode.org/js/events_properties.html\n",
       "    var targ;\n",
       "    if (!e)\n",
       "        e = window.event;\n",
       "    if (e.target)\n",
       "        targ = e.target;\n",
       "    else if (e.srcElement)\n",
       "        targ = e.srcElement;\n",
       "    if (targ.nodeType == 3) // defeat Safari bug\n",
       "        targ = targ.parentNode;\n",
       "\n",
       "    // jQuery normalizes the pageX and pageY\n",
       "    // pageX,Y are the mouse positions relative to the document\n",
       "    // offset() returns the position of the element relative to the document\n",
       "    var x = e.pageX - $(targ).offset().left;\n",
       "    var y = e.pageY - $(targ).offset().top;\n",
       "\n",
       "    return {\"x\": x, \"y\": y};\n",
       "};\n",
       "\n",
       "/*\n",
       " * return a copy of an object with only non-object keys\n",
       " * we need this to avoid circular references\n",
       " * http://stackoverflow.com/a/24161582/3208463\n",
       " */\n",
       "function simpleKeys (original) {\n",
       "  return Object.keys(original).reduce(function (obj, key) {\n",
       "    if (typeof original[key] !== 'object')\n",
       "        obj[key] = original[key]\n",
       "    return obj;\n",
       "  }, {});\n",
       "}\n",
       "\n",
       "mpl.figure.prototype.mouse_event = function(event, name) {\n",
       "    var canvas_pos = mpl.findpos(event)\n",
       "\n",
       "    if (name === 'button_press')\n",
       "    {\n",
       "        this.canvas.focus();\n",
       "        this.canvas_div.focus();\n",
       "    }\n",
       "\n",
       "    var x = canvas_pos.x * mpl.ratio;\n",
       "    var y = canvas_pos.y * mpl.ratio;\n",
       "\n",
       "    this.send_message(name, {x: x, y: y, button: event.button,\n",
       "                             step: event.step,\n",
       "                             guiEvent: simpleKeys(event)});\n",
       "\n",
       "    /* This prevents the web browser from automatically changing to\n",
       "     * the text insertion cursor when the button is pressed.  We want\n",
       "     * to control all of the cursor setting manually through the\n",
       "     * 'cursor' event from matplotlib */\n",
       "    event.preventDefault();\n",
       "    return false;\n",
       "}\n",
       "\n",
       "mpl.figure.prototype._key_event_extra = function(event, name) {\n",
       "    // Handle any extra behaviour associated with a key event\n",
       "}\n",
       "\n",
       "mpl.figure.prototype.key_event = function(event, name) {\n",
       "\n",
       "    // Prevent repeat events\n",
       "    if (name == 'key_press')\n",
       "    {\n",
       "        if (event.which === this._key)\n",
       "            return;\n",
       "        else\n",
       "            this._key = event.which;\n",
       "    }\n",
       "    if (name == 'key_release')\n",
       "        this._key = null;\n",
       "\n",
       "    var value = '';\n",
       "    if (event.ctrlKey && event.which != 17)\n",
       "        value += \"ctrl+\";\n",
       "    if (event.altKey && event.which != 18)\n",
       "        value += \"alt+\";\n",
       "    if (event.shiftKey && event.which != 16)\n",
       "        value += \"shift+\";\n",
       "\n",
       "    value += 'k';\n",
       "    value += event.which.toString();\n",
       "\n",
       "    this._key_event_extra(event, name);\n",
       "\n",
       "    this.send_message(name, {key: value,\n",
       "                             guiEvent: simpleKeys(event)});\n",
       "    return false;\n",
       "}\n",
       "\n",
       "mpl.figure.prototype.toolbar_button_onclick = function(name) {\n",
       "    if (name == 'download') {\n",
       "        this.handle_save(this, null);\n",
       "    } else {\n",
       "        this.send_message(\"toolbar_button\", {name: name});\n",
       "    }\n",
       "};\n",
       "\n",
       "mpl.figure.prototype.toolbar_button_onmouseover = function(tooltip) {\n",
       "    this.message.textContent = tooltip;\n",
       "};\n",
       "mpl.toolbar_items = [[\"Home\", \"Reset original view\", \"fa fa-home icon-home\", \"home\"], [\"Back\", \"Back to previous view\", \"fa fa-arrow-left icon-arrow-left\", \"back\"], [\"Forward\", \"Forward to next view\", \"fa fa-arrow-right icon-arrow-right\", \"forward\"], [\"\", \"\", \"\", \"\"], [\"Pan\", \"Pan axes with left mouse, zoom with right\", \"fa fa-arrows icon-move\", \"pan\"], [\"Zoom\", \"Zoom to rectangle\", \"fa fa-square-o icon-check-empty\", \"zoom\"], [\"\", \"\", \"\", \"\"], [\"Download\", \"Download plot\", \"fa fa-floppy-o icon-save\", \"download\"]];\n",
       "\n",
       "mpl.extensions = [\"eps\", \"pdf\", \"png\", \"ps\", \"raw\", \"svg\"];\n",
       "\n",
       "mpl.default_extension = \"png\";var comm_websocket_adapter = function(comm) {\n",
       "    // Create a \"websocket\"-like object which calls the given IPython comm\n",
       "    // object with the appropriate methods. Currently this is a non binary\n",
       "    // socket, so there is still some room for performance tuning.\n",
       "    var ws = {};\n",
       "\n",
       "    ws.close = function() {\n",
       "        comm.close()\n",
       "    };\n",
       "    ws.send = function(m) {\n",
       "        //console.log('sending', m);\n",
       "        comm.send(m);\n",
       "    };\n",
       "    // Register the callback with on_msg.\n",
       "    comm.on_msg(function(msg) {\n",
       "        //console.log('receiving', msg['content']['data'], msg);\n",
       "        // Pass the mpl event to the overridden (by mpl) onmessage function.\n",
       "        ws.onmessage(msg['content']['data'])\n",
       "    });\n",
       "    return ws;\n",
       "}\n",
       "\n",
       "mpl.mpl_figure_comm = function(comm, msg) {\n",
       "    // This is the function which gets called when the mpl process\n",
       "    // starts-up an IPython Comm through the \"matplotlib\" channel.\n",
       "\n",
       "    var id = msg.content.data.id;\n",
       "    // Get hold of the div created by the display call when the Comm\n",
       "    // socket was opened in Python.\n",
       "    var element = $(\"#\" + id);\n",
       "    var ws_proxy = comm_websocket_adapter(comm)\n",
       "\n",
       "    function ondownload(figure, format) {\n",
       "        window.open(figure.imageObj.src);\n",
       "    }\n",
       "\n",
       "    var fig = new mpl.figure(id, ws_proxy,\n",
       "                           ondownload,\n",
       "                           element.get(0));\n",
       "\n",
       "    // Call onopen now - mpl needs it, as it is assuming we've passed it a real\n",
       "    // web socket which is closed, not our websocket->open comm proxy.\n",
       "    ws_proxy.onopen();\n",
       "\n",
       "    fig.parent_element = element.get(0);\n",
       "    fig.cell_info = mpl.find_output_cell(\"<div id='\" + id + \"'></div>\");\n",
       "    if (!fig.cell_info) {\n",
       "        console.error(\"Failed to find cell for figure\", id, fig);\n",
       "        return;\n",
       "    }\n",
       "\n",
       "    var output_index = fig.cell_info[2]\n",
       "    var cell = fig.cell_info[0];\n",
       "\n",
       "};\n",
       "\n",
       "mpl.figure.prototype.handle_close = function(fig, msg) {\n",
       "    var width = fig.canvas.width/mpl.ratio\n",
       "    fig.root.unbind('remove')\n",
       "\n",
       "    // Update the output cell to use the data from the current canvas.\n",
       "    fig.push_to_output();\n",
       "    var dataURL = fig.canvas.toDataURL();\n",
       "    // Re-enable the keyboard manager in IPython - without this line, in FF,\n",
       "    // the notebook keyboard shortcuts fail.\n",
       "    IPython.keyboard_manager.enable()\n",
       "    $(fig.parent_element).html('<img src=\"' + dataURL + '\" width=\"' + width + '\">');\n",
       "    fig.close_ws(fig, msg);\n",
       "}\n",
       "\n",
       "mpl.figure.prototype.close_ws = function(fig, msg){\n",
       "    fig.send_message('closing', msg);\n",
       "    // fig.ws.close()\n",
       "}\n",
       "\n",
       "mpl.figure.prototype.push_to_output = function(remove_interactive) {\n",
       "    // Turn the data on the canvas into data in the output cell.\n",
       "    var width = this.canvas.width/mpl.ratio\n",
       "    var dataURL = this.canvas.toDataURL();\n",
       "    this.cell_info[1]['text/html'] = '<img src=\"' + dataURL + '\" width=\"' + width + '\">';\n",
       "}\n",
       "\n",
       "mpl.figure.prototype.updated_canvas_event = function() {\n",
       "    // Tell IPython that the notebook contents must change.\n",
       "    IPython.notebook.set_dirty(true);\n",
       "    this.send_message(\"ack\", {});\n",
       "    var fig = this;\n",
       "    // Wait a second, then push the new image to the DOM so\n",
       "    // that it is saved nicely (might be nice to debounce this).\n",
       "    setTimeout(function () { fig.push_to_output() }, 1000);\n",
       "}\n",
       "\n",
       "mpl.figure.prototype._init_toolbar = function() {\n",
       "    var fig = this;\n",
       "\n",
       "    var nav_element = $('<div/>')\n",
       "    nav_element.attr('style', 'width: 100%');\n",
       "    this.root.append(nav_element);\n",
       "\n",
       "    // Define a callback function for later on.\n",
       "    function toolbar_event(event) {\n",
       "        return fig.toolbar_button_onclick(event['data']);\n",
       "    }\n",
       "    function toolbar_mouse_event(event) {\n",
       "        return fig.toolbar_button_onmouseover(event['data']);\n",
       "    }\n",
       "\n",
       "    for(var toolbar_ind in mpl.toolbar_items){\n",
       "        var name = mpl.toolbar_items[toolbar_ind][0];\n",
       "        var tooltip = mpl.toolbar_items[toolbar_ind][1];\n",
       "        var image = mpl.toolbar_items[toolbar_ind][2];\n",
       "        var method_name = mpl.toolbar_items[toolbar_ind][3];\n",
       "\n",
       "        if (!name) { continue; };\n",
       "\n",
       "        var button = $('<button class=\"btn btn-default\" href=\"#\" title=\"' + name + '\"><i class=\"fa ' + image + ' fa-lg\"></i></button>');\n",
       "        button.click(method_name, toolbar_event);\n",
       "        button.mouseover(tooltip, toolbar_mouse_event);\n",
       "        nav_element.append(button);\n",
       "    }\n",
       "\n",
       "    // Add the status bar.\n",
       "    var status_bar = $('<span class=\"mpl-message\" style=\"text-align:right; float: right;\"/>');\n",
       "    nav_element.append(status_bar);\n",
       "    this.message = status_bar[0];\n",
       "\n",
       "    // Add the close button to the window.\n",
       "    var buttongrp = $('<div class=\"btn-group inline pull-right\"></div>');\n",
       "    var button = $('<button class=\"btn btn-mini btn-primary\" href=\"#\" title=\"Stop Interaction\"><i class=\"fa fa-power-off icon-remove icon-large\"></i></button>');\n",
       "    button.click(function (evt) { fig.handle_close(fig, {}); } );\n",
       "    button.mouseover('Stop Interaction', toolbar_mouse_event);\n",
       "    buttongrp.append(button);\n",
       "    var titlebar = this.root.find($('.ui-dialog-titlebar'));\n",
       "    titlebar.prepend(buttongrp);\n",
       "}\n",
       "\n",
       "mpl.figure.prototype._root_extra_style = function(el){\n",
       "    var fig = this\n",
       "    el.on(\"remove\", function(){\n",
       "\tfig.close_ws(fig, {});\n",
       "    });\n",
       "}\n",
       "\n",
       "mpl.figure.prototype._canvas_extra_style = function(el){\n",
       "    // this is important to make the div 'focusable\n",
       "    el.attr('tabindex', 0)\n",
       "    // reach out to IPython and tell the keyboard manager to turn it's self\n",
       "    // off when our div gets focus\n",
       "\n",
       "    // location in version 3\n",
       "    if (IPython.notebook.keyboard_manager) {\n",
       "        IPython.notebook.keyboard_manager.register_events(el);\n",
       "    }\n",
       "    else {\n",
       "        // location in version 2\n",
       "        IPython.keyboard_manager.register_events(el);\n",
       "    }\n",
       "\n",
       "}\n",
       "\n",
       "mpl.figure.prototype._key_event_extra = function(event, name) {\n",
       "    var manager = IPython.notebook.keyboard_manager;\n",
       "    if (!manager)\n",
       "        manager = IPython.keyboard_manager;\n",
       "\n",
       "    // Check for shift+enter\n",
       "    if (event.shiftKey && event.which == 13) {\n",
       "        this.canvas_div.blur();\n",
       "        event.shiftKey = false;\n",
       "        // Send a \"J\" for go to next cell\n",
       "        event.which = 74;\n",
       "        event.keyCode = 74;\n",
       "        manager.command_mode();\n",
       "        manager.handle_keydown(event);\n",
       "    }\n",
       "}\n",
       "\n",
       "mpl.figure.prototype.handle_save = function(fig, msg) {\n",
       "    fig.ondownload(fig, null);\n",
       "}\n",
       "\n",
       "\n",
       "mpl.find_output_cell = function(html_output) {\n",
       "    // Return the cell and output element which can be found *uniquely* in the notebook.\n",
       "    // Note - this is a bit hacky, but it is done because the \"notebook_saving.Notebook\"\n",
       "    // IPython event is triggered only after the cells have been serialised, which for\n",
       "    // our purposes (turning an active figure into a static one), is too late.\n",
       "    var cells = IPython.notebook.get_cells();\n",
       "    var ncells = cells.length;\n",
       "    for (var i=0; i<ncells; i++) {\n",
       "        var cell = cells[i];\n",
       "        if (cell.cell_type === 'code'){\n",
       "            for (var j=0; j<cell.output_area.outputs.length; j++) {\n",
       "                var data = cell.output_area.outputs[j];\n",
       "                if (data.data) {\n",
       "                    // IPython >= 3 moved mimebundle to data attribute of output\n",
       "                    data = data.data;\n",
       "                }\n",
       "                if (data['text/html'] == html_output) {\n",
       "                    return [cell, data, j];\n",
       "                }\n",
       "            }\n",
       "        }\n",
       "    }\n",
       "}\n",
       "\n",
       "// Register the function which deals with the matplotlib target/channel.\n",
       "// The kernel may be null if the page has been refreshed.\n",
       "if (IPython.notebook.kernel != null) {\n",
       "    IPython.notebook.kernel.comm_manager.register_target('matplotlib', mpl.mpl_figure_comm);\n",
       "}\n"
      ],
      "text/plain": [
       "<IPython.core.display.Javascript object>"
      ]
     },
     "metadata": {},
     "output_type": "display_data"
    },
    {
     "data": {
      "text/html": [
       "<img src=\"data:image/png;base64,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\" width=\"640\">"
      ],
      "text/plain": [
       "<IPython.core.display.HTML object>"
      ]
     },
     "metadata": {},
     "output_type": "display_data"
    },
    {
     "data": {
      "text/plain": [
       "<matplotlib.legend.Legend at 0x7fb7611ccf98>"
      ]
     },
     "execution_count": 112,
     "metadata": {},
     "output_type": "execute_result"
    }
   ],
   "source": [
    "_, ax = plt.subplots(1,1)\n",
    "ax.plot(thresholds, precisions[:-1], label=\"Precision\")\n",
    "ax.plot(thresholds, recalls[:-1], label=\"Recall\")\n",
    "ax.set_xlabel(\"Threshold\")\n",
    "ax.set_title(\"Random Forest\", fontsize=25)\n",
    "ax.legend()"
   ]
  },
  {
   "cell_type": "markdown",
   "metadata": {},
   "source": [
    "How much time does the Random Forest model potentially save scientists?"
   ]
  },
  {
   "cell_type": "code",
   "execution_count": 113,
   "metadata": {},
   "outputs": [
    {
     "data": {
      "text/plain": [
       "96250"
      ]
     },
     "execution_count": 113,
     "metadata": {},
     "output_type": "execute_result"
    }
   ],
   "source": [
    "_required_threshold = np.max(thresholds[recalls[:-1] > 0.99])\n",
    "number_images_to_check = np.sum(predicted_probas[:, 1] >= _required_threshold)\n",
    "number_images_to_check"
   ]
  },
  {
   "cell_type": "code",
   "execution_count": 114,
   "metadata": {},
   "outputs": [
    {
     "data": {
      "text/plain": [
       "0.5353378607620987"
      ]
     },
     "execution_count": 114,
     "metadata": {},
     "output_type": "execute_result"
    }
   ],
   "source": [
    "# cut total human effort in half!\n",
    "total_testing_images, _ = Z.shape \n",
    "number_images_to_check / total_testing_images"
   ]
  },
  {
   "cell_type": "markdown",
   "metadata": {},
   "source": [
    "Suppose that it takes a human one second to manually process an image. This means that it would take a human about 2 full days to process the 180,000 images in the testing data set. Using the Random Forest classifier training above one could cut the number of images in need of manual processing in half! Note also that the number of false positives, 2582, is low and implies that only 45 minutes of wasted human effort. "
   ]
  },
  {
   "cell_type": "code",
   "execution_count": null,
   "metadata": {},
   "outputs": [],
   "source": []
  }
 ],
 "metadata": {
  "kernelspec": {
   "display_name": "Python 3",
   "language": "python",
   "name": "python3"
  },
  "language_info": {
   "codemirror_mode": {
    "name": "ipython",
    "version": 3
   },
   "file_extension": ".py",
   "mimetype": "text/x-python",
   "name": "python",
   "nbconvert_exporter": "python",
   "pygments_lexer": "ipython3",
   "version": "3.6.8"
  }
 },
 "nbformat": 4,
 "nbformat_minor": 2
}
